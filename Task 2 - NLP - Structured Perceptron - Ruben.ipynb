{
 "cells": [
  {
   "cell_type": "markdown",
   "metadata": {},
   "source": [
    "# Task 2 - Natural Language Processing\n",
    "\n",
    "## Structured Perceptron\n",
    "\n",
    "### Rubén Barco Terrones - Aleix Casellas Comas - Andreu Masdeu Ninot - Pablo Lázaro Herrasti"
   ]
  },
  {
   "cell_type": "markdown",
   "metadata": {},
   "source": [
    "##### Imports"
   ]
  },
  {
   "cell_type": "code",
   "execution_count": 1,
   "metadata": {
    "collapsed": true
   },
   "outputs": [],
   "source": [
    "#### Basics\n",
    "import pandas as pd\n",
    "import numpy as np\n",
    "%matplotlib inline\n",
    "\n",
    "import pickle\n",
    "import matplotlib\n",
    "import numpy as np\n",
    "import matplotlib.pyplot as plt\n",
    "\n",
    "#### skseq Sequences\n",
    "import scipy\n",
    "import os,sys,inspect\n",
    "currentdir = os.path.dirname(os.path.abspath(inspect.getfile(inspect.currentframe())))\n",
    "parentdir = os.path.dirname(currentdir)\n",
    "sys.path.insert(0,parentdir) \n",
    "import skseq\n",
    "from skseq.sequences import sequence\n",
    "from skseq.sequences.sequence import Sequence\n",
    "from skseq.sequences.sequence_list import SequenceList\n",
    "from skseq.sequences.label_dictionary import LabelDictionary\n",
    "\n",
    "#### Feature mapper\n",
    "import pprint\n",
    "from skseq.sequences import extended_feature\n",
    "\n",
    "#### Structured perceptron\n",
    "import skseq.readers.pos_corpus\n",
    "import skseq.sequences.structured_perceptron as spc"
   ]
  },
  {
   "cell_type": "markdown",
   "metadata": {},
   "source": [
    "# TEST AND PREPROCESSING (NER_DATASET)"
   ]
  },
  {
   "cell_type": "code",
   "execution_count": 2,
   "metadata": {},
   "outputs": [],
   "source": [
    "# data = pd.read_csv(\"ner_dataset.csv\",encoding=\"latin1\")\n",
    "# data.head()"
   ]
  },
  {
   "cell_type": "markdown",
   "metadata": {},
   "source": [
    "### Preparing data"
   ]
  },
  {
   "cell_type": "code",
   "execution_count": 3,
   "metadata": {
    "collapsed": true
   },
   "outputs": [],
   "source": [
    "def build_word_to_pos(X):\n",
    "\n",
    "    word_to_pos = {}\n",
    "    i = 0\n",
    "    for s in X:\n",
    "        for w in s:\n",
    "            if w not in word_to_pos:\n",
    "                word_to_pos[w] = i\n",
    "                i +=1\n",
    "                \n",
    "    pos_to_word = {v: k for k, v in word_to_pos.items()}\n",
    "    return word_to_pos, pos_to_word\n",
    "            \n",
    "def build_tag_to_pos(Y):\n",
    "    tag_to_pos = {}\n",
    "    i = 0\n",
    "    for s in Y:\n",
    "        for t in s:\n",
    "            if t not in tag_to_pos:\n",
    "                tag_to_pos[t] = i\n",
    "                i +=1\n",
    "    pos_to_tag = {v: k for k, v in tag_to_pos.items()}\n",
    "\n",
    "    return tag_to_pos, pos_to_tag"
   ]
  },
  {
   "cell_type": "markdown",
   "metadata": {},
   "source": [
    "### Train"
   ]
  },
  {
   "cell_type": "code",
   "execution_count": 4,
   "metadata": {
    "collapsed": true
   },
   "outputs": [],
   "source": [
    "# sentence_formatter = \"Sentence: {}\"\n",
    "\n",
    "# last_n_train = 35971\n",
    "# end_train   = data.index[data[\"Sentence #\"] == sentence_formatter.format(last_n_train)][0]\n",
    "# train = data[0:end_train]\n",
    "\n",
    "# n_sentences_train = len(list(set(train[\"Sentence #\"])))\n",
    "# first_n_train = 1\n",
    "# last_n_train = last_n_train -1\n",
    "# print(n_sentences)"
   ]
  },
  {
   "cell_type": "code",
   "execution_count": 5,
   "metadata": {
    "collapsed": true
   },
   "outputs": [],
   "source": [
    "# n_sentences_train = len(list(set(train[\"Sentence #\"])))"
   ]
  },
  {
   "cell_type": "code",
   "execution_count": 6,
   "metadata": {
    "collapsed": true
   },
   "outputs": [],
   "source": [
    "# %%time \n",
    "# sentence_formatter = \"Sentence: {}\"\n",
    "\n",
    "# for s_id in  range(first_n_train, last_n_train):\n",
    "#     print(\"current {}/{}\".format(s_id,last_n_train), end=\"\\r\")\n",
    "#     sentence_id = sentence_formatter.format(s_id)\n",
    "#     sentence_id_next = sentence_formatter.format(s_id + 1)\n",
    "#     start = train.index[train[\"Sentence #\"] == sentence_id][0]\n",
    "#     end   = train.index[train[\"Sentence #\"] == sentence_id_next][0]\n",
    "#     train[\"Sentence #\"][start:end] = sentence_id\n",
    "    \n",
    "# sentence_id = sentence_formatter.format(last_n_train)\n",
    "# start = train.index[train[\"Sentence #\"] == sentence_id][0]\n",
    "# end   = train.shape[0]\n",
    "# train[\"Sentence #\"][start:end] = sentence_id"
   ]
  },
  {
   "cell_type": "code",
   "execution_count": 7,
   "metadata": {
    "collapsed": true
   },
   "outputs": [],
   "source": [
    "# train.to_csv('train.csv', sep='\\t')"
   ]
  },
  {
   "cell_type": "code",
   "execution_count": 8,
   "metadata": {
    "collapsed": true
   },
   "outputs": [],
   "source": [
    "# X_train = []\n",
    "# Y_train = []\n",
    "\n",
    "# sentence_formatter = \"Sentence: {}\"\n",
    "\n",
    "# for i in range(1,n_sentences_train):\n",
    "#     s = sentence_formatter.format(i)\n",
    "#     X_train.append(list(train[train[\"Sentence #\"]==s][\"Word\"].values))\n",
    "#     Y_train.append(list(train[train[\"Sentence #\"]==s][\"Tag\"].values))"
   ]
  },
  {
   "cell_type": "code",
   "execution_count": 9,
   "metadata": {
    "collapsed": true
   },
   "outputs": [],
   "source": [
    "# with open(\"X_train.txt\", \"wb\") as fp:   #Pickling\n",
    "#     pickle.dump(X_train, fp)\n",
    "# with open(\"Y_train.txt\", \"wb\") as fp:   #Pickling\n",
    "#     pickle.dump(Y_train, fp)"
   ]
  },
  {
   "cell_type": "code",
   "execution_count": 10,
   "metadata": {
    "collapsed": true
   },
   "outputs": [],
   "source": [
    "with open(\"X_train.txt\", \"rb\") as fp:   # Unpickling\n",
    "    X_train = pickle.load(fp)\n",
    "with open(\"Y_train.txt\", \"rb\") as fp:   # Unpickling\n",
    "    Y_train = pickle.load(fp)"
   ]
  },
  {
   "cell_type": "code",
   "execution_count": 11,
   "metadata": {},
   "outputs": [
    {
     "data": {
      "text/plain": [
       "'Thousands/O of/O demonstrators/O have/O marched/O through/O London/B-geo to/O protest/O the/O war/O in/O Iraq/B-geo and/O demand/O the/O withdrawal/O of/O British/B-gpe troops/O from/O that/O country/O ./O'"
      ]
     },
     "execution_count": 11,
     "metadata": {},
     "output_type": "execute_result"
    }
   ],
   "source": [
    "i = 0\n",
    "xy = [\"{}/{}\".format(x,y) for x,y in zip(X_train[i],Y_train[i])]\n",
    "\" \".join(xy)"
   ]
  },
  {
   "cell_type": "code",
   "execution_count": 12,
   "metadata": {},
   "outputs": [
    {
     "data": {
      "text/plain": [
       "(30863, 17)"
      ]
     },
     "execution_count": 12,
     "metadata": {},
     "output_type": "execute_result"
    }
   ],
   "source": [
    "word_to_pos, pos_to_word = build_word_to_pos(X_train)\n",
    "tag_to_pos, pos_to_tag  = build_tag_to_pos(Y_train)\n",
    "\n",
    "len(word_to_pos), len(tag_to_pos)"
   ]
  },
  {
   "cell_type": "code",
   "execution_count": 13,
   "metadata": {
    "collapsed": true
   },
   "outputs": [],
   "source": [
    "X_ids_train = [[word_to_pos[w] for w in s] for s in X_train]\n",
    "Y_ids_train = [[tag_to_pos[t] for t in s] for s in Y_train]"
   ]
  },
  {
   "cell_type": "code",
   "execution_count": 14,
   "metadata": {
    "collapsed": true
   },
   "outputs": [],
   "source": [
    "# sequence_list = SequenceList(LabelDictionary(word_to_pos), LabelDictionary(tag_to_pos))\n",
    "# for x,y in zip(X_train,Y_train):\n",
    "#     sequence_list.add_sequence(x,y, LabelDictionary(word_to_pos), LabelDictionary(tag_to_pos))"
   ]
  },
  {
   "cell_type": "code",
   "execution_count": 15,
   "metadata": {},
   "outputs": [],
   "source": [
    "# sequence_list[0].to_words(sequence_list=sequence_list)"
   ]
  },
  {
   "cell_type": "code",
   "execution_count": 16,
   "metadata": {
    "collapsed": true
   },
   "outputs": [],
   "source": [
    "# with open('sequence_list_train', 'wb') as sqq:\n",
    " \n",
    "#     pickle.dump(sequence_list, sqq)"
   ]
  },
  {
   "cell_type": "code",
   "execution_count": 17,
   "metadata": {
    "collapsed": true
   },
   "outputs": [],
   "source": [
    "with open(\"sequence_list_train\", \"rb\") as fp:   # Unpickling\n",
    "    sequence_list_train = pickle.load(fp)"
   ]
  },
  {
   "cell_type": "code",
   "execution_count": 18,
   "metadata": {},
   "outputs": [
    {
     "data": {
      "text/plain": [
       "49/0 50/0 9/0 51/0 1/0 52/0 53/0 54/0 55/0 56/0 57/0 58/0 59/0 60/0 21/0 "
      ]
     },
     "execution_count": 18,
     "metadata": {},
     "output_type": "execute_result"
    }
   ],
   "source": [
    "sequence_list_train[3]"
   ]
  },
  {
   "cell_type": "markdown",
   "metadata": {},
   "source": [
    "### Test"
   ]
  },
  {
   "cell_type": "code",
   "execution_count": 19,
   "metadata": {},
   "outputs": [],
   "source": [
    "# sentence_formatter = \"Sentence: {}\"\n",
    "\n",
    "# test = data[end_train:len(data)]\n",
    "\n",
    "# n_sentences_test = len(list(set(test[\"Sentence #\"])))\n",
    "# first_n_test = last_n_train + 1\n",
    "# last_n_test = 47959\n",
    "# print(n_sentences_test)"
   ]
  },
  {
   "cell_type": "code",
   "execution_count": 20,
   "metadata": {},
   "outputs": [],
   "source": [
    "# %%time \n",
    "# sentence_formatter = \"Sentence: {}\"\n",
    "\n",
    "# for s_id in  range(first_n_test, last_n_test):\n",
    "#     print(\"current {}/{}\".format(s_id,last_n_test), end=\"\\r\")\n",
    "#     sentence_id = sentence_formatter.format(s_id)\n",
    "#     sentence_id_next = sentence_formatter.format(s_id + 1)\n",
    "#     start = data.index[data[\"Sentence #\"] == sentence_id][0]\n",
    "#     end   = data.index[data[\"Sentence #\"] == sentence_id_next][0]\n",
    "#     data[\"Sentence #\"][start:end] = sentence_id\n",
    "    \n",
    "# sentence_id = sentence_formatter.format(last_n_test)\n",
    "# start = data.index[data[\"Sentence #\"] == sentence_id][0]\n",
    "# end   = data.shape[0]\n",
    "# data[\"Sentence #\"][start:end] = sentence_id"
   ]
  },
  {
   "cell_type": "code",
   "execution_count": 21,
   "metadata": {
    "collapsed": true
   },
   "outputs": [],
   "source": [
    "# test.to_csv('test.csv', sep='\\t')"
   ]
  },
  {
   "cell_type": "code",
   "execution_count": 22,
   "metadata": {
    "collapsed": true
   },
   "outputs": [],
   "source": [
    "# X_test = []\n",
    "# Y_test = []\n",
    "\n",
    "# sentence_formatter = \"Sentence: {}\"\n",
    "\n",
    "# for i in range(n_sentences_train+1,n_sentences_train+n_sentences_test-1):\n",
    "#     s = sentence_formatter.format(i)\n",
    "#     X_test.append(list(data[data[\"Sentence #\"]==s][\"Word\"].values))\n",
    "#     Y_test.append(list(data[data[\"Sentence #\"]==s][\"Tag\"].values))"
   ]
  },
  {
   "cell_type": "code",
   "execution_count": 23,
   "metadata": {
    "collapsed": true
   },
   "outputs": [],
   "source": [
    "# with open(\"X_test.txt\", \"wb\") as fp:   #Pickling\n",
    "#     pickle.dump(X_test, fp)\n",
    "# with open(\"Y_test.txt\", \"wb\") as fp:   #Pickling\n",
    "#     pickle.dump(Y_test, fp)"
   ]
  },
  {
   "cell_type": "code",
   "execution_count": 24,
   "metadata": {
    "collapsed": true
   },
   "outputs": [],
   "source": [
    "with open(\"X_test.txt\", \"rb\") as fp:   # Unpickling\n",
    "    X_test = pickle.load(fp)\n",
    "with open(\"Y_test.txt\", \"rb\") as fp:   # Unpickling\n",
    "    Y_test = pickle.load(fp)"
   ]
  },
  {
   "cell_type": "code",
   "execution_count": 25,
   "metadata": {},
   "outputs": [
    {
     "data": {
      "text/plain": [
       "'Officials/O said/O Sunday/B-tim Jean/B-per Rene/I-per Anthony/I-per was/O killed/O in/O a/O shootout/O with/O police/O near/O the/O capital/O city/O of/O Port-au-Prince/B-geo ./O'"
      ]
     },
     "execution_count": 25,
     "metadata": {},
     "output_type": "execute_result"
    }
   ],
   "source": [
    "i = 0\n",
    "xy = [\"{}/{}\".format(x,y) for x,y in zip(X_test[i],Y_test[i])]\n",
    "\" \".join(xy)"
   ]
  },
  {
   "cell_type": "code",
   "execution_count": 27,
   "metadata": {},
   "outputs": [],
   "source": [
    "#X_ids = [[word_to_pos[w] for w in s if w in word_to_pos] for s in X_test]\n",
    "Y_ids = [[tag_to_pos[t] for t in s] for s in Y_test]"
   ]
  },
  {
   "cell_type": "code",
   "execution_count": 28,
   "metadata": {},
   "outputs": [],
   "source": [
    "sequence_list_test_ids = []\n",
    "for x,y in zip(X_test,Y_ids):\n",
    "    sequence_list_test_ids.append(Sequence(x,y))"
   ]
  },
  {
   "cell_type": "code",
   "execution_count": 30,
   "metadata": {},
   "outputs": [
    {
     "data": {
      "text/plain": [
       "Officials/0 said/0 Sunday/7 Jean/3 Rene/10 Anthony/10 was/0 killed/0 in/0 a/0 shootout/0 with/0 police/0 near/0 the/0 capital/0 city/0 of/0 Port-au-Prince/1 ./0 "
      ]
     },
     "execution_count": 30,
     "metadata": {},
     "output_type": "execute_result"
    }
   ],
   "source": [
    "sequence_list_test_ids[0]"
   ]
  },
  {
   "cell_type": "code",
   "execution_count": 31,
   "metadata": {
    "collapsed": true
   },
   "outputs": [],
   "source": [
    "sequence_list_test_tags = []\n",
    "for x,y in zip(X_test,Y_test):\n",
    "    sequence_list_test_tags.append(Sequence(x,y))"
   ]
  },
  {
   "cell_type": "code",
   "execution_count": 32,
   "metadata": {},
   "outputs": [
    {
     "data": {
      "text/plain": [
       "Officials/O said/O Sunday/B-tim Jean/B-per Rene/I-per Anthony/I-per was/O killed/O in/O a/O shootout/O with/O police/O near/O the/O capital/O city/O of/O Port-au-Prince/B-geo ./O "
      ]
     },
     "execution_count": 32,
     "metadata": {},
     "output_type": "execute_result"
    }
   ],
   "source": [
    "sequence_list_test_tags[0]"
   ]
  },
  {
   "cell_type": "code",
   "execution_count": null,
   "metadata": {
    "collapsed": true
   },
   "outputs": [],
   "source": [
    "#with open('sequence_list_test', 'wb') as sqq:\n",
    "#    pickle.dump(sequence_list_test, sqq)"
   ]
  },
  {
   "cell_type": "code",
   "execution_count": null,
   "metadata": {
    "collapsed": true
   },
   "outputs": [],
   "source": [
    "#with open(\"sequence_list_test\", \"rb\") as fp:   # Unpickling\n",
    "#    sequence_list_test = pickle.load(fp)"
   ]
  },
  {
   "cell_type": "markdown",
   "metadata": {},
   "source": [
    "### Extended features"
   ]
  },
  {
   "cell_type": "code",
   "execution_count": 33,
   "metadata": {},
   "outputs": [
    {
     "name": "stdout",
     "output_type": "stream",
     "text": [
      "['feature_dict',\n",
      " 'feature_list',\n",
      " 'add_features',\n",
      " 'dataset',\n",
      " 'node_feature_cache',\n",
      " 'initial_state_feature_cache',\n",
      " 'final_state_feature_cache',\n",
      " 'edge_feature_cache']\n"
     ]
    }
   ],
   "source": [
    "ex_feature_mapper = skseq.sequences.extended_feature.ExtendedFeatures(sequence_list_train) \n",
    "ex_feature_mapper.build_features()\n",
    "pprint.pprint(list(ex_feature_mapper.__dict__.keys()))"
   ]
  },
  {
   "cell_type": "code",
   "execution_count": 34,
   "metadata": {},
   "outputs": [
    {
     "data": {
      "text/plain": [
       "38313"
      ]
     },
     "execution_count": 34,
     "metadata": {},
     "output_type": "execute_result"
    }
   ],
   "source": [
    "len(ex_feature_mapper.feature_dict)"
   ]
  },
  {
   "cell_type": "code",
   "execution_count": 35,
   "metadata": {},
   "outputs": [
    {
     "data": {
      "text/plain": [
       "{'init_tag:O': 0,\n",
       " 'id:Thousands::O': 1,\n",
       " 'id:of::O': 2,\n",
       " 'prev_tag:O::O': 3,\n",
       " 'id:demonstrators::O': 4,\n",
       " 'id:have::O': 5,\n",
       " 'id:marched::O': 6,\n",
       " 'id:through::O': 7,\n",
       " 'id:London::B-geo': 8,\n",
       " 'prev_tag:O::B-geo': 9,\n",
       " 'id:to::O': 10,\n",
       " 'prev_tag:B-geo::O': 11,\n",
       " 'id:protest::O': 12,\n",
       " 'id:the::O': 13,\n",
       " 'id:war::O': 14,\n",
       " 'id:in::O': 15,\n",
       " 'id:Iraq::B-geo': 16,\n",
       " 'id:and::O': 17,\n",
       " 'id:demand::O': 18,\n",
       " 'id:withdrawal::O': 19,\n",
       " 'id:British::B-gpe': 20,\n",
       " 'prev_tag:O::B-gpe': 21,\n",
       " 'id:troops::O': 22,\n",
       " 'prev_tag:B-gpe::O': 23,\n",
       " 'id:from::O': 24,\n",
       " 'id:that::O': 25,\n",
       " 'id:country::O': 26,\n",
       " 'id:.::O': 27,\n",
       " 'final_prev_tag:O': 28,\n",
       " 'id:Families::O': 29,\n",
       " 'id:soldiers::O': 30,\n",
       " 'id:killed::O': 31,\n",
       " 'id:conflict::O': 32,\n",
       " 'id:joined::O': 33,\n",
       " 'id:protesters::O': 34,\n",
       " 'id:who::O': 35,\n",
       " 'id:carried::O': 36,\n",
       " 'id:banners::O': 37,\n",
       " 'id:with::O': 38,\n",
       " 'id:such::O': 39,\n",
       " 'id:slogans::O': 40,\n",
       " 'id:as::O': 41,\n",
       " 'id:\"::O': 42,\n",
       " 'id:Bush::B-per': 43,\n",
       " 'prev_tag:O::B-per': 44,\n",
       " 'id:Number::O': 45,\n",
       " 'prev_tag:B-per::O': 46,\n",
       " 'id:One::O': 47,\n",
       " 'id:Terrorist::O': 48,\n",
       " 'id:Stop::O': 49,\n",
       " 'id:Bombings::O': 50,\n",
       " 'id:They::O': 51,\n",
       " 'id:Houses::O': 52,\n",
       " 'id:Parliament::O': 53,\n",
       " 'id:a::O': 54,\n",
       " 'id:rally::O': 55,\n",
       " 'id:Hyde::B-geo': 56,\n",
       " 'id:Park::I-geo': 57,\n",
       " 'prev_tag:B-geo::I-geo': 58,\n",
       " 'prev_tag:I-geo::O': 59,\n",
       " 'id:Police::O': 60,\n",
       " 'id:put::O': 61,\n",
       " 'id:number::O': 62,\n",
       " 'id:marchers::O': 63,\n",
       " 'id:at::O': 64,\n",
       " 'id:10,000::O': 65,\n",
       " 'id:while::O': 66,\n",
       " 'id:organizers::O': 67,\n",
       " 'id:claimed::O': 68,\n",
       " 'id:it::O': 69,\n",
       " 'id:was::O': 70,\n",
       " 'id:1,00,000::O': 71,\n",
       " 'id:The::O': 72,\n",
       " 'id:comes::O': 73,\n",
       " 'id:on::O': 74,\n",
       " 'id:eve::O': 75,\n",
       " 'id:annual::O': 76,\n",
       " 'id:conference::O': 77,\n",
       " 'id:Britain::B-geo': 78,\n",
       " \"id:'s::O\": 79,\n",
       " 'id:ruling::O': 80,\n",
       " 'id:Labor::B-org': 81,\n",
       " 'prev_tag:O::B-org': 82,\n",
       " 'id:Party::I-org': 83,\n",
       " 'prev_tag:B-org::I-org': 84,\n",
       " 'prev_tag:I-org::O': 85,\n",
       " 'id:southern::O': 86,\n",
       " 'id:English::B-gpe': 87,\n",
       " 'id:seaside::O': 88,\n",
       " 'id:resort::O': 89,\n",
       " 'id:Brighton::B-geo': 90,\n",
       " 'id:party::O': 91,\n",
       " 'id:is::O': 92,\n",
       " 'id:divided::O': 93,\n",
       " 'id:over::O': 94,\n",
       " 'id:Britain::B-gpe': 95,\n",
       " 'id:participation::O': 96,\n",
       " 'id:continued::O': 97,\n",
       " 'id:deployment::O': 98,\n",
       " 'id:8,500::O': 99,\n",
       " 'id:march::O': 100,\n",
       " 'id:came::O': 101,\n",
       " 'id:ahead::O': 102,\n",
       " 'id:anti-war::O': 103,\n",
       " 'hyphen::O': 104,\n",
       " 'id:protests::O': 105,\n",
       " 'id:today::O': 106,\n",
       " 'id:other::O': 107,\n",
       " 'id:cities::O': 108,\n",
       " 'id:,::O': 109,\n",
       " 'id:including::O': 110,\n",
       " 'id:Rome::B-geo': 111,\n",
       " 'id:Paris::B-geo': 112,\n",
       " 'id:Madrid::B-geo': 113,\n",
       " 'id:International::B-org': 114,\n",
       " 'id:Atomic::I-org': 115,\n",
       " 'id:Energy::I-org': 116,\n",
       " 'prev_tag:I-org::I-org': 117,\n",
       " 'id:Agency::I-org': 118,\n",
       " 'id:hold::O': 119,\n",
       " 'id:second::O': 120,\n",
       " 'id:day::O': 121,\n",
       " 'id:talks::O': 122,\n",
       " 'id:Vienna::B-geo': 123,\n",
       " 'id:Wednesday::B-tim': 124,\n",
       " 'prev_tag:B-geo::B-tim': 125,\n",
       " 'prev_tag:B-tim::O': 126,\n",
       " 'id:how::O': 127,\n",
       " 'id:respond::O': 128,\n",
       " 'id:Iran::B-gpe': 129,\n",
       " 'id:resumption::O': 130,\n",
       " 'id:low-level::O': 131,\n",
       " 'id:uranium::O': 132,\n",
       " 'id:conversion::O': 133,\n",
       " 'init_tag:B-gpe': 134,\n",
       " 'id:this::O': 135,\n",
       " 'id:week::O': 136,\n",
       " 'id:restarted::O': 137,\n",
       " 'id:parts::O': 138,\n",
       " 'id:process::O': 139,\n",
       " 'id:its::O': 140,\n",
       " 'id:Isfahan::B-geo': 141,\n",
       " 'id:nuclear::O': 142,\n",
       " 'id:plant::O': 143,\n",
       " 'id:Iranian::B-gpe': 144,\n",
       " 'id:officials::O': 145,\n",
       " 'id:say::O': 146,\n",
       " 'id:they::O': 147,\n",
       " 'id:expect::O': 148,\n",
       " 'id:get::O': 149,\n",
       " 'id:access::O': 150,\n",
       " 'id:sealed::O': 151,\n",
       " 'id:sensitive::O': 152,\n",
       " 'prev_tag:O::B-tim': 153,\n",
       " 'id:after::O': 154,\n",
       " 'id:an::O': 155,\n",
       " 'id:IAEA::B-org': 156,\n",
       " 'id:surveillance::O': 157,\n",
       " 'prev_tag:B-org::O': 158,\n",
       " 'id:system::O': 159,\n",
       " 'id:begins::O': 160,\n",
       " 'id:functioning::O': 161,\n",
       " 'id:step::O': 162,\n",
       " 'id:will::O': 163,\n",
       " 'id:allow::O': 164,\n",
       " 'id:facility::O': 165,\n",
       " 'id:operate::O': 166,\n",
       " 'id:full::O': 167,\n",
       " 'id:capacity::O': 168,\n",
       " 'id:European::B-org': 169,\n",
       " 'id:Union::I-org': 170,\n",
       " 'id:U.S.::B-gpe': 171,\n",
       " 'id:backing::O': 172,\n",
       " 'id:has::O': 173,\n",
       " 'id:threatened::O': 174,\n",
       " 'id:refer::O': 175,\n",
       " 'id:U.N.::B-org': 176,\n",
       " 'id:Security::I-org': 177,\n",
       " 'id:Council::I-org': 178,\n",
       " 'id:which::O': 179,\n",
       " 'id:could::O': 180,\n",
       " 'id:impose::O': 181,\n",
       " 'id:sanctions::O': 182,\n",
       " 'id:if::O': 183,\n",
       " 'id:finds::O': 184,\n",
       " 'id:Tehran::B-gpe': 185,\n",
       " 'id:violated::O': 186,\n",
       " 'id:Nuclear::B-art': 187,\n",
       " 'prev_tag:O::B-art': 188,\n",
       " 'id:Non-Proliferation::I-art': 189,\n",
       " 'hyphen::I-art': 190,\n",
       " 'prev_tag:B-art::I-art': 191,\n",
       " 'id:treaty::O': 192,\n",
       " 'prev_tag:I-art::O': 193,\n",
       " 'id:new::O': 194,\n",
       " 'id:President::B-per': 195,\n",
       " 'id:Mahmoud::I-per': 196,\n",
       " 'prev_tag:B-per::I-per': 197,\n",
       " 'id:Ahmadinejad::I-per': 198,\n",
       " 'prev_tag:I-per::I-per': 199,\n",
       " 'id:said::O': 200,\n",
       " 'prev_tag:I-per::O': 201,\n",
       " 'id:Tuesday::B-tim': 202,\n",
       " 'id:European::B-gpe': 203,\n",
       " 'id:incentives::O': 204,\n",
       " 'id:aimed::O': 205,\n",
       " 'id:persuading::O': 206,\n",
       " 'id:end::O': 207,\n",
       " 'id:fuel::O': 208,\n",
       " 'id:program::O': 209,\n",
       " 'id:are::O': 210,\n",
       " 'id:insult::O': 211,\n",
       " 'id:nation::O': 212,\n",
       " 'id:Two::O': 213,\n",
       " 'id:Germans::B-gpe': 214,\n",
       " 'id:four::O': 215,\n",
       " 'id:Nigerian::B-gpe': 216,\n",
       " 'id:oil::O': 217,\n",
       " 'id:workers::O': 218,\n",
       " 'id:were::O': 219,\n",
       " 'id:kidnapped::O': 220,\n",
       " 'id:by::O': 221,\n",
       " 'id:armed::O': 222,\n",
       " 'id:militants::O': 223,\n",
       " 'id:during::O': 224,\n",
       " 'id:raid::O': 225,\n",
       " 'id:boat::O': 226,\n",
       " 'id:Nigeria::B-geo': 227,\n",
       " 'id:oil-rich::O': 228,\n",
       " 'id:Delta::B-geo': 229,\n",
       " 'id:region::O': 230,\n",
       " 'id:An::O': 231,\n",
       " 'id:official::O': 232,\n",
       " 'id:German::B-gpe': 233,\n",
       " 'id:firm::O': 234,\n",
       " 'id:Bilfinger::B-org': 235,\n",
       " 'id:Berger::I-org': 236,\n",
       " 'id:Thomas::B-per': 237,\n",
       " 'id:Horbach::I-per': 238,\n",
       " 'id:gunmen::O': 239,\n",
       " 'id:stopped::O': 240,\n",
       " 'id:supply::O': 241,\n",
       " 'id:sailed::O': 242,\n",
       " 'id:State::I-geo': 243,\n",
       " 'id:Bayelsa::B-geo': 244,\n",
       " 'id:inspect::O': 245,\n",
       " 'id:offshore::O': 246,\n",
       " 'id:field::O': 247,\n",
       " 'id:owned::O': 248,\n",
       " 'id:Royal-Dutch::B-org': 249,\n",
       " 'hyphen::B-org': 250,\n",
       " 'id:Shell::I-org': 251,\n",
       " 'id:works::O': 252,\n",
       " 'id:sub-contractor::O': 253,\n",
       " 'id:for::O': 254,\n",
       " 'id:Shell::B-org': 255,\n",
       " 'id:Militant::O': 256,\n",
       " 'id:groups::O': 257,\n",
       " 'id:frequently::O': 258,\n",
       " 'id:attack::O': 259,\n",
       " 'id:operations::O': 260,\n",
       " 'id:Niger::B-geo': 261,\n",
       " 'id:Delta::I-geo': 262,\n",
       " 'id:social::O': 263,\n",
       " 'id:services::O': 264,\n",
       " 'id:better::O': 265,\n",
       " 'id:job::O': 266,\n",
       " 'id:opportunities::O': 267,\n",
       " 'id:multinational::O': 268,\n",
       " 'id:companies::O': 269,\n",
       " 'id:Poor::O': 270,\n",
       " 'id:residents::O': 271,\n",
       " 'id:often::O': 272,\n",
       " 'id:complain::O': 273,\n",
       " 'id:been::O': 274,\n",
       " 'id:cheated::O': 275,\n",
       " 'id:out::O': 276,\n",
       " 'id:huge::O': 277,\n",
       " 'id:riches::O': 278,\n",
       " 'id:extracted::O': 279,\n",
       " 'id:their::O': 280,\n",
       " 'id:tribal::O': 281,\n",
       " 'id:lands::O': 282,\n",
       " 'id:-::O': 283,\n",
       " 'id:where::O': 284,\n",
       " 'id:bulk::O': 285,\n",
       " 'id:Nigeria::B-gpe': 286,\n",
       " 'id:2.3::O': 287,\n",
       " 'id:million::O': 288,\n",
       " 'id:barrels::O': 289,\n",
       " 'id:petroleum::O': 290,\n",
       " 'id:pumped::O': 291,\n",
       " 'id:daily::O': 292,\n",
       " 'id:Suspected::O': 293,\n",
       " 'id:Islamist::O': 294,\n",
       " 'id:rebels::O': 295,\n",
       " 'id:fired::O': 296,\n",
       " 'id:mortar::O': 297,\n",
       " 'id:shells::O': 298,\n",
       " 'id:palace::O': 299,\n",
       " 'id:used::O': 300,\n",
       " 'id:Somalia::B-geo': 301,\n",
       " 'id:interim::O': 302,\n",
       " 'id:Abdullahi::I-per': 303,\n",
       " 'id:Yusuf::I-per': 304,\n",
       " 'id:Ahmad::I-per': 305,\n",
       " 'id:It::O': 306,\n",
       " 'id:not::O': 307,\n",
       " 'id:immediately::O': 308,\n",
       " 'id:clear::O': 309,\n",
       " 'id:president::O': 310,\n",
       " 'id:Mogadishu::B-geo': 311,\n",
       " 'id:when::O': 312,\n",
       " 'id:occurred::O': 313,\n",
       " 'id:or::O': 314,\n",
       " 'id:anyone::O': 315,\n",
       " 'id:hurt::O': 316,\n",
       " 'id:Local::O': 317,\n",
       " 'id:news::O': 318,\n",
       " 'id:reports::O': 319,\n",
       " 'id:least::O': 320,\n",
       " 'id:five::O': 321,\n",
       " 'id:hit::O': 322,\n",
       " 'id:compound::O': 323,\n",
       " 'id:mortars::O': 324,\n",
       " 'id:elsewhere::O': 325,\n",
       " 'id:attacks::O': 326,\n",
       " 'id:government::O': 327,\n",
       " 'id:go::O': 328,\n",
       " 'id:reconciliation::O': 329,\n",
       " 'id:more::O': 330,\n",
       " 'id:than::O': 331,\n",
       " 'id:1,300::O': 332,\n",
       " 'id:Somali::B-gpe': 333,\n",
       " 'id:elders::O': 334,\n",
       " 'id:warlords::O': 335,\n",
       " 'id:politicians::O': 336,\n",
       " 'id:invited::O': 337,\n",
       " 'id:Iraqi::B-gpe': 338,\n",
       " 'id:military::O': 339,\n",
       " 'id:tanks::O': 340,\n",
       " 'id:arrived::O': 341,\n",
       " 'id:northern::O': 342,\n",
       " 'id:city::O': 343,\n",
       " 'id:Mosul::B-geo': 344,\n",
       " 'id:offensive::O': 345,\n",
       " 'id:against::O': 346,\n",
       " 'id:al::B-org': 347,\n",
       " 'id:Qaida::I-org': 348,\n",
       " 'id:in::I-org': 349,\n",
       " 'id:Iraq::I-org': 350,\n",
       " 'id:fighters::O': 351,\n",
       " 'id:Officials::O': 352,\n",
       " 'id:many::O': 353,\n",
       " 'id:Sunni::B-geo': 354,\n",
       " 'id:Arab::I-geo': 355,\n",
       " 'id:Kurdish::B-geo': 356,\n",
       " 'id:bombings::O': 357,\n",
       " 'id:last::O': 358,\n",
       " 'id:34::O': 359,\n",
       " 'id:people::O': 360,\n",
       " 'id:wounded::O': 361,\n",
       " 'id:200::O': 362,\n",
       " 'id:commanders::O': 363,\n",
       " 'id:explained::O': 364,\n",
       " 'id:American::B-gpe': 365,\n",
       " 'id:forces::O': 366,\n",
       " 'id:participate::O': 367,\n",
       " 'id:fled::O': 368,\n",
       " 'id:successful::O': 369,\n",
       " 'id:campaigns::O': 370,\n",
       " 'id:them::O': 371,\n",
       " 'id:Anbar::B-geo': 372,\n",
       " 'id:province::O': 373,\n",
       " 'id:Baghdad::B-geo': 374,\n",
       " 'id:provinces::O': 375,\n",
       " 'init_tag:B-geo': 376,\n",
       " 'id:largest::O': 377,\n",
       " 'id:north::O': 378,\n",
       " 'id:long::O': 379,\n",
       " 'id:stronghold::O': 380,\n",
       " 'id:Sunni::B-org': 381,\n",
       " 'id:militant::O': 382,\n",
       " 'id:In::O': 383,\n",
       " 'id:violence::O': 384,\n",
       " 'id:one::O': 385,\n",
       " 'id:soldier::O': 386,\n",
       " 'id:patrol::O': 387,\n",
       " 'id:Sunday::B-tim': 388,\n",
       " 'id:Egyptian::B-gpe': 389,\n",
       " 'id:police::O': 390,\n",
       " 'id:arrested::O': 391,\n",
       " 'id:16::O': 392,\n",
       " 'id:members::O': 393,\n",
       " 'id:opposition::O': 394,\n",
       " 'id:Muslim::B-org': 395,\n",
       " 'id:Brotherhood::I-org': 396,\n",
       " 'id:prepare::O': 397,\n",
       " 'id:parliamentary::O': 398,\n",
       " 'id:runoff::O': 399,\n",
       " 'id:elections::O': 400,\n",
       " 'id:Saturday::B-tim': 401,\n",
       " 'id:arrests::O': 402,\n",
       " 'id:Friday::B-tim': 403,\n",
       " 'id:Alexandria::B-geo': 404,\n",
       " 'id:A::O': 405,\n",
       " 'id:spokesman::O': 406,\n",
       " 'id:Brotherhood::B-org': 407,\n",
       " 'id:attempt::O': 408,\n",
       " 'id:cut::O': 409,\n",
       " 'id:off::O': 410,\n",
       " 'id:supporters::O': 411,\n",
       " 'id:punishment::O': 412,\n",
       " 'id:winning::O': 413,\n",
       " 'id:seats::O': 414,\n",
       " 'id:earlier::O': 415,\n",
       " 'id:tripled::O': 416,\n",
       " 'id:strength::O': 417,\n",
       " 'id:parliament::O': 418,\n",
       " 'id:recent::O': 419,\n",
       " 'id:raising::O': 420,\n",
       " 'id:total::O': 421,\n",
       " 'id:47::O': 422,\n",
       " 'id:voters::O': 423,\n",
       " 'id:cast::O': 424,\n",
       " 'id:ballots::O': 425,\n",
       " 'id:nine::O': 426,\n",
       " 'id:no::O': 427,\n",
       " 'id:candidate::O': 428,\n",
       " 'id:won::O': 429,\n",
       " 'id:majority::O': 430,\n",
       " 'id:previous::O': 431,\n",
       " 'id:round::O': 432,\n",
       " 'id:voting::O': 433,\n",
       " 'id:banned::O': 434,\n",
       " 'id:political::O': 435,\n",
       " 'id:but::O': 436,\n",
       " 'id:endorses::O': 437,\n",
       " 'id:so-called::O': 438,\n",
       " 'id:independent::O': 439,\n",
       " 'id:candidates::O': 440,\n",
       " 'id:whose::O': 441,\n",
       " 'id:allegiance::O': 442,\n",
       " 'id:known::O': 443,\n",
       " 'id:Hardline::O': 444,\n",
       " 'id:lawmakers::O': 445,\n",
       " 'id:Pakistan::B-geo': 446,\n",
       " 'id:North::B-geo': 447,\n",
       " 'id:West::I-geo': 448,\n",
       " 'id:Frontier::I-geo': 449,\n",
       " 'prev_tag:I-geo::I-geo': 450,\n",
       " 'id:Province::I-geo': 451,\n",
       " 'id:pushed::O': 452,\n",
       " 'id:law::O': 453,\n",
       " 'id:aims::O': 454,\n",
       " 'id:ensure::O': 455,\n",
       " 'id:Islamic::O': 456,\n",
       " 'id:correctness::O': 457,\n",
       " 'id:public::O': 458,\n",
       " 'id:places::O': 459,\n",
       " 'id:establishes::O': 460,\n",
       " 'id:morality::O': 461,\n",
       " 'id:enforce::O': 462,\n",
       " 'id:decent::O': 463,\n",
       " 'id:behavior::O': 464,\n",
       " 'id:six-party::O': 465,\n",
       " 'id:coalition::O': 466,\n",
       " 'id:religious::O': 467,\n",
       " 'id:based::O': 468,\n",
       " 'id:parties::O': 469,\n",
       " 'id:Mutahida::B-org': 470,\n",
       " 'id:Majlis-e-Amal::I-org': 471,\n",
       " 'hyphen::I-org': 472,\n",
       " 'id:dominates::O': 473,\n",
       " 'id:provincial::O': 474,\n",
       " 'id:assembly::O': 475,\n",
       " 'id:so::O': 476,\n",
       " 'id:bill::O': 477,\n",
       " 'id:easily::O': 478,\n",
       " 'id:passed::O': 479,\n",
       " 'id:Thursday::B-tim': 480,\n",
       " 'id:vote::O': 481,\n",
       " 'id:68-34::O': 482,\n",
       " 'id:governor::O': 483,\n",
       " 'id:must::O': 484,\n",
       " 'id:still::O': 485,\n",
       " 'id:sign::O': 486,\n",
       " 'id:before::O': 487,\n",
       " 'id:becomes::O': 488,\n",
       " 'id:seen::O': 489,\n",
       " 'id:only::O': 490,\n",
       " 'id:formality::O': 491,\n",
       " 'id:proposed::O': 492,\n",
       " 'id:calls::O': 493,\n",
       " 'id:setting::O': 494,\n",
       " 'id:up::O': 495,\n",
       " 'id:force::O': 496,\n",
       " 'id:make::O': 497,\n",
       " 'id:sure::O': 498,\n",
       " 'id:adhere::O': 499,\n",
       " 'id:values::O': 500,\n",
       " 'id:entertainment::O': 501,\n",
       " 'id:outlets::O': 502,\n",
       " 'id:close::O': 503,\n",
       " 'id:weekly::O': 504,\n",
       " 'id:prayers::O': 505,\n",
       " 'id:Violators::O': 506,\n",
       " 'id:be::O': 507,\n",
       " 'id:jailed::O': 508,\n",
       " 'id:six::O': 509,\n",
       " 'id:months::O': 510,\n",
       " 'id:denounced::O': 511,\n",
       " 'id:measure::O': 512,\n",
       " 'id:comparing::O': 513,\n",
       " 'id:draconian::O': 514,\n",
       " 'id:rule::O': 515,\n",
       " 'id:former::O': 516,\n",
       " 'id:Taleban::B-org': 517,\n",
       " 'id:neighboring::O': 518,\n",
       " 'id:Afghanistan::B-geo': 519,\n",
       " 'id:man::O': 520,\n",
       " 'id:dressed::O': 521,\n",
       " 'id:suicide::O': 522,\n",
       " 'id:bomber::O': 523,\n",
       " 'id:demonstration::O': 524,\n",
       " 'id:publication::O': 525,\n",
       " 'id:cartoons::O': 526,\n",
       " 'id:depicting::O': 527,\n",
       " 'id:Islam::B-org': 528,\n",
       " 'id:Prophet::B-per': 529,\n",
       " 'id:Muhammad::I-per': 530,\n",
       " 'id:Bedfordshire::B-gpe': 531,\n",
       " 'id:Omar::B-per': 532,\n",
       " 'id:Khayam::I-per': 533,\n",
       " 'id:Bedford::B-geo': 534,\n",
       " 'id:breaching::O': 535,\n",
       " 'id:conditions::O': 536,\n",
       " 'id:his::O': 537,\n",
       " 'id:parole::O': 538,\n",
       " 'id:British::B-org': 539,\n",
       " 'id:Home::I-org': 540,\n",
       " 'id:Office::I-org': 541,\n",
       " 'id:sought::O': 542,\n",
       " 'id:investigation::O': 543,\n",
       " 'id:Khayam::B-per': 544,\n",
       " 'id:he::O': 545,\n",
       " 'id:photographed::O': 546,\n",
       " 'id:fatigues::O': 547,\n",
       " 'id:black::O': 548,\n",
       " 'id:cap::O': 549,\n",
       " 'id:bulky::O': 550,\n",
       " 'id:belt::O': 551,\n",
       " 'id:Home::B-org': 552,\n",
       " 'id:told::O': 553,\n",
       " 'id:Associated::B-org': 554,\n",
       " 'id:Press::I-org': 555,\n",
       " 'id:paroled::O': 556,\n",
       " 'id:offender::O': 557,\n",
       " 'id:gives::O': 558,\n",
       " 'id:cause::O': 559,\n",
       " 'id:concern::O': 560,\n",
       " 'id:can::O': 561,\n",
       " 'id:sent::O': 562,\n",
       " 'id:back::O': 563,\n",
       " 'id:prison::O': 564,\n",
       " 'id:AP::B-org': 565,\n",
       " 'id:also::O': 566,\n",
       " 'id:since::O': 567,\n",
       " 'id:year::O': 568,\n",
       " 'id:serving::O': 569,\n",
       " 'id:half::O': 570,\n",
       " 'id:six-year::O': 571,\n",
       " 'id:sentence::O': 572,\n",
       " 'id:drug::O': 573,\n",
       " 'id:dealing::O': 574,\n",
       " 'id:Pakistani::B-gpe': 575,\n",
       " 'id:unidentified::O': 576,\n",
       " 'id:three::O': 577,\n",
       " 'id:minister::O': 578,\n",
       " 'id:semi-autonomous::O': 579,\n",
       " 'id:bordering::O': 580,\n",
       " 'id:prominent::O': 581,\n",
       " 'id:leader::O': 582,\n",
       " 'id:Malik::B-per': 583,\n",
       " 'id:Faridullah::I-per': 584,\n",
       " 'id:Khan::I-per': 585,\n",
       " 'id:traveling::O': 586,\n",
       " 'id:South::B-geo': 587,\n",
       " 'id:Waziristan::I-geo': 588,\n",
       " 'prev_tag:I-geo::B-tim': 589,\n",
       " 'id:vehicle::O': 590,\n",
       " 'id:ambushed::O': 591,\n",
       " 'id:Kani::B-geo': 592,\n",
       " 'id:Wam::I-geo': 593,\n",
       " 'id:area::O': 594,\n",
       " 'id:His::O': 595,\n",
       " 'id:driver::O': 596,\n",
       " 'id:elder::O': 597,\n",
       " 'id:No::O': 598,\n",
       " 'id:responsibility::O': 599,\n",
       " 'id:killings::O': 600,\n",
       " 'id:ambush::O': 601,\n",
       " 'id:commander::O': 602,\n",
       " 'id:army::O': 603,\n",
       " 'id:almost::O': 604,\n",
       " 'id:completely::O': 605,\n",
       " 'id:eliminated::O': 606,\n",
       " 'id:became::O': 607,\n",
       " 'id:refuge::O': 608,\n",
       " 'id:al-Qaida::B-org': 609,\n",
       " 'id:ousted::O': 610,\n",
       " 'id:2001::B-tim': 611,\n",
       " 'id:senior::O': 612,\n",
       " 'id:says::O': 613,\n",
       " 'id:Pakistan::B-gpe': 614,\n",
       " 'id:wants::O': 615,\n",
       " 'id:what::O': 616,\n",
       " 'id:sordid::O': 617,\n",
       " 'id:chapter::O': 618,\n",
       " 'id:proliferation::O': 619,\n",
       " 'id:top::O': 620,\n",
       " 'id:scientists::O': 621,\n",
       " 'id:behind::O': 622,\n",
       " 'id:build::O': 623,\n",
       " 'id:civilian::O': 624,\n",
       " 'id:ties::O': 625,\n",
       " 'id:United::B-gpe': 626,\n",
       " 'id:States::I-gpe': 627,\n",
       " 'prev_tag:B-gpe::I-gpe': 628,\n",
       " 'prev_tag:I-gpe::O': 629,\n",
       " 'id:But::O': 630,\n",
       " 'id:ready::O': 631,\n",
       " 'id:scientist::O': 632,\n",
       " 'id:Abdul::B-per': 633,\n",
       " 'id:Qadeer::I-per': 634,\n",
       " 'id:available::O': 635,\n",
       " 'id:direct::O': 636,\n",
       " 'id:questioning::O': 637,\n",
       " 'id:sale::O': 638,\n",
       " 'id:secrets::O': 639,\n",
       " 'id:states::O': 640,\n",
       " 'id:Libya::B-gpe': 641,\n",
       " 'id:North::B-gpe': 642,\n",
       " 'id:Korea::I-gpe': 643,\n",
       " 'id:He::O': 644,\n",
       " 'id:there::O': 645,\n",
       " 'id:reasons::O': 646,\n",
       " 'id:national::O': 647,\n",
       " 'id:sensitivities::O': 648,\n",
       " 'id:making::O': 649,\n",
       " 'id:him::O': 650,\n",
       " 'id:giving::O': 651,\n",
       " 'id:background::O': 652,\n",
       " 'id:briefing::O': 653,\n",
       " 'id:small::O': 654,\n",
       " 'id:group::O': 655,\n",
       " 'id:reporters::O': 656,\n",
       " 'id:Washington::B-geo': 657,\n",
       " 'init_tag:B-per': 658,\n",
       " 'id:Khan::B-per': 659,\n",
       " 'id:admitted::O': 660,\n",
       " 'id:2004::B-tim': 661,\n",
       " 'id:operated::O': 662,\n",
       " 'id:worldwide::O': 663,\n",
       " 'id:clandestine::O': 664,\n",
       " 'id:network::O': 665,\n",
       " 'id:sell::O': 666,\n",
       " 'id:technology::O': 667,\n",
       " 'id:market::O': 668,\n",
       " 'id:placed::O': 669,\n",
       " 'id:under::O': 670,\n",
       " 'id:house::O': 671,\n",
       " 'id:arrest::O': 672,\n",
       " 'id:Islamabad::B-geo': 673,\n",
       " 'id:because::O': 674,\n",
       " 'id:considered::O': 675,\n",
       " 'id:father::O': 676,\n",
       " 'id:bomb::O': 677,\n",
       " 'id:Army::B-org': 678,\n",
       " 'prev_tag:B-gpe::B-org': 679,\n",
       " 'id:renew::O': 680,\n",
       " 'id:controversial::O': 681,\n",
       " 'id:multi-billion::O': 682,\n",
       " 'id:dollar::O': 683,\n",
       " 'id:contract::O': 684,\n",
       " 'id:Halliburton::B-org': 685,\n",
       " 'id:company::O': 686,\n",
       " 'id:provide::O': 687,\n",
       " 'id:logistical::O': 688,\n",
       " 'id:support::O': 689,\n",
       " 'init_tag:B-org': 690,\n",
       " 'id:providing::O': 691,\n",
       " 'id:list::O': 692,\n",
       " 'id:meals::O': 693,\n",
       " 'id:communication::O': 694,\n",
       " 'id:several::O': 695,\n",
       " 'id:years::O': 696,\n",
       " 'id:Critics::O': 697,\n",
       " 'id:include::O': 698,\n",
       " 'id:auditors::O': 699,\n",
       " 'id:congressional::O': 700,\n",
       " 'id:Democrats::O': 701,\n",
       " 'id:produced::O': 702,\n",
       " 'id:some::O': 703,\n",
       " 'id:shoddy::O': 704,\n",
       " 'id:work::O': 705,\n",
       " 'id:charges::O': 706,\n",
       " 'id:too::O': 707,\n",
       " 'id:much::O': 708,\n",
       " 'id:money::O': 709,\n",
       " 'id:strongly::O': 710,\n",
       " 'id:denies::O': 711,\n",
       " 'id:allegations::O': 712,\n",
       " 'id:When::O': 713,\n",
       " 'id:re-bidding::O': 714,\n",
       " 'id:chance::O': 715,\n",
       " 'id:compete::O': 716,\n",
       " 'id:portions::O': 717,\n",
       " 'id:Representatives::O': 718,\n",
       " 'id:Asia::B-org': 719,\n",
       " 'id:Pacific::I-org': 720,\n",
       " 'id:Economic::I-org': 721,\n",
       " 'id:Cooperation::I-org': 722,\n",
       " 'id:Business::I-org': 723,\n",
       " 'id:Advisory::I-org': 724,\n",
       " 'id:holding::O': 725,\n",
       " 'id:meetings::O': 726,\n",
       " 'id:finalize::O': 727,\n",
       " 'id:report::O': 728,\n",
       " 'id:APEC::B-org': 729,\n",
       " 'id:leaders::O': 730,\n",
       " 'id:summit::O': 731,\n",
       " 'id:September::B-tim': 732,\n",
       " 'id:8::I-tim': 733,\n",
       " 'prev_tag:B-tim::I-tim': 734,\n",
       " 'prev_tag:I-tim::O': 735,\n",
       " 'id:9::B-tim': 736,\n",
       " 'id:VOA::B-org': 737,\n",
       " 'id:Nancy-Amelia::B-per': 738,\n",
       " 'hyphen::B-per': 739,\n",
       " 'id:Collins::I-per': 740,\n",
       " 'id:Sydney::B-geo': 741,\n",
       " 'id:Energy::O': 742,\n",
       " 'id:security::O': 743,\n",
       " 'id:climate::O': 744,\n",
       " 'id:change::O': 745,\n",
       " 'id:World::B-org': 746,\n",
       " 'id:Trade::I-org': 747,\n",
       " 'id:Organization::I-org': 748,\n",
       " 'id:stalled::O': 749,\n",
       " 'id:negotiations::O': 750,\n",
       " 'id:investment::O': 751,\n",
       " 'id:all::O': 752,\n",
       " 'id:expected::O': 753,\n",
       " 'id:among::O': 754,\n",
       " 'id:major::O': 755,\n",
       " 'id:topics::O': 756,\n",
       " 'id:ABAC::B-org': 757,\n",
       " 'id:Tim::B-per': 758,\n",
       " 'id:Harcourt::I-per': 759,\n",
       " 'id:chief::O': 760,\n",
       " 'id:economist::O': 761,\n",
       " 'id:Australian::B-org': 762,\n",
       " 'id:Commission::I-org': 763,\n",
       " 'id:plays::O': 764,\n",
       " 'id:important::O': 765,\n",
       " 'id:role::O': 766,\n",
       " 'id:informing::O': 767,\n",
       " 'id:governments::O': 768,\n",
       " 'id:problems::O': 769,\n",
       " 'id:most::O': 770,\n",
       " 'id:thing::O': 771,\n",
       " 'id:business::O': 772,\n",
       " 'id:do::O': 773,\n",
       " 'id:tell::O': 774,\n",
       " 'id:logjams::O': 775,\n",
       " 'id:obstacles::O': 776,\n",
       " 'id:things::O': 777,\n",
       " 'id:improve::O': 778,\n",
       " 'id:Harcourt::B-per': 779,\n",
       " 'id:I::O': 780,\n",
       " 'id:think::O': 781,\n",
       " 'id:actually::O': 782,\n",
       " 'id:played::O': 783,\n",
       " 'id:pretty::O': 784,\n",
       " 'id:good::O': 785,\n",
       " 'id:leadership::O': 786,\n",
       " 'id:talking::O': 787,\n",
       " 'id:about::O': 788,\n",
       " 'id:trade::O': 789,\n",
       " 'id:facilitation::O': 790,\n",
       " 'id:basically::O': 791,\n",
       " 'id:standards::O': 792,\n",
       " 'id:consistent::O': 793,\n",
       " 'id:harmonious::O': 794,\n",
       " 'id:across::O': 795,\n",
       " 'id:comprises::O': 796,\n",
       " 'id:private::O': 797,\n",
       " 'id:sector::O': 798,\n",
       " 'id:each::O': 799,\n",
       " 'id:21::O': 800,\n",
       " 'id:economies::O': 801,\n",
       " 'id:meets::O': 802,\n",
       " 'id:times::O': 803,\n",
       " 'id:made::O': 804,\n",
       " 'id:permanent::O': 805,\n",
       " 'id:body::O': 806,\n",
       " 'id:1995::B-tim': 807,\n",
       " 'id:perspective::O': 808,\n",
       " 'id:within::O': 809,\n",
       " 'id:Members::O': 810,\n",
       " 'id:represent::O': 811,\n",
       " 'id:range::O': 812,\n",
       " 'id:sectors::O': 813,\n",
       " 'id:medium::O': 814,\n",
       " 'id:businesses::O': 815,\n",
       " 'id:need::O': 816,\n",
       " 'id:energy::O': 817,\n",
       " 'id:efficiency::O': 818,\n",
       " 'id:encourage::O': 819,\n",
       " 'id:conservation::O': 820,\n",
       " 'id:practices::O': 821,\n",
       " 'id:discuss::O': 822,\n",
       " 'id:ways::O': 823,\n",
       " 'id:enhance::O': 824,\n",
       " 'id:regional::O': 825,\n",
       " 'id:cooperation::O': 826,\n",
       " 'id:reckon::O': 827,\n",
       " \"id:'ll::O\": 828,\n",
       " 'id:talk::O': 829,\n",
       " 'id:little::O': 830,\n",
       " 'id:bit::O': 831,\n",
       " 'id:customs::O': 832,\n",
       " 'id:quarantine::O': 833,\n",
       " 'id:having::O': 834,\n",
       " 'id:arrangements::O': 835,\n",
       " 'id:around::O': 836,\n",
       " 'id:And::O': 837,\n",
       " 'id:want::O': 838,\n",
       " 'id:one-stop::O': 839,\n",
       " 'id:shop::O': 840,\n",
       " 'id:terms::O': 841,\n",
       " 'id:combining::O': 842,\n",
       " 'id:immigration::O': 843,\n",
       " 'id:together::O': 844,\n",
       " 'id:\\x85::O': 845,\n",
       " 'id:just::O': 846,\n",
       " 'id:streamlined::O': 847,\n",
       " 'id:provides::O': 848,\n",
       " 'id:certainty::O': 849,\n",
       " 'id:non-governmental::O': 850,\n",
       " 'id:formal::O': 851,\n",
       " 'id:dialogue::O': 852,\n",
       " 'id:present::O': 853,\n",
       " 'id:meeting::O': 854,\n",
       " 'id:Sudan::B-gpe': 855,\n",
       " 'id:order::O': 856,\n",
       " 'id:Darfur::B-geo': 857,\n",
       " 'id:asking::O': 858,\n",
       " 'id:same::O': 859,\n",
       " 'id:Foreign::B-per': 860,\n",
       " 'id:Minister::I-per': 861,\n",
       " 'id:Mustafa::I-per': 862,\n",
       " 'id:Osman::I-per': 863,\n",
       " 'id:Ismail::I-per': 864,\n",
       " 'id:Sudanese::B-gpe': 865,\n",
       " 'id:withdraw::O': 866,\n",
       " 'id:positions::O': 867,\n",
       " 'id:held::O': 868,\n",
       " 'id:April::B-tim': 869,\n",
       " 'id:cease-fire::O': 870,\n",
       " 'id:western::O': 871,\n",
       " 'id:agree::O': 872,\n",
       " 'id:stop::O': 873,\n",
       " 'id:Mr.::B-per': 874,\n",
       " 'id:announced::O': 875,\n",
       " 'id:decision::O': 876,\n",
       " 'id:United::B-org': 877,\n",
       " 'id:Nations::I-org': 878,\n",
       " 'id:African::B-org': 879,\n",
       " 'id:Khartoum::B-geo': 880,\n",
       " 'id:weeks::O': 881,\n",
       " 'id:AU::B-org': 882,\n",
       " 'id:repeatedly::O': 883,\n",
       " 'id:truce::O': 884,\n",
       " 'init_tag:B-tim': 885,\n",
       " 'id:head::O': 886,\n",
       " 'id:accused::O': 887,\n",
       " 'id:helicopters::O': 888,\n",
       " 'id:bombing::O': 889,\n",
       " 'id:rebel::O': 890,\n",
       " 'id:sites::O': 891,\n",
       " 'id:Darfur::I-geo': 892,\n",
       " 'id:village::O': 893,\n",
       " 'id:Labado::B-geo': 894,\n",
       " 'id:Khartoum::B-gpe': 895,\n",
       " 'id:defending::O': 896,\n",
       " 'id:Aid::O': 897,\n",
       " 'id:relief::O': 898,\n",
       " 'id:efforts::O': 899,\n",
       " 'id:suspended::O': 900,\n",
       " 'id:due::O': 901,\n",
       " 'id:Indonesian::B-gpe': 902,\n",
       " 'id:men::O': 903,\n",
       " 'id:connection::O': 904,\n",
       " 'id:October::B-tim': 905,\n",
       " 'id:1::I-tim': 906,\n",
       " 'id:Bali::B-geo': 907,\n",
       " 'prev_tag:I-tim::B-geo': 908,\n",
       " 'id:left::O': 909,\n",
       " 'id:23::O': 910,\n",
       " 'id:dead::O': 911,\n",
       " 'id:flown::O': 912,\n",
       " 'id:Java::B-geo': 913,\n",
       " 'id:island::O': 914,\n",
       " 'id:headquarters::O': 915,\n",
       " 'id:Australian::B-gpe': 916,\n",
       " 'id:French::B-gpe': 917,\n",
       " 'id:agencies::O': 918,\n",
       " 'id:(::O': 919,\n",
       " 'id:Cholily::B-per': 920,\n",
       " 'id:)::O': 921,\n",
       " 'id:captured::O': 922,\n",
       " 'id:series::O': 923,\n",
       " 'id:counter-terrorism::O': 924,\n",
       " 'id:raids::O': 925,\n",
       " 'id:Indonesia::B-geo': 926,\n",
       " 'id:ended::O': 927,\n",
       " 'id:death::O': 928,\n",
       " 'id:alleged::O': 929,\n",
       " 'id:extremist::O': 930,\n",
       " 'id:bombmaker::O': 931,\n",
       " 'id:Azahari::B-per': 932,\n",
       " 'id:bin::I-per': 933,\n",
       " 'id:Husin::I-per': 934,\n",
       " 'id:authorities::O': 935,\n",
       " 'id:blame::O': 936,\n",
       " 'id:orchestrating::O': 937,\n",
       " 'id:month::O': 938,\n",
       " 'id:well::O': 939,\n",
       " 'id:2002::B-tim': 940,\n",
       " 'prev_tag:B-tim::B-geo': 941,\n",
       " 'id:Gunmen::O': 942,\n",
       " 'id:shot::O': 943,\n",
       " 'id:Roman::B-org': 944,\n",
       " 'id:Catholic::I-org': 945,\n",
       " 'id:nun::O': 946,\n",
       " 'id:her::O': 947,\n",
       " 'id:bodyguard::O': 948,\n",
       " 'id:hospital::O': 949,\n",
       " 'id:she::O': 950,\n",
       " 'id:worked::O': 951,\n",
       " 'id:Islamist-controlled::O': 952,\n",
       " 'id:Some::O': 953,\n",
       " 'id:witnesses::O': 954,\n",
       " 'id:shooting::O': 955,\n",
       " 'id:feared::O': 956,\n",
       " 'id:linked::O': 957,\n",
       " 'id:Muslim::O': 958,\n",
       " 'id:anger::O': 959,\n",
       " 'id:toward::O': 960,\n",
       " 'id:Pope::B-per': 961,\n",
       " 'id:Benedict::I-per': 962,\n",
       " 'id:pistols::O': 963,\n",
       " 'id:attacked::O': 964,\n",
       " 'id:Sister::B-per': 965,\n",
       " 'id:Leonella::I-per': 966,\n",
       " 'id:Sgorbati::I-per': 967,\n",
       " 'id:finished::O': 968,\n",
       " 'id:teaching::O': 969,\n",
       " 'id:medical::O': 970,\n",
       " 'id:school::O': 971,\n",
       " 'id:class::O': 972,\n",
       " 'id:suspect::O': 973,\n",
       " 'id:Vatican::B-org': 974,\n",
       " 'id:deplored::O': 975,\n",
       " 'id:hoped::O': 976,\n",
       " 'id:isolated::O': 977,\n",
       " 'id:event::O': 978,\n",
       " 'id:irrationality::O': 979,\n",
       " 'id:arising::O': 980,\n",
       " 'id:comments::O': 981,\n",
       " 'id:Pope::O': 982,\n",
       " 'id:angered::O': 983,\n",
       " 'id:Muslims::O': 984,\n",
       " 'id:Authorities::O': 985,\n",
       " 'id:determined::O': 986,\n",
       " 'id:motive::O': 987,\n",
       " 'id:pope::O': 988,\n",
       " 'id:meant::O': 989,\n",
       " 'id:offense::O': 990,\n",
       " 'id:quoted::O': 991,\n",
       " 'id:14::O': 992,\n",
       " 'id:century::O': 993,\n",
       " 'id:Byzantine::B-per': 994,\n",
       " 'id:emperor::O': 995,\n",
       " 'id:saying::O': 996,\n",
       " 'id:teachings::O': 997,\n",
       " 'id:Muhammed::I-per': 998,\n",
       " 'id:brought::O': 999,\n",
       " ...}"
      ]
     },
     "execution_count": 35,
     "metadata": {},
     "output_type": "execute_result"
    }
   ],
   "source": [
    "ex_feature_mapper.feature_dict"
   ]
  },
  {
   "cell_type": "markdown",
   "metadata": {},
   "source": [
    "# Training structured perceptron"
   ]
  },
  {
   "cell_type": "code",
   "execution_count": 40,
   "metadata": {
    "collapsed": true
   },
   "outputs": [],
   "source": [
    "corpus = skseq.readers.pos_corpus.PostagCorpus()\n",
    "sp = spc.StructuredPerceptron(word_to_pos, tag_to_pos, ex_feature_mapper)\n",
    "sp.num_epochs = 5"
   ]
  },
  {
   "cell_type": "code",
   "execution_count": 41,
   "metadata": {},
   "outputs": [
    {
     "data": {
      "text/plain": [
       "(17, 30863)"
      ]
     },
     "execution_count": 41,
     "metadata": {},
     "output_type": "execute_result"
    }
   ],
   "source": [
    "sp.get_num_states(), sp.get_num_observations()"
   ]
  },
  {
   "cell_type": "code",
   "execution_count": 42,
   "metadata": {},
   "outputs": [
    {
     "name": "stdout",
     "output_type": "stream",
     "text": [
      "Epoch: 0 Accuracy: 0.893649\n",
      "Epoch: 1 Accuracy: 0.932477\n",
      "Epoch: 2 Accuracy: 0.941703\n",
      "Epoch: 3 Accuracy: 0.947204\n",
      "Epoch: 4 Accuracy: 0.950647\n",
      "Epoch: 5 Accuracy: 0.953267\n",
      "Epoch: 6 Accuracy: 0.955126\n",
      "Epoch: 7 Accuracy: 0.956926\n",
      "Epoch: 8 Accuracy: 0.957718\n",
      "Epoch: 9 Accuracy: 0.959740\n",
      "Epoch: 10 Accuracy: 0.960284\n"
     ]
    },
    {
     "ename": "KeyboardInterrupt",
     "evalue": "",
     "output_type": "error",
     "traceback": [
      "\u001b[1;31m---------------------------------------------------------------------------\u001b[0m",
      "\u001b[1;31mKeyboardInterrupt\u001b[0m                         Traceback (most recent call last)",
      "\u001b[1;32m<timed exec>\u001b[0m in \u001b[0;36m<module>\u001b[1;34m()\u001b[0m\n",
      "\u001b[1;32m~\\Documents\\GitHub\\NLP_task2\\skseq\\sequences\\structured_perceptron.py\u001b[0m in \u001b[0;36mfit\u001b[1;34m(self, dataset, num_epochs)\u001b[0m\n\u001b[0;32m     45\u001b[0m \u001b[1;33m\u001b[0m\u001b[0m\n\u001b[0;32m     46\u001b[0m         \u001b[1;32mfor\u001b[0m \u001b[0mepoch\u001b[0m \u001b[1;32min\u001b[0m \u001b[0mrange\u001b[0m\u001b[1;33m(\u001b[0m\u001b[0mnum_epochs\u001b[0m\u001b[1;33m)\u001b[0m\u001b[1;33m:\u001b[0m\u001b[1;33m\u001b[0m\u001b[0m\n\u001b[1;32m---> 47\u001b[1;33m             \u001b[0macc\u001b[0m \u001b[1;33m=\u001b[0m \u001b[0mself\u001b[0m\u001b[1;33m.\u001b[0m\u001b[0mfit_epoch\u001b[0m\u001b[1;33m(\u001b[0m\u001b[0mdataset\u001b[0m\u001b[1;33m)\u001b[0m\u001b[1;33m\u001b[0m\u001b[0m\n\u001b[0m\u001b[0;32m     48\u001b[0m             \u001b[0mprint\u001b[0m\u001b[1;33m(\u001b[0m\u001b[1;34m\"Epoch: %i Accuracy: %f\"\u001b[0m \u001b[1;33m%\u001b[0m \u001b[1;33m(\u001b[0m\u001b[0mepoch\u001b[0m\u001b[1;33m,\u001b[0m \u001b[0macc\u001b[0m\u001b[1;33m)\u001b[0m\u001b[1;33m)\u001b[0m\u001b[1;33m\u001b[0m\u001b[0m\n\u001b[0;32m     49\u001b[0m \u001b[1;33m\u001b[0m\u001b[0m\n",
      "\u001b[1;32m~\\Documents\\GitHub\\NLP_task2\\skseq\\sequences\\structured_perceptron.py\u001b[0m in \u001b[0;36mfit_epoch\u001b[1;34m(self, dataset)\u001b[0m\n\u001b[0;32m     81\u001b[0m         \u001b[1;32mfor\u001b[0m \u001b[0mi\u001b[0m \u001b[1;32min\u001b[0m \u001b[0mrange\u001b[0m\u001b[1;33m(\u001b[0m\u001b[0mnum_examples\u001b[0m\u001b[1;33m)\u001b[0m\u001b[1;33m:\u001b[0m\u001b[1;33m\u001b[0m\u001b[0m\n\u001b[0;32m     82\u001b[0m             \u001b[0msequence\u001b[0m \u001b[1;33m=\u001b[0m \u001b[0mdataset\u001b[0m\u001b[1;33m.\u001b[0m\u001b[0mseq_list\u001b[0m\u001b[1;33m[\u001b[0m\u001b[0mi\u001b[0m\u001b[1;33m]\u001b[0m\u001b[1;33m\u001b[0m\u001b[0m\n\u001b[1;32m---> 83\u001b[1;33m             \u001b[0mnum_labels\u001b[0m\u001b[1;33m,\u001b[0m \u001b[0mnum_mistakes\u001b[0m \u001b[1;33m=\u001b[0m \u001b[0mself\u001b[0m\u001b[1;33m.\u001b[0m\u001b[0mperceptron_update\u001b[0m\u001b[1;33m(\u001b[0m\u001b[0msequence\u001b[0m\u001b[1;33m)\u001b[0m\u001b[1;33m\u001b[0m\u001b[0m\n\u001b[0m\u001b[0;32m     84\u001b[0m             \u001b[0mnum_labels_total\u001b[0m \u001b[1;33m+=\u001b[0m \u001b[0mnum_labels\u001b[0m\u001b[1;33m\u001b[0m\u001b[0m\n\u001b[0;32m     85\u001b[0m             \u001b[0mnum_mistakes_total\u001b[0m \u001b[1;33m+=\u001b[0m \u001b[0mnum_mistakes\u001b[0m\u001b[1;33m\u001b[0m\u001b[0m\n",
      "\u001b[1;32m~\\Documents\\GitHub\\NLP_task2\\skseq\\sequences\\structured_perceptron.py\u001b[0m in \u001b[0;36mperceptron_update\u001b[1;34m(self, sequence)\u001b[0m\n\u001b[0;32m    117\u001b[0m         \u001b[0mnum_mistakes\u001b[0m \u001b[1;33m=\u001b[0m \u001b[1;36m0\u001b[0m\u001b[1;33m\u001b[0m\u001b[0m\n\u001b[0;32m    118\u001b[0m \u001b[1;33m\u001b[0m\u001b[0m\n\u001b[1;32m--> 119\u001b[1;33m         \u001b[0mpredicted_sequence\u001b[0m\u001b[1;33m,\u001b[0m \u001b[0m_\u001b[0m \u001b[1;33m=\u001b[0m \u001b[0mself\u001b[0m\u001b[1;33m.\u001b[0m\u001b[0mviterbi_decode\u001b[0m\u001b[1;33m(\u001b[0m\u001b[0msequence\u001b[0m\u001b[1;33m)\u001b[0m\u001b[1;33m\u001b[0m\u001b[0m\n\u001b[0m\u001b[0;32m    120\u001b[0m \u001b[1;33m\u001b[0m\u001b[0m\n\u001b[0;32m    121\u001b[0m         \u001b[0my_hat\u001b[0m \u001b[1;33m=\u001b[0m \u001b[0mpredicted_sequence\u001b[0m\u001b[1;33m.\u001b[0m\u001b[0my\u001b[0m\u001b[1;33m\u001b[0m\u001b[0m\n",
      "\u001b[1;32m~\\Documents\\GitHub\\NLP_task2\\skseq\\sequences\\sequence_classifier.py\u001b[0m in \u001b[0;36mviterbi_decode\u001b[1;34m(self, sequence)\u001b[0m\n\u001b[0;32m    134\u001b[0m                                                             \u001b[0mtransition_scores\u001b[0m\u001b[1;33m,\u001b[0m\u001b[1;33m\u001b[0m\u001b[0m\n\u001b[0;32m    135\u001b[0m                                                             \u001b[0mfinal_scores\u001b[0m\u001b[1;33m,\u001b[0m\u001b[1;33m\u001b[0m\u001b[0m\n\u001b[1;32m--> 136\u001b[1;33m                                                             emission_scores)\n\u001b[0m\u001b[0;32m    137\u001b[0m \u001b[1;33m\u001b[0m\u001b[0m\n\u001b[0;32m    138\u001b[0m         \u001b[0mpredicted_sequence\u001b[0m \u001b[1;33m=\u001b[0m \u001b[0msequence\u001b[0m\u001b[1;33m.\u001b[0m\u001b[0mcopy_sequence\u001b[0m\u001b[1;33m(\u001b[0m\u001b[1;33m)\u001b[0m\u001b[1;33m\u001b[0m\u001b[0m\n",
      "\u001b[1;32m~\\Documents\\GitHub\\NLP_task2\\skseq\\sequences\\sequence_classification_decoder.py\u001b[0m in \u001b[0;36mrun_viterbi\u001b[1;34m(self, initial_scores, transition_scores, final_scores, emission_scores)\u001b[0m\n\u001b[0;32m    108\u001b[0m                 \u001b[0mviterbi_scores\u001b[0m\u001b[1;33m[\u001b[0m\u001b[0mpos\u001b[0m\u001b[1;33m,\u001b[0m \u001b[0mcurrent_state\u001b[0m\u001b[1;33m]\u001b[0m \u001b[1;33m+=\u001b[0m \u001b[0memission_scores\u001b[0m\u001b[1;33m[\u001b[0m\u001b[0mpos\u001b[0m\u001b[1;33m,\u001b[0m \u001b[0mcurrent_state\u001b[0m\u001b[1;33m]\u001b[0m\u001b[1;33m\u001b[0m\u001b[0m\n\u001b[0;32m    109\u001b[0m                 \u001b[0mviterbi_paths\u001b[0m\u001b[1;33m[\u001b[0m\u001b[0mpos\u001b[0m\u001b[1;33m,\u001b[0m \u001b[0mcurrent_state\u001b[0m\u001b[1;33m]\u001b[0m \u001b[1;33m=\u001b[0m\u001b[0;31m \u001b[0m\u001b[0;31m\\\u001b[0m\u001b[1;33m\u001b[0m\u001b[0m\n\u001b[1;32m--> 110\u001b[1;33m                     \u001b[0mnp\u001b[0m\u001b[1;33m.\u001b[0m\u001b[0margmax\u001b[0m\u001b[1;33m(\u001b[0m\u001b[0mviterbi_scores\u001b[0m\u001b[1;33m[\u001b[0m\u001b[0mpos\u001b[0m\u001b[1;33m-\u001b[0m\u001b[1;36m1\u001b[0m\u001b[1;33m,\u001b[0m \u001b[1;33m:\u001b[0m\u001b[1;33m]\u001b[0m \u001b[1;33m+\u001b[0m \u001b[0mtransition_scores\u001b[0m\u001b[1;33m[\u001b[0m\u001b[0mpos\u001b[0m\u001b[1;33m-\u001b[0m\u001b[1;36m1\u001b[0m\u001b[1;33m,\u001b[0m \u001b[0mcurrent_state\u001b[0m\u001b[1;33m,\u001b[0m \u001b[1;33m:\u001b[0m\u001b[1;33m]\u001b[0m\u001b[1;33m)\u001b[0m\u001b[1;33m\u001b[0m\u001b[0m\n\u001b[0m\u001b[0;32m    111\u001b[0m         \u001b[1;31m# Termination.\u001b[0m\u001b[1;33m\u001b[0m\u001b[1;33m\u001b[0m\u001b[0m\n\u001b[0;32m    112\u001b[0m         \u001b[0mbest_score\u001b[0m \u001b[1;33m=\u001b[0m \u001b[0mnp\u001b[0m\u001b[1;33m.\u001b[0m\u001b[0mmax\u001b[0m\u001b[1;33m(\u001b[0m\u001b[0mviterbi_scores\u001b[0m\u001b[1;33m[\u001b[0m\u001b[0mlength\u001b[0m\u001b[1;33m-\u001b[0m\u001b[1;36m1\u001b[0m\u001b[1;33m,\u001b[0m \u001b[1;33m:\u001b[0m\u001b[1;33m]\u001b[0m \u001b[1;33m+\u001b[0m \u001b[0mfinal_scores\u001b[0m\u001b[1;33m)\u001b[0m\u001b[1;33m\u001b[0m\u001b[0m\n",
      "\u001b[1;32m~\\Anaconda3\\lib\\site-packages\\numpy\\core\\fromnumeric.py\u001b[0m in \u001b[0;36margmax\u001b[1;34m(a, axis, out)\u001b[0m\n\u001b[0;32m   1035\u001b[0m \u001b[1;33m\u001b[0m\u001b[0m\n\u001b[0;32m   1036\u001b[0m     \"\"\"\n\u001b[1;32m-> 1037\u001b[1;33m     \u001b[1;32mreturn\u001b[0m \u001b[0m_wrapfunc\u001b[0m\u001b[1;33m(\u001b[0m\u001b[0ma\u001b[0m\u001b[1;33m,\u001b[0m \u001b[1;34m'argmax'\u001b[0m\u001b[1;33m,\u001b[0m \u001b[0maxis\u001b[0m\u001b[1;33m=\u001b[0m\u001b[0maxis\u001b[0m\u001b[1;33m,\u001b[0m \u001b[0mout\u001b[0m\u001b[1;33m=\u001b[0m\u001b[0mout\u001b[0m\u001b[1;33m)\u001b[0m\u001b[1;33m\u001b[0m\u001b[0m\n\u001b[0m\u001b[0;32m   1038\u001b[0m \u001b[1;33m\u001b[0m\u001b[0m\n\u001b[0;32m   1039\u001b[0m \u001b[1;33m\u001b[0m\u001b[0m\n",
      "\u001b[1;32m~\\Anaconda3\\lib\\site-packages\\numpy\\core\\fromnumeric.py\u001b[0m in \u001b[0;36m_wrapfunc\u001b[1;34m(obj, method, *args, **kwds)\u001b[0m\n\u001b[0;32m     49\u001b[0m \u001b[1;32mdef\u001b[0m \u001b[0m_wrapfunc\u001b[0m\u001b[1;33m(\u001b[0m\u001b[0mobj\u001b[0m\u001b[1;33m,\u001b[0m \u001b[0mmethod\u001b[0m\u001b[1;33m,\u001b[0m \u001b[1;33m*\u001b[0m\u001b[0margs\u001b[0m\u001b[1;33m,\u001b[0m \u001b[1;33m**\u001b[0m\u001b[0mkwds\u001b[0m\u001b[1;33m)\u001b[0m\u001b[1;33m:\u001b[0m\u001b[1;33m\u001b[0m\u001b[0m\n\u001b[0;32m     50\u001b[0m     \u001b[1;32mtry\u001b[0m\u001b[1;33m:\u001b[0m\u001b[1;33m\u001b[0m\u001b[0m\n\u001b[1;32m---> 51\u001b[1;33m         \u001b[1;32mreturn\u001b[0m \u001b[0mgetattr\u001b[0m\u001b[1;33m(\u001b[0m\u001b[0mobj\u001b[0m\u001b[1;33m,\u001b[0m \u001b[0mmethod\u001b[0m\u001b[1;33m)\u001b[0m\u001b[1;33m(\u001b[0m\u001b[1;33m*\u001b[0m\u001b[0margs\u001b[0m\u001b[1;33m,\u001b[0m \u001b[1;33m**\u001b[0m\u001b[0mkwds\u001b[0m\u001b[1;33m)\u001b[0m\u001b[1;33m\u001b[0m\u001b[0m\n\u001b[0m\u001b[0;32m     52\u001b[0m \u001b[1;33m\u001b[0m\u001b[0m\n\u001b[0;32m     53\u001b[0m     \u001b[1;31m# An AttributeError occurs if the object does not have\u001b[0m\u001b[1;33m\u001b[0m\u001b[1;33m\u001b[0m\u001b[0m\n",
      "\u001b[1;31mKeyboardInterrupt\u001b[0m: "
     ]
    }
   ],
   "source": [
    "%%time\n",
    "num_epochs = 15\n",
    "sp.fit(ex_feature_mapper.dataset, num_epochs)"
   ]
  },
  {
   "cell_type": "code",
   "execution_count": 43,
   "metadata": {
    "collapsed": true
   },
   "outputs": [],
   "source": [
    "new_seq = skseq.sequences.sequence.Sequence(x=X_test[0], y=Y_test[0])"
   ]
  },
  {
   "cell_type": "code",
   "execution_count": 44,
   "metadata": {},
   "outputs": [
    {
     "data": {
      "text/plain": [
       "'Officials/O said/O Sunday/B-tim Jean/B-per Rene/I-per Anthony/I-per was/O killed/O in/O a/O shootout/O with/O police/O near/O the/O capital/O city/O of/O Port-au-Prince/O ./O '"
      ]
     },
     "execution_count": 44,
     "metadata": {},
     "output_type": "execute_result"
    }
   ],
   "source": [
    "sp.viterbi_decode(new_seq)[0].to_words(sequence_list_train,\n",
    "                                       only_tag_translation=True)"
   ]
  },
  {
   "cell_type": "code",
   "execution_count": 45,
   "metadata": {},
   "outputs": [
    {
     "data": {
      "text/plain": [
       "['O',\n",
       " 'O',\n",
       " 'B-tim',\n",
       " 'B-per',\n",
       " 'I-per',\n",
       " 'I-per',\n",
       " 'O',\n",
       " 'O',\n",
       " 'O',\n",
       " 'O',\n",
       " 'O',\n",
       " 'O',\n",
       " 'O',\n",
       " 'O',\n",
       " 'O',\n",
       " 'O',\n",
       " 'O',\n",
       " 'O',\n",
       " 'B-geo',\n",
       " 'O']"
      ]
     },
     "execution_count": 45,
     "metadata": {},
     "output_type": "execute_result"
    }
   ],
   "source": [
    "Y_test[0]"
   ]
  },
  {
   "cell_type": "code",
   "execution_count": 49,
   "metadata": {},
   "outputs": [
    {
     "data": {
      "text/plain": [
       "['Officials',\n",
       " 'said',\n",
       " 'Sunday',\n",
       " 'Jean',\n",
       " 'Rene',\n",
       " 'Anthony',\n",
       " 'was',\n",
       " 'killed',\n",
       " 'in',\n",
       " 'a',\n",
       " 'shootout',\n",
       " 'with',\n",
       " 'police',\n",
       " 'near',\n",
       " 'the',\n",
       " 'capital',\n",
       " 'city',\n",
       " 'of',\n",
       " 'Port-au-Prince',\n",
       " '.']"
      ]
     },
     "execution_count": 49,
     "metadata": {},
     "output_type": "execute_result"
    }
   ],
   "source": [
    "X_test[0]"
   ]
  },
  {
   "cell_type": "markdown",
   "metadata": {},
   "source": [
    "### EXERCISE TO TEST YOUR CODE"
   ]
  },
  {
   "cell_type": "markdown",
   "metadata": {},
   "source": [
    "We think that these are the tags that the model should obtain:\n",
    "\n",
    "1. The/O programmers/O from/O Barcelona/B-geo might/O write/O a/O sentence/O without/O a/O spell/O checker./O\n",
    "\n",
    "2. The/O programmers/O from/O Barchelona/O cannot/O write/O a/O sentence/O without/O a/O spell/O checker./O\n",
    "\n",
    "3. Jack/B-per London/I-per went/O to/O Parris./O\n",
    "\n",
    "4. Jack/B-per London/I-per went/O to/O/O Paris./B-geo\n",
    "\n",
    "5. We/O never/O though/O Microsoft/B-org would/O become/O such/O a/O big/O company./O\n",
    "\n",
    "6. We/O never/O though/O Microsof/O would/O become/O such/O a/O big/O company./O\n",
    "\n",
    "7. The/O president/O of/O U.S.A/B-geo though/O they/O could/O win/O the/O war/O\n",
    "\n",
    "8. The/O president/O of/O the/O United/B-geo States/B-geo of/B-geo America/B-geo though/O they/O could/O win/O the/O war/O\n",
    "\n",
    "9. The/O king/O of/O Saudi/B-geo Arabia/I-geo wanted/O total/O control./O\n",
    "\n",
    "10. Robin/B-per does/O not/O want/O to/O go/O to/O Saudi/B-geo Arabia./I-geo\n"
   ]
  },
  {
   "cell_type": "code",
   "execution_count": 65,
   "metadata": {
    "collapsed": true
   },
   "outputs": [],
   "source": [
    "test_sentences = [\"The programmers from Barcelona might write a sentence without a spell checker.\", \n",
    "                  \"The programmers from Barchelona cannot write a sentence without a spell checker.\",\n",
    "                  \"Jack London went to Parris.\",\n",
    "                  \"Jack London went to Paris.\",\n",
    "                  \"We never though Microsoft would become such a big company.\",\n",
    "                  \"We never though Microsof would become such a big company.\",\n",
    "                  \"The president of U.S.A though they could win the war\",\n",
    "                  \"The president of the United States of America though they could win the war\",\n",
    "                  \"The king of Saudi Arabia wanted total control.\",\n",
    "                  \"Robin does not want to go to Saudi Arabia.\"]\n",
    "\n",
    "test_tags = [['O', 'O', 'O', 'B-geo', 'O', 'O', 'O', 'O', 'O', 'O', 'O', 'O'],\n",
    "            ['O', 'O', 'O', 'O', 'O', 'O', 'O', 'O', 'O', 'O', 'O', 'O'],\n",
    "            ['B-per', 'I-per', 'O', 'O', 'O'],\n",
    "            ['B-per', 'I-per', 'O', 'O', 'B-geo'],\n",
    "            ['O', 'O', 'O', 'B-org', 'O', 'O', 'O', 'O', 'O', 'O', 'O'],\n",
    "            ['O', 'O', 'O', 'O', 'O', 'O', 'O', 'O', 'O', 'O'],\n",
    "            ['O', 'O', 'O', 'B-geo', 'O', 'O', 'O', 'O', 'O', 'O'],\n",
    "            ['O', 'O', 'O', 'O', 'B-geo', 'I-geo', 'I-geo', 'I-geo', 'O', 'O', 'O', 'O', 'O', 'O'],\n",
    "            ['O', 'O', 'O', 'B-geo', 'I-geo', 'O', 'O', 'O'],\n",
    "            ['B-per', 'O', 'O', 'O', 'O', 'O', 'O', 'B-geo', 'I-geo']]"
   ]
  },
  {
   "cell_type": "code",
   "execution_count": 63,
   "metadata": {},
   "outputs": [
    {
     "name": "stdout",
     "output_type": "stream",
     "text": [
      "The/O programmers/O from/O Barcelona/O might/O write/O a/O sentence/O without/O a/O spell/O checker./O \n",
      "The/O programmers/O from/O Barchelona/O cannot/O write/O a/O sentence/O without/O a/O spell/O checker./O \n",
      "Jack/B-per London/I-per went/O to/O Parris./O \n",
      "Jack/B-per London/I-per went/O to/O Paris./O \n",
      "We/O never/O though/O Microsoft/B-org would/O become/O such/O a/O big/O company./O \n",
      "We/O never/O though/O Microsof/O would/O become/O such/O a/O big/O company./O \n",
      "The/O president/O of/O U.S.A/O though/O they/O could/O win/O the/O war/O \n",
      "The/O president/O of/O the/O United/B-org States/I-org of/I-org America/I-org though/O they/O could/O win/O the/O war/O \n",
      "The/O king/O of/O Saudi/B-geo Arabia/I-geo wanted/O total/O control./O \n",
      "Robin/O does/O not/O want/O to/O go/O to/O Saudi/O Arabia./O \n"
     ]
    }
   ],
   "source": [
    "for sentence in test_sentences:\n",
    "    new_seq = Sequence(x=sentence.split(), y=[int(0) for w in sentence.split()])\n",
    "    print(sp.viterbi_decode(new_seq)[0].to_words(sequence_list_train, only_tag_translation=True))"
   ]
  },
  {
   "cell_type": "code",
   "execution_count": 72,
   "metadata": {},
   "outputs": [
    {
     "name": "stdout",
     "output_type": "stream",
     "text": [
      "Word            (True ): Pred\n",
      "Robin           (B-per): O\n",
      "does            (O    ): O\n",
      "not             (O    ): O\n",
      "want            (O    ): O\n",
      "to              (O    ): O\n",
      "go              (O    ): O\n",
      "to              (O    ): O\n",
      "Saudi           (B-geo): O\n",
      "Arabia.         (I-geo): O\n"
     ]
    }
   ],
   "source": [
    "# Here we can select the sentence in which we want to compare the true and the predicted tags\n",
    "# Select a sentence between 1 and 10\n",
    "i=10\n",
    "sentence = test_sentences[i-1]\n",
    "new_seq = Sequence(x=sentence.split(), y=[int(0) for w in sentence.split()])\n",
    "preds = sp.viterbi_decode(new_seq)[0].y\n",
    "print(\"{:15} ({:5}): {}\".format(\"Word\", \"True\", \"Pred\"))\n",
    "\n",
    "for word, true_tag, pred_tag in zip(sentence.split(), test_tags[i-1], preds):\n",
    "    print(\"{:15} ({:5}): {}\".format(word, true_tag, pos_to_tag[pred_tag]))"
   ]
  },
  {
   "cell_type": "code",
   "execution_count": null,
   "metadata": {
    "collapsed": true
   },
   "outputs": [],
   "source": []
  }
 ],
 "metadata": {
  "kernelspec": {
   "display_name": "Python 3",
   "language": "python",
   "name": "python3"
  },
  "language_info": {
   "codemirror_mode": {
    "name": "ipython",
    "version": 3
   },
   "file_extension": ".py",
   "mimetype": "text/x-python",
   "name": "python",
   "nbconvert_exporter": "python",
   "pygments_lexer": "ipython3",
   "version": "3.6.3"
  }
 },
 "nbformat": 4,
 "nbformat_minor": 2
}
