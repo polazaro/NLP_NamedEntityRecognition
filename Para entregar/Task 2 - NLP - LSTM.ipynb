{
 "cells": [
  {
   "cell_type": "markdown",
   "metadata": {},
   "source": [
    "# Task 2 - Natural Language Processing\n",
    "\n",
    "## Recurrent Neural Networks\n",
    "\n",
    "### Rubén Barco Terrones - Aleix Casellas Comas - Andreu Masdeu Ninot - Pablo Lázaro Herrasti - Marco Remane"
   ]
  },
  {
   "cell_type": "code",
   "execution_count": 1,
   "metadata": {},
   "outputs": [
    {
     "name": "stderr",
     "output_type": "stream",
     "text": [
      "Using TensorFlow backend.\n"
     ]
    }
   ],
   "source": [
    "import pandas as pd\n",
    "import numpy as np\n",
    "import keras\n",
    "from keras.preprocessing.text import Tokenizer\n",
    "import matplotlib.pyplot as plt"
   ]
  },
  {
   "cell_type": "code",
   "execution_count": 2,
   "metadata": {},
   "outputs": [],
   "source": [
    "df = pd.read_csv('ner_dataset.csv', encoding='latin', error_bad_lines=False)"
   ]
  },
  {
   "cell_type": "code",
   "execution_count": 3,
   "metadata": {},
   "outputs": [
    {
     "data": {
      "text/html": [
       "<div>\n",
       "<style scoped>\n",
       "    .dataframe tbody tr th:only-of-type {\n",
       "        vertical-align: middle;\n",
       "    }\n",
       "\n",
       "    .dataframe tbody tr th {\n",
       "        vertical-align: top;\n",
       "    }\n",
       "\n",
       "    .dataframe thead th {\n",
       "        text-align: right;\n",
       "    }\n",
       "</style>\n",
       "<table border=\"1\" class=\"dataframe\">\n",
       "  <thead>\n",
       "    <tr style=\"text-align: right;\">\n",
       "      <th></th>\n",
       "      <th>Sentence #</th>\n",
       "      <th>Word</th>\n",
       "      <th>POS</th>\n",
       "      <th>Tag</th>\n",
       "    </tr>\n",
       "  </thead>\n",
       "  <tbody>\n",
       "    <tr>\n",
       "      <th>0</th>\n",
       "      <td>Sentence: 1</td>\n",
       "      <td>Thousands</td>\n",
       "      <td>NNS</td>\n",
       "      <td>O</td>\n",
       "    </tr>\n",
       "    <tr>\n",
       "      <th>1</th>\n",
       "      <td>NaN</td>\n",
       "      <td>of</td>\n",
       "      <td>IN</td>\n",
       "      <td>O</td>\n",
       "    </tr>\n",
       "    <tr>\n",
       "      <th>2</th>\n",
       "      <td>NaN</td>\n",
       "      <td>demonstrators</td>\n",
       "      <td>NNS</td>\n",
       "      <td>O</td>\n",
       "    </tr>\n",
       "    <tr>\n",
       "      <th>3</th>\n",
       "      <td>NaN</td>\n",
       "      <td>have</td>\n",
       "      <td>VBP</td>\n",
       "      <td>O</td>\n",
       "    </tr>\n",
       "    <tr>\n",
       "      <th>4</th>\n",
       "      <td>NaN</td>\n",
       "      <td>marched</td>\n",
       "      <td>VBN</td>\n",
       "      <td>O</td>\n",
       "    </tr>\n",
       "    <tr>\n",
       "      <th>5</th>\n",
       "      <td>NaN</td>\n",
       "      <td>through</td>\n",
       "      <td>IN</td>\n",
       "      <td>O</td>\n",
       "    </tr>\n",
       "    <tr>\n",
       "      <th>6</th>\n",
       "      <td>NaN</td>\n",
       "      <td>London</td>\n",
       "      <td>NNP</td>\n",
       "      <td>B-geo</td>\n",
       "    </tr>\n",
       "    <tr>\n",
       "      <th>7</th>\n",
       "      <td>NaN</td>\n",
       "      <td>to</td>\n",
       "      <td>TO</td>\n",
       "      <td>O</td>\n",
       "    </tr>\n",
       "    <tr>\n",
       "      <th>8</th>\n",
       "      <td>NaN</td>\n",
       "      <td>protest</td>\n",
       "      <td>VB</td>\n",
       "      <td>O</td>\n",
       "    </tr>\n",
       "    <tr>\n",
       "      <th>9</th>\n",
       "      <td>NaN</td>\n",
       "      <td>the</td>\n",
       "      <td>DT</td>\n",
       "      <td>O</td>\n",
       "    </tr>\n",
       "    <tr>\n",
       "      <th>10</th>\n",
       "      <td>NaN</td>\n",
       "      <td>war</td>\n",
       "      <td>NN</td>\n",
       "      <td>O</td>\n",
       "    </tr>\n",
       "    <tr>\n",
       "      <th>11</th>\n",
       "      <td>NaN</td>\n",
       "      <td>in</td>\n",
       "      <td>IN</td>\n",
       "      <td>O</td>\n",
       "    </tr>\n",
       "    <tr>\n",
       "      <th>12</th>\n",
       "      <td>NaN</td>\n",
       "      <td>Iraq</td>\n",
       "      <td>NNP</td>\n",
       "      <td>B-geo</td>\n",
       "    </tr>\n",
       "    <tr>\n",
       "      <th>13</th>\n",
       "      <td>NaN</td>\n",
       "      <td>and</td>\n",
       "      <td>CC</td>\n",
       "      <td>O</td>\n",
       "    </tr>\n",
       "    <tr>\n",
       "      <th>14</th>\n",
       "      <td>NaN</td>\n",
       "      <td>demand</td>\n",
       "      <td>VB</td>\n",
       "      <td>O</td>\n",
       "    </tr>\n",
       "    <tr>\n",
       "      <th>15</th>\n",
       "      <td>NaN</td>\n",
       "      <td>the</td>\n",
       "      <td>DT</td>\n",
       "      <td>O</td>\n",
       "    </tr>\n",
       "    <tr>\n",
       "      <th>16</th>\n",
       "      <td>NaN</td>\n",
       "      <td>withdrawal</td>\n",
       "      <td>NN</td>\n",
       "      <td>O</td>\n",
       "    </tr>\n",
       "    <tr>\n",
       "      <th>17</th>\n",
       "      <td>NaN</td>\n",
       "      <td>of</td>\n",
       "      <td>IN</td>\n",
       "      <td>O</td>\n",
       "    </tr>\n",
       "    <tr>\n",
       "      <th>18</th>\n",
       "      <td>NaN</td>\n",
       "      <td>British</td>\n",
       "      <td>JJ</td>\n",
       "      <td>B-gpe</td>\n",
       "    </tr>\n",
       "    <tr>\n",
       "      <th>19</th>\n",
       "      <td>NaN</td>\n",
       "      <td>troops</td>\n",
       "      <td>NNS</td>\n",
       "      <td>O</td>\n",
       "    </tr>\n",
       "    <tr>\n",
       "      <th>20</th>\n",
       "      <td>NaN</td>\n",
       "      <td>from</td>\n",
       "      <td>IN</td>\n",
       "      <td>O</td>\n",
       "    </tr>\n",
       "    <tr>\n",
       "      <th>21</th>\n",
       "      <td>NaN</td>\n",
       "      <td>that</td>\n",
       "      <td>DT</td>\n",
       "      <td>O</td>\n",
       "    </tr>\n",
       "    <tr>\n",
       "      <th>22</th>\n",
       "      <td>NaN</td>\n",
       "      <td>country</td>\n",
       "      <td>NN</td>\n",
       "      <td>O</td>\n",
       "    </tr>\n",
       "    <tr>\n",
       "      <th>23</th>\n",
       "      <td>NaN</td>\n",
       "      <td>.</td>\n",
       "      <td>.</td>\n",
       "      <td>O</td>\n",
       "    </tr>\n",
       "    <tr>\n",
       "      <th>24</th>\n",
       "      <td>Sentence: 2</td>\n",
       "      <td>Families</td>\n",
       "      <td>NNS</td>\n",
       "      <td>O</td>\n",
       "    </tr>\n",
       "  </tbody>\n",
       "</table>\n",
       "</div>"
      ],
      "text/plain": [
       "     Sentence #           Word  POS    Tag\n",
       "0   Sentence: 1      Thousands  NNS      O\n",
       "1           NaN             of   IN      O\n",
       "2           NaN  demonstrators  NNS      O\n",
       "3           NaN           have  VBP      O\n",
       "4           NaN        marched  VBN      O\n",
       "5           NaN        through   IN      O\n",
       "6           NaN         London  NNP  B-geo\n",
       "7           NaN             to   TO      O\n",
       "8           NaN        protest   VB      O\n",
       "9           NaN            the   DT      O\n",
       "10          NaN            war   NN      O\n",
       "11          NaN             in   IN      O\n",
       "12          NaN           Iraq  NNP  B-geo\n",
       "13          NaN            and   CC      O\n",
       "14          NaN         demand   VB      O\n",
       "15          NaN            the   DT      O\n",
       "16          NaN     withdrawal   NN      O\n",
       "17          NaN             of   IN      O\n",
       "18          NaN        British   JJ  B-gpe\n",
       "19          NaN         troops  NNS      O\n",
       "20          NaN           from   IN      O\n",
       "21          NaN           that   DT      O\n",
       "22          NaN        country   NN      O\n",
       "23          NaN              .    .      O\n",
       "24  Sentence: 2       Families  NNS      O"
      ]
     },
     "execution_count": 3,
     "metadata": {},
     "output_type": "execute_result"
    }
   ],
   "source": [
    "df.head(25)"
   ]
  },
  {
   "cell_type": "code",
   "execution_count": 4,
   "metadata": {},
   "outputs": [
    {
     "data": {
      "text/html": [
       "<div>\n",
       "<style scoped>\n",
       "    .dataframe tbody tr th:only-of-type {\n",
       "        vertical-align: middle;\n",
       "    }\n",
       "\n",
       "    .dataframe tbody tr th {\n",
       "        vertical-align: top;\n",
       "    }\n",
       "\n",
       "    .dataframe thead th {\n",
       "        text-align: right;\n",
       "    }\n",
       "</style>\n",
       "<table border=\"1\" class=\"dataframe\">\n",
       "  <thead>\n",
       "    <tr style=\"text-align: right;\">\n",
       "      <th></th>\n",
       "      <th>Sentence #</th>\n",
       "      <th>Word</th>\n",
       "      <th>POS</th>\n",
       "    </tr>\n",
       "    <tr>\n",
       "      <th>Tag</th>\n",
       "      <th></th>\n",
       "      <th></th>\n",
       "      <th></th>\n",
       "    </tr>\n",
       "  </thead>\n",
       "  <tbody>\n",
       "    <tr>\n",
       "      <th>B-art</th>\n",
       "      <td>18</td>\n",
       "      <td>402</td>\n",
       "      <td>402</td>\n",
       "    </tr>\n",
       "    <tr>\n",
       "      <th>B-eve</th>\n",
       "      <td>10</td>\n",
       "      <td>308</td>\n",
       "      <td>308</td>\n",
       "    </tr>\n",
       "    <tr>\n",
       "      <th>B-geo</th>\n",
       "      <td>3335</td>\n",
       "      <td>37644</td>\n",
       "      <td>37644</td>\n",
       "    </tr>\n",
       "    <tr>\n",
       "      <th>B-gpe</th>\n",
       "      <td>2989</td>\n",
       "      <td>15870</td>\n",
       "      <td>15870</td>\n",
       "    </tr>\n",
       "    <tr>\n",
       "      <th>B-nat</th>\n",
       "      <td>11</td>\n",
       "      <td>201</td>\n",
       "      <td>201</td>\n",
       "    </tr>\n",
       "    <tr>\n",
       "      <th>B-org</th>\n",
       "      <td>2752</td>\n",
       "      <td>20143</td>\n",
       "      <td>20143</td>\n",
       "    </tr>\n",
       "    <tr>\n",
       "      <th>B-per</th>\n",
       "      <td>4019</td>\n",
       "      <td>16990</td>\n",
       "      <td>16990</td>\n",
       "    </tr>\n",
       "    <tr>\n",
       "      <th>B-tim</th>\n",
       "      <td>515</td>\n",
       "      <td>20333</td>\n",
       "      <td>20333</td>\n",
       "    </tr>\n",
       "    <tr>\n",
       "      <th>I-art</th>\n",
       "      <td>0</td>\n",
       "      <td>297</td>\n",
       "      <td>297</td>\n",
       "    </tr>\n",
       "    <tr>\n",
       "      <th>I-eve</th>\n",
       "      <td>0</td>\n",
       "      <td>253</td>\n",
       "      <td>253</td>\n",
       "    </tr>\n",
       "    <tr>\n",
       "      <th>I-geo</th>\n",
       "      <td>0</td>\n",
       "      <td>7414</td>\n",
       "      <td>7414</td>\n",
       "    </tr>\n",
       "    <tr>\n",
       "      <th>I-gpe</th>\n",
       "      <td>0</td>\n",
       "      <td>198</td>\n",
       "      <td>198</td>\n",
       "    </tr>\n",
       "    <tr>\n",
       "      <th>I-nat</th>\n",
       "      <td>0</td>\n",
       "      <td>51</td>\n",
       "      <td>51</td>\n",
       "    </tr>\n",
       "    <tr>\n",
       "      <th>I-org</th>\n",
       "      <td>0</td>\n",
       "      <td>16784</td>\n",
       "      <td>16784</td>\n",
       "    </tr>\n",
       "    <tr>\n",
       "      <th>I-per</th>\n",
       "      <td>0</td>\n",
       "      <td>17251</td>\n",
       "      <td>17251</td>\n",
       "    </tr>\n",
       "    <tr>\n",
       "      <th>I-tim</th>\n",
       "      <td>0</td>\n",
       "      <td>6528</td>\n",
       "      <td>6528</td>\n",
       "    </tr>\n",
       "    <tr>\n",
       "      <th>O</th>\n",
       "      <td>34310</td>\n",
       "      <td>887908</td>\n",
       "      <td>887908</td>\n",
       "    </tr>\n",
       "  </tbody>\n",
       "</table>\n",
       "</div>"
      ],
      "text/plain": [
       "       Sentence #    Word     POS\n",
       "Tag                              \n",
       "B-art          18     402     402\n",
       "B-eve          10     308     308\n",
       "B-geo        3335   37644   37644\n",
       "B-gpe        2989   15870   15870\n",
       "B-nat          11     201     201\n",
       "B-org        2752   20143   20143\n",
       "B-per        4019   16990   16990\n",
       "B-tim         515   20333   20333\n",
       "I-art           0     297     297\n",
       "I-eve           0     253     253\n",
       "I-geo           0    7414    7414\n",
       "I-gpe           0     198     198\n",
       "I-nat           0      51      51\n",
       "I-org           0   16784   16784\n",
       "I-per           0   17251   17251\n",
       "I-tim           0    6528    6528\n",
       "O           34310  887908  887908"
      ]
     },
     "execution_count": 4,
     "metadata": {},
     "output_type": "execute_result"
    }
   ],
   "source": [
    "df.groupby('Tag').count()"
   ]
  },
  {
   "cell_type": "code",
   "execution_count": 5,
   "metadata": {},
   "outputs": [],
   "source": [
    "words = df['Word'].unique()\n",
    "dif_tags = df['Tag'].unique()"
   ]
  },
  {
   "cell_type": "code",
   "execution_count": 6,
   "metadata": {},
   "outputs": [],
   "source": [
    "word2index = {word:i+1 for i, word in enumerate(words)}\n",
    "tag2index = {tag:i for i, tag in enumerate(dif_tags)}\n",
    "pos2index = {pos:i+1 for i, pos in enumerate(df['POS'].unique())}"
   ]
  },
  {
   "cell_type": "code",
   "execution_count": 7,
   "metadata": {},
   "outputs": [
    {
     "data": {
      "text/plain": [
       "{'O': 0,\n",
       " 'B-geo': 1,\n",
       " 'B-gpe': 2,\n",
       " 'B-per': 3,\n",
       " 'I-geo': 4,\n",
       " 'B-org': 5,\n",
       " 'I-org': 6,\n",
       " 'B-tim': 7,\n",
       " 'B-art': 8,\n",
       " 'I-art': 9,\n",
       " 'I-per': 10,\n",
       " 'I-gpe': 11,\n",
       " 'I-tim': 12,\n",
       " 'B-nat': 13,\n",
       " 'B-eve': 14,\n",
       " 'I-eve': 15,\n",
       " 'I-nat': 16}"
      ]
     },
     "execution_count": 7,
     "metadata": {},
     "output_type": "execute_result"
    }
   ],
   "source": [
    "tag2index"
   ]
  },
  {
   "cell_type": "markdown",
   "metadata": {},
   "source": [
    "## Extract sentences from dataframe"
   ]
  },
  {
   "cell_type": "code",
   "execution_count": 8,
   "metadata": {},
   "outputs": [],
   "source": [
    "sentences = []\n",
    "tags = []\n",
    "pos = []\n",
    "\n",
    "sentence = [df.values[0][1]]\n",
    "tag = [df.values[0][3]]\n",
    "poss = [df.values[0][2]]\n",
    "\n",
    "for row in df.values[1:]:\n",
    "    \n",
    "    if type(row[0]) != str:\n",
    "        sentence.append(row[1])\n",
    "        poss.append(row[2])\n",
    "        tag.append(row[3])\n",
    "    \n",
    "    else:\n",
    "        sentences.append(sentence)\n",
    "        pos.append(poss)\n",
    "        tags.append(tag)\n",
    "        sentence = [row[1]]\n",
    "        poss = [row[2]]\n",
    "        tag = [row[3]]"
   ]
  },
  {
   "cell_type": "code",
   "execution_count": 9,
   "metadata": {},
   "outputs": [
    {
     "data": {
      "text/plain": [
       "(['Families',\n",
       "  'of',\n",
       "  'soldiers',\n",
       "  'killed',\n",
       "  'in',\n",
       "  'the',\n",
       "  'conflict',\n",
       "  'joined',\n",
       "  'the',\n",
       "  'protesters',\n",
       "  'who',\n",
       "  'carried',\n",
       "  'banners',\n",
       "  'with',\n",
       "  'such',\n",
       "  'slogans',\n",
       "  'as',\n",
       "  '\"',\n",
       "  'Bush',\n",
       "  'Number',\n",
       "  'One',\n",
       "  'Terrorist',\n",
       "  '\"',\n",
       "  'and',\n",
       "  '\"',\n",
       "  'Stop',\n",
       "  'the',\n",
       "  'Bombings',\n",
       "  '.',\n",
       "  '\"'],\n",
       " ['NNS',\n",
       "  'IN',\n",
       "  'NNS',\n",
       "  'VBN',\n",
       "  'IN',\n",
       "  'DT',\n",
       "  'NN',\n",
       "  'VBD',\n",
       "  'DT',\n",
       "  'NNS',\n",
       "  'WP',\n",
       "  'VBD',\n",
       "  'NNS',\n",
       "  'IN',\n",
       "  'JJ',\n",
       "  'NNS',\n",
       "  'IN',\n",
       "  '``',\n",
       "  'NNP',\n",
       "  'NN',\n",
       "  'CD',\n",
       "  'NN',\n",
       "  '``',\n",
       "  'CC',\n",
       "  '``',\n",
       "  'VB',\n",
       "  'DT',\n",
       "  'NNS',\n",
       "  '.',\n",
       "  '``'],\n",
       " ['O',\n",
       "  'O',\n",
       "  'O',\n",
       "  'O',\n",
       "  'O',\n",
       "  'O',\n",
       "  'O',\n",
       "  'O',\n",
       "  'O',\n",
       "  'O',\n",
       "  'O',\n",
       "  'O',\n",
       "  'O',\n",
       "  'O',\n",
       "  'O',\n",
       "  'O',\n",
       "  'O',\n",
       "  'O',\n",
       "  'B-per',\n",
       "  'O',\n",
       "  'O',\n",
       "  'O',\n",
       "  'O',\n",
       "  'O',\n",
       "  'O',\n",
       "  'O',\n",
       "  'O',\n",
       "  'O',\n",
       "  'O',\n",
       "  'O'])"
      ]
     },
     "execution_count": 9,
     "metadata": {},
     "output_type": "execute_result"
    }
   ],
   "source": [
    "sentences[1], pos[1], tags[1]"
   ]
  },
  {
   "cell_type": "code",
   "execution_count": 10,
   "metadata": {},
   "outputs": [],
   "source": [
    "X = [[word2index[word] for word in sentence] for sentence in sentences]\n",
    "y = [[tag2index[tag] for tag in tag_] for tag_ in tags]\n",
    "pos_tokens =  [[pos2index[posss] for posss in pos_] for pos_ in pos]"
   ]
  },
  {
   "cell_type": "code",
   "execution_count": 11,
   "metadata": {},
   "outputs": [
    {
     "data": {
      "text/plain": [
       "([23,\n",
       "  2,\n",
       "  24,\n",
       "  25,\n",
       "  12,\n",
       "  10,\n",
       "  26,\n",
       "  27,\n",
       "  10,\n",
       "  28,\n",
       "  29,\n",
       "  30,\n",
       "  31,\n",
       "  32,\n",
       "  33,\n",
       "  34,\n",
       "  35,\n",
       "  36,\n",
       "  37,\n",
       "  38,\n",
       "  39,\n",
       "  40,\n",
       "  36,\n",
       "  14,\n",
       "  36,\n",
       "  41,\n",
       "  10,\n",
       "  42,\n",
       "  22,\n",
       "  36],\n",
       " [0,\n",
       "  0,\n",
       "  0,\n",
       "  0,\n",
       "  0,\n",
       "  0,\n",
       "  0,\n",
       "  0,\n",
       "  0,\n",
       "  0,\n",
       "  0,\n",
       "  0,\n",
       "  0,\n",
       "  0,\n",
       "  0,\n",
       "  0,\n",
       "  0,\n",
       "  0,\n",
       "  3,\n",
       "  0,\n",
       "  0,\n",
       "  0,\n",
       "  0,\n",
       "  0,\n",
       "  0,\n",
       "  0,\n",
       "  0,\n",
       "  0,\n",
       "  0,\n",
       "  0],\n",
       " [1,\n",
       "  2,\n",
       "  1,\n",
       "  4,\n",
       "  2,\n",
       "  8,\n",
       "  9,\n",
       "  13,\n",
       "  8,\n",
       "  1,\n",
       "  14,\n",
       "  13,\n",
       "  1,\n",
       "  2,\n",
       "  11,\n",
       "  1,\n",
       "  2,\n",
       "  15,\n",
       "  5,\n",
       "  9,\n",
       "  16,\n",
       "  9,\n",
       "  15,\n",
       "  10,\n",
       "  15,\n",
       "  7,\n",
       "  8,\n",
       "  1,\n",
       "  12,\n",
       "  15])"
      ]
     },
     "execution_count": 11,
     "metadata": {},
     "output_type": "execute_result"
    }
   ],
   "source": [
    "X[1], y[1], pos_tokens[1]"
   ]
  },
  {
   "cell_type": "code",
   "execution_count": 12,
   "metadata": {},
   "outputs": [],
   "source": [
    "from keras.preprocessing.sequence import pad_sequences"
   ]
  },
  {
   "cell_type": "code",
   "execution_count": 13,
   "metadata": {},
   "outputs": [
    {
     "name": "stdout",
     "output_type": "stream",
     "text": [
      "104\n"
     ]
    }
   ],
   "source": [
    "max_len=max(len(s) for s in sentences)  \n",
    "print(max_len)"
   ]
  },
  {
   "cell_type": "code",
   "execution_count": 14,
   "metadata": {},
   "outputs": [],
   "source": [
    "X_final = pad_sequences(X, maxlen=max_len, padding='post')"
   ]
  },
  {
   "cell_type": "code",
   "execution_count": 15,
   "metadata": {},
   "outputs": [],
   "source": [
    "y = pad_sequences(y, maxlen=max_len, padding='post')"
   ]
  },
  {
   "cell_type": "code",
   "execution_count": 16,
   "metadata": {},
   "outputs": [],
   "source": [
    "pos_tokens = pad_sequences(pos_tokens, maxlen=max_len, padding='post')"
   ]
  },
  {
   "cell_type": "code",
   "execution_count": 17,
   "metadata": {},
   "outputs": [],
   "source": [
    "def one_hot_encoding(pos, num_labels=17):\n",
    "    array = np.zeros(num_labels)\n",
    "    array[pos] = 1\n",
    "    return array"
   ]
  },
  {
   "cell_type": "code",
   "execution_count": 18,
   "metadata": {},
   "outputs": [],
   "source": [
    "y_final = np.array([np.array([one_hot_encoding(pos) for pos in list_tags])\n",
    "           for list_tags in y])"
   ]
  },
  {
   "cell_type": "code",
   "execution_count": 19,
   "metadata": {},
   "outputs": [],
   "source": [
    "word2index[\"PAD\"] = 0\n",
    "word2index[\"UNK\"] = len(words)+1"
   ]
  },
  {
   "cell_type": "code",
   "execution_count": 20,
   "metadata": {},
   "outputs": [],
   "source": [
    "pos2index[\"PAD\"] = 0"
   ]
  },
  {
   "cell_type": "code",
   "execution_count": 21,
   "metadata": {},
   "outputs": [],
   "source": [
    "index2tag = {v: k for k, v in tag2index.items()}\n",
    "index2word = {v: k for k, v in word2index.items()}\n",
    "index2pos = {v: k for k, v in pos2index.items()}"
   ]
  },
  {
   "cell_type": "markdown",
   "metadata": {},
   "source": [
    "## Model 1"
   ]
  },
  {
   "cell_type": "code",
   "execution_count": 93,
   "metadata": {},
   "outputs": [],
   "source": [
    "from keras.layers import Bidirectional, LSTM, Embedding, TimeDistributed, Dense, concatenate\n",
    "from keras.callbacks import EarlyStopping\n",
    "def build_model():\n",
    "    model = keras.models.Sequential()\n",
    "    \n",
    "    model.add(Embedding(input_dim=len(words)+2, output_dim=128, input_length=104))\n",
    "    model.add(Bidirectional(LSTM(units=100, return_sequences=True, recurrent_dropout=0.1)))\n",
    "    model.add(TimeDistributed(Dense(len(tag2index), activation=\"softmax\")))\n",
    "    \n",
    "    model.compile(optimizer=\"adam\", loss=\"categorical_crossentropy\", metrics=[\"accuracy\"])\n",
    "    return model"
   ]
  },
  {
   "cell_type": "code",
   "execution_count": 23,
   "metadata": {},
   "outputs": [],
   "source": [
    "model = build_model()"
   ]
  },
  {
   "cell_type": "code",
   "execution_count": 24,
   "metadata": {},
   "outputs": [
    {
     "name": "stdout",
     "output_type": "stream",
     "text": [
      "Model: \"sequential_1\"\n",
      "_________________________________________________________________\n",
      "Layer (type)                 Output Shape              Param #   \n",
      "=================================================================\n",
      "embedding_1 (Embedding)      (None, 104, 128)          4503040   \n",
      "_________________________________________________________________\n",
      "bidirectional_1 (Bidirection (None, 104, 200)          183200    \n",
      "_________________________________________________________________\n",
      "time_distributed_1 (TimeDist (None, 104, 17)           3417      \n",
      "=================================================================\n",
      "Total params: 4,689,657\n",
      "Trainable params: 4,689,657\n",
      "Non-trainable params: 0\n",
      "_________________________________________________________________\n"
     ]
    }
   ],
   "source": [
    "model.summary()"
   ]
  },
  {
   "cell_type": "code",
   "execution_count": 56,
   "metadata": {},
   "outputs": [],
   "source": [
    "X_train = X_final[0:35970]\n",
    "X_test  = X_final[35970:]\n",
    "\n",
    "y_train = y_final[0:35970]\n",
    "y_test  = y_final[35970:]"
   ]
  },
  {
   "cell_type": "code",
   "execution_count": 27,
   "metadata": {},
   "outputs": [
    {
     "name": "stdout",
     "output_type": "stream",
     "text": [
      "Train on 35970 samples, validate on 11988 samples\n",
      "Epoch 1/10\n",
      "35970/35970 [==============================] - 463s 13ms/step - loss: 0.0929 - acc: 0.9809 - val_loss: 0.0298 - val_acc: 0.9913\n",
      "Epoch 2/10\n",
      "35970/35970 [==============================] - 460s 13ms/step - loss: 0.0229 - acc: 0.9932 - val_loss: 0.0244 - val_acc: 0.9925\n",
      "Epoch 3/10\n",
      "35970/35970 [==============================] - 469s 13ms/step - loss: 0.0166 - acc: 0.9948 - val_loss: 0.0237 - val_acc: 0.9929\n",
      "Epoch 4/10\n",
      "35970/35970 [==============================] - 470s 13ms/step - loss: 0.0134 - acc: 0.9957 - val_loss: 0.0254 - val_acc: 0.9927\n",
      "Epoch 5/10\n",
      "35970/35970 [==============================] - 461s 13ms/step - loss: 0.0113 - acc: 0.9963 - val_loss: 0.0255 - val_acc: 0.9928\n",
      "Epoch 00005: early stopping\n"
     ]
    }
   ],
   "source": [
    "es = EarlyStopping(monitor='val_loss', mode='min', patience=2, verbose=1)\n",
    "history = model.fit(X_train, y_train, batch_size=32, epochs=10, validation_data=(X_test, y_test), verbose=1, callbacks=[es])\n"
   ]
  },
  {
   "cell_type": "code",
   "execution_count": 29,
   "metadata": {},
   "outputs": [],
   "source": [
    "model.save(\"normalmodel.h5\")"
   ]
  },
  {
   "cell_type": "code",
   "execution_count": 30,
   "metadata": {},
   "outputs": [],
   "source": [
    "def plot_history(history):\n",
    "    \n",
    "    plt.plot(history.history['acc'])\n",
    "    plt.plot(history.history['val_acc'])\n",
    "    plt.title('model accuracy')\n",
    "    plt.ylabel('accuracy')\n",
    "    plt.xlabel('epoch')\n",
    "    plt.legend(['train', 'test'], loc='upper left')\n",
    "    plt.show()\n",
    "    # summarize history for loss\n",
    "    plt.plot(history.history['loss'])\n",
    "    plt.plot(history.history['val_loss'])\n",
    "    plt.title('model loss')\n",
    "    plt.ylabel('loss')\n",
    "    plt.xlabel('epoch')\n",
    "    plt.legend(['train', 'test'], loc='upper left')\n",
    "    plt.show()\n",
    "    \n"
   ]
  },
  {
   "cell_type": "code",
   "execution_count": 31,
   "metadata": {},
   "outputs": [
    {
     "data": {
      "image/png": "[encoded data removed]",
      "text/plain": [
       "<Figure size 432x288 with 1 Axes>"
      ]
     },
     "metadata": {
      "needs_background": "light"
     },
     "output_type": "display_data"
    },
    {
     "data": {
      "image/png": "[encoded data removed]",
      "text/plain": [
       "<Figure size 432x288 with 1 Axes>"
      ]
     },
     "metadata": {
      "needs_background": "light"
     },
     "output_type": "display_data"
    }
   ],
   "source": [
    "plot_history(history)"
   ]
  },
  {
   "cell_type": "code",
   "execution_count": 32,
   "metadata": {},
   "outputs": [],
   "source": [
    "def show_predictions(x, y_true):\n",
    "    preds = model.predict(x.reshape(1,-1))\n",
    "    print(\"{:15}||{:5}||{}\".format(\"Word\", \"True\", \"Pred\"))\n",
    "    for i in range(len(x)):\n",
    "        if index2word[x[i]] == \"PAD\": break\n",
    "        print(\"{:15}: {:5} {}\".format(index2word[int(x[i])], index2tag[int(preds[0][i].argmax())], index2tag[y_true[i].argmax()]))"
   ]
  },
  {
   "cell_type": "markdown",
   "metadata": {},
   "source": [
    "You can execute the following cell to see predictions of the model"
   ]
  },
  {
   "cell_type": "code",
   "execution_count": 35,
   "metadata": {},
   "outputs": [
    {
     "name": "stdout",
     "output_type": "stream",
     "text": [
      "Word           ||True ||Pred\n",
      "In             : O     O\n",
      "its            : O     O\n",
      "annual         : O     O\n",
      "report         : O     O\n",
      "on             : O     O\n",
      "proliferation  : O     O\n",
      "threats        : O     O\n",
      "released       : O     O\n",
      "to             : O     O\n",
      "lawmakers      : O     O\n",
      "Tuesday        : B-tim B-tim\n",
      ",              : O     O\n",
      "the            : O     O\n",
      "CIA            : B-org B-org\n",
      "said           : O     O\n",
      "al-Qaida       : B-org B-org\n",
      "'s             : O     O\n",
      "stated         : O     O\n",
      "desire         : O     O\n",
      "to             : O     O\n",
      "carry          : O     O\n",
      "out            : O     O\n",
      "attacks        : O     O\n",
      "using          : O     O\n",
      "chemical       : O     O\n",
      ",              : O     O\n",
      "biological     : O     O\n",
      "or             : O     O\n",
      "nuclear        : O     O\n",
      "materials      : O     O\n",
      "is             : O     O\n",
      "one            : O     O\n",
      "of             : O     O\n",
      "the            : O     O\n",
      "agency         : O     O\n",
      "'s             : O     O\n",
      "highest        : O     O\n",
      "concerns       : O     O\n",
      ".              : O     O\n"
     ]
    }
   ],
   "source": [
    "import random\n",
    "a = random.randint(0, 45000)\n",
    "show_predictions(X_final[a], y_final[a])"
   ]
  },
  {
   "cell_type": "code",
   "execution_count": 36,
   "metadata": {},
   "outputs": [],
   "source": [
    "from sklearn.metrics import accuracy_score"
   ]
  },
  {
   "cell_type": "markdown",
   "metadata": {},
   "source": [
    "Let's create function to compute the number of correct sentences (fully correct) over the total"
   ]
  },
  {
   "cell_type": "code",
   "execution_count": 37,
   "metadata": {},
   "outputs": [],
   "source": [
    "def check_total_sentences(xtrue, ytrue, model):\n",
    "    preds = model.predict(xtrue).argmax(axis=2)\n",
    "    err = 0\n",
    "    for i, pred in enumerate(preds):\n",
    "        \n",
    "        if (pred  == ytrue[i].argmax(axis=1)).all():\n",
    "            pass\n",
    "        \n",
    "        else:\n",
    "            err += 1\n",
    "            \n",
    "    print(\"Total acc is: \", (len(ytrue)-err)/len(ytrue))"
   ]
  },
  {
   "cell_type": "code",
   "execution_count": 38,
   "metadata": {},
   "outputs": [
    {
     "name": "stdout",
     "output_type": "stream",
     "text": [
      "Total acc is:  0.6133633633633634\n"
     ]
    }
   ],
   "source": [
    "check_total_sentences(X_test, y_test, model)"
   ]
  },
  {
   "cell_type": "code",
   "execution_count": 322,
   "metadata": {},
   "outputs": [
    {
     "name": "stdout",
     "output_type": "stream",
     "text": [
      "Total acc is:  0.8191826522101752\n"
     ]
    }
   ],
   "source": [
    "check_total_sentences(X_train, y_train, model)"
   ]
  },
  {
   "cell_type": "markdown",
   "metadata": {},
   "source": [
    "#### F1 score and confusion matrix"
   ]
  },
  {
   "cell_type": "markdown",
   "metadata": {},
   "source": [
    "Train"
   ]
  },
  {
   "cell_type": "code",
   "execution_count": 282,
   "metadata": {},
   "outputs": [],
   "source": [
    "preds = model.predict(X_train).argmax(axis=2)"
   ]
  },
  {
   "cell_type": "code",
   "execution_count": 286,
   "metadata": {},
   "outputs": [],
   "source": [
    "conf_matrix = np.zeros((17,17))\n",
    "ground_truth = y_train.argmax(axis=2)"
   ]
  },
  {
   "cell_type": "code",
   "execution_count": 287,
   "metadata": {},
   "outputs": [],
   "source": [
    "for i in range(len(preds)):\n",
    "    for j in range(len(preds[0])):\n",
    "        conf_matrix[preds[i][j]][ground_truth[i][j]] += 1"
   ]
  },
  {
   "cell_type": "code",
   "execution_count": 288,
   "metadata": {},
   "outputs": [],
   "source": [
    "labels = list(tag2index.keys())"
   ]
  },
  {
   "cell_type": "code",
   "execution_count": 289,
   "metadata": {},
   "outputs": [
    {
     "data": {
      "image/png": "[encoded data removed]",
      "text/plain": [
       "<Figure size 720x720 with 2 Axes>"
      ]
     },
     "metadata": {},
     "output_type": "display_data"
    }
   ],
   "source": [
    "import seaborn as sn\n",
    "sn.set(font_scale=1.4)#for label size\n",
    "plt.figure(figsize=(10,10))\n",
    "sn.heatmap(conf_matrix, annot=True, xticklabels=labels, yticklabels=labels, cmap='Blues', fmt='g',annot_kws={\"size\": 12})# font size\n",
    "plt.xlabel('True label')\n",
    "plt.ylabel('Predicted label')\n",
    "plt.savefig(\"confmat.png\")\n",
    "plt.show()"
   ]
  },
  {
   "cell_type": "code",
   "execution_count": 290,
   "metadata": {},
   "outputs": [],
   "source": [
    "def recall_fun(conf_mat):\n",
    "    \n",
    "    recall_list=[]\n",
    "    size_mat = len(conf_mat)\n",
    "    \n",
    "    for i in range(0,size_mat):\n",
    "        true_positive = 0\n",
    "        false_negative = 0\n",
    "        for j in range(0,size_mat):\n",
    "            if(i==j): true_positive = conf_mat[i,j]\n",
    "            else: false_negative += conf_mat[i,j]\n",
    "        if true_positive+false_negative == 0: recall_k = 0\n",
    "        else:\n",
    "            recall_k = true_positive/(true_positive+false_negative)\n",
    "        recall_list.append(recall_k)\n",
    "        \n",
    "    return recall_list\n",
    "\n",
    "def precision_fun(conf_mat):\n",
    "    \n",
    "    precision_list=[]\n",
    "    size_mat = len(conf_mat)\n",
    "    \n",
    "    for j in range(0,size_mat):\n",
    "        true_positive = 0\n",
    "        false_positive = 0\n",
    "        for i in range(0,size_mat):\n",
    "            if(i==j): true_positive = conf_mat[i,j]\n",
    "            else: false_positive += conf_mat[i,j]\n",
    "                \n",
    "        if true_positive+false_positive == 0: precision_k = 0\n",
    "        else:\n",
    "            precision_k = true_positive/(true_positive+false_positive)\n",
    "        precision_list.append(precision_k)\n",
    "        \n",
    "    return precision_list\n",
    "\n",
    "def F1_score(conf_mat, mode = 1):\n",
    "    recall = recall_fun(conf_mat)\n",
    "    precision = precision_fun(conf_mat)\n",
    "    \n",
    "    size_mat = len(conf_mat)\n",
    "    F1 = 0\n",
    "    f1 = []\n",
    "    \n",
    "    for i in range(0,size_mat):\n",
    "        if precision[i]+recall[i] == 0: f1_k = 0\n",
    "            \n",
    "        else: \n",
    "            f1_k = (2*precision[i]*recall[i]) / (precision[i]+recall[i])\n",
    "            F1 += f1_k\n",
    "        if mode: \n",
    "            print('F1 score for {} is {} '.format(labels[i], f1_k ))\n",
    "            print('')\n",
    "            print('Precision: {}, Recall: {} '.format(precision[i], recall[i]))\n",
    "            print('')\n",
    "        f1.append([f1_k, precision[i], recall[i]])\n",
    "        \n",
    "    print('Mean F1 score is {}'.format(F1/size_mat))  \n",
    "    return F1/size_mat, f1"
   ]
  },
  {
   "cell_type": "code",
   "execution_count": 291,
   "metadata": {},
   "outputs": [
    {
     "name": "stdout",
     "output_type": "stream",
     "text": [
      "Mean F1 score is 0.766304281988409\n"
     ]
    }
   ],
   "source": [
    "avg, f1 = F1_score(conf_matrix, 0)"
   ]
  },
  {
   "cell_type": "code",
   "execution_count": 292,
   "metadata": {},
   "outputs": [
    {
     "data": {
      "text/html": [
       "<div>\n",
       "<style scoped>\n",
       "    .dataframe tbody tr th:only-of-type {\n",
       "        vertical-align: middle;\n",
       "    }\n",
       "\n",
       "    .dataframe tbody tr th {\n",
       "        vertical-align: top;\n",
       "    }\n",
       "\n",
       "    .dataframe thead th {\n",
       "        text-align: right;\n",
       "    }\n",
       "</style>\n",
       "<table border=\"1\" class=\"dataframe\">\n",
       "  <thead>\n",
       "    <tr style=\"text-align: right;\">\n",
       "      <th></th>\n",
       "      <th>F1</th>\n",
       "      <th>Precision</th>\n",
       "      <th>Recall</th>\n",
       "    </tr>\n",
       "  </thead>\n",
       "  <tbody>\n",
       "    <tr>\n",
       "      <th>O</th>\n",
       "      <td>0.999405</td>\n",
       "      <td>0.999445</td>\n",
       "      <td>0.999366</td>\n",
       "    </tr>\n",
       "    <tr>\n",
       "      <th>B-geo</th>\n",
       "      <td>0.940818</td>\n",
       "      <td>0.958650</td>\n",
       "      <td>0.923637</td>\n",
       "    </tr>\n",
       "    <tr>\n",
       "      <th>B-gpe</th>\n",
       "      <td>0.958561</td>\n",
       "      <td>0.946248</td>\n",
       "      <td>0.971197</td>\n",
       "    </tr>\n",
       "    <tr>\n",
       "      <th>B-per</th>\n",
       "      <td>0.937561</td>\n",
       "      <td>0.944579</td>\n",
       "      <td>0.930646</td>\n",
       "    </tr>\n",
       "    <tr>\n",
       "      <th>I-geo</th>\n",
       "      <td>0.927070</td>\n",
       "      <td>0.924745</td>\n",
       "      <td>0.929408</td>\n",
       "    </tr>\n",
       "    <tr>\n",
       "      <th>B-org</th>\n",
       "      <td>0.895069</td>\n",
       "      <td>0.878707</td>\n",
       "      <td>0.912052</td>\n",
       "    </tr>\n",
       "    <tr>\n",
       "      <th>I-org</th>\n",
       "      <td>0.937130</td>\n",
       "      <td>0.940604</td>\n",
       "      <td>0.933682</td>\n",
       "    </tr>\n",
       "    <tr>\n",
       "      <th>B-tim</th>\n",
       "      <td>0.954120</td>\n",
       "      <td>0.959722</td>\n",
       "      <td>0.948583</td>\n",
       "    </tr>\n",
       "    <tr>\n",
       "      <th>B-art</th>\n",
       "      <td>0.659919</td>\n",
       "      <td>0.522436</td>\n",
       "      <td>0.895604</td>\n",
       "    </tr>\n",
       "    <tr>\n",
       "      <th>I-art</th>\n",
       "      <td>0.636364</td>\n",
       "      <td>0.487705</td>\n",
       "      <td>0.915385</td>\n",
       "    </tr>\n",
       "    <tr>\n",
       "      <th>I-per</th>\n",
       "      <td>0.954029</td>\n",
       "      <td>0.957409</td>\n",
       "      <td>0.950673</td>\n",
       "    </tr>\n",
       "    <tr>\n",
       "      <th>I-gpe</th>\n",
       "      <td>0.663677</td>\n",
       "      <td>0.517483</td>\n",
       "      <td>0.925000</td>\n",
       "    </tr>\n",
       "    <tr>\n",
       "      <th>I-tim</th>\n",
       "      <td>0.922153</td>\n",
       "      <td>0.885674</td>\n",
       "      <td>0.961767</td>\n",
       "    </tr>\n",
       "    <tr>\n",
       "      <th>B-nat</th>\n",
       "      <td>0.496063</td>\n",
       "      <td>0.420000</td>\n",
       "      <td>0.605769</td>\n",
       "    </tr>\n",
       "    <tr>\n",
       "      <th>B-eve</th>\n",
       "      <td>0.546419</td>\n",
       "      <td>0.415323</td>\n",
       "      <td>0.798450</td>\n",
       "    </tr>\n",
       "    <tr>\n",
       "      <th>I-eve</th>\n",
       "      <td>0.371542</td>\n",
       "      <td>0.246073</td>\n",
       "      <td>0.758065</td>\n",
       "    </tr>\n",
       "    <tr>\n",
       "      <th>I-nat</th>\n",
       "      <td>0.227273</td>\n",
       "      <td>0.128205</td>\n",
       "      <td>1.000000</td>\n",
       "    </tr>\n",
       "  </tbody>\n",
       "</table>\n",
       "</div>"
      ],
      "text/plain": [
       "             F1  Precision    Recall\n",
       "O      0.999405   0.999445  0.999366\n",
       "B-geo  0.940818   0.958650  0.923637\n",
       "B-gpe  0.958561   0.946248  0.971197\n",
       "B-per  0.937561   0.944579  0.930646\n",
       "I-geo  0.927070   0.924745  0.929408\n",
       "B-org  0.895069   0.878707  0.912052\n",
       "I-org  0.937130   0.940604  0.933682\n",
       "B-tim  0.954120   0.959722  0.948583\n",
       "B-art  0.659919   0.522436  0.895604\n",
       "I-art  0.636364   0.487705  0.915385\n",
       "I-per  0.954029   0.957409  0.950673\n",
       "I-gpe  0.663677   0.517483  0.925000\n",
       "I-tim  0.922153   0.885674  0.961767\n",
       "B-nat  0.496063   0.420000  0.605769\n",
       "B-eve  0.546419   0.415323  0.798450\n",
       "I-eve  0.371542   0.246073  0.758065\n",
       "I-nat  0.227273   0.128205  1.000000"
      ]
     },
     "execution_count": 292,
     "metadata": {},
     "output_type": "execute_result"
    }
   ],
   "source": [
    "pd.DataFrame(f1, columns = [\"F1\", \"Precision\", \"Recall\"], index=labels)"
   ]
  },
  {
   "cell_type": "markdown",
   "metadata": {},
   "source": [
    "Test"
   ]
  },
  {
   "cell_type": "code",
   "execution_count": 219,
   "metadata": {},
   "outputs": [],
   "source": [
    "preds = model.predict(X_test).argmax(axis=2)"
   ]
  },
  {
   "cell_type": "code",
   "execution_count": 220,
   "metadata": {},
   "outputs": [],
   "source": [
    "conf_matrix = np.zeros((17,17))\n",
    "ground_truth = y_test.argmax(axis=2)"
   ]
  },
  {
   "cell_type": "code",
   "execution_count": 263,
   "metadata": {},
   "outputs": [],
   "source": [
    "for i in range(len(preds)):\n",
    "    for j in range(len(preds[0])):\n",
    "        conf_matrix[preds[i][j]][ground_truth[i][j]] += 1"
   ]
  },
  {
   "cell_type": "code",
   "execution_count": 265,
   "metadata": {},
   "outputs": [
    {
     "data": {
      "image/png": "[encoded data removed]",
      "text/plain": [
       "<Figure size 720x720 with 2 Axes>"
      ]
     },
     "metadata": {},
     "output_type": "display_data"
    }
   ],
   "source": [
    "import seaborn as sn\n",
    "sn.set(font_scale=1.4)#for label size\n",
    "plt.figure(figsize=(10,10))\n",
    "sn.heatmap(conf_matrix, annot=True, xticklabels=labels, yticklabels=labels, cmap='Blues', fmt='g',annot_kws={\"size\": 12})# font size\n",
    "plt.xlabel('True label')\n",
    "plt.ylabel('Predicted label')\n",
    "plt.savefig(\"confmat.png\")\n",
    "plt.show()"
   ]
  },
  {
   "cell_type": "code",
   "execution_count": 267,
   "metadata": {},
   "outputs": [
    {
     "name": "stdout",
     "output_type": "stream",
     "text": [
      "Mean F1 score is 0.6081346205463628\n"
     ]
    }
   ],
   "source": [
    "avg, f1 = F1_score(conf_matrix, 0)"
   ]
  },
  {
   "cell_type": "code",
   "execution_count": 268,
   "metadata": {},
   "outputs": [
    {
     "data": {
      "text/html": [
       "<div>\n",
       "<style scoped>\n",
       "    .dataframe tbody tr th:only-of-type {\n",
       "        vertical-align: middle;\n",
       "    }\n",
       "\n",
       "    .dataframe tbody tr th {\n",
       "        vertical-align: top;\n",
       "    }\n",
       "\n",
       "    .dataframe thead th {\n",
       "        text-align: right;\n",
       "    }\n",
       "</style>\n",
       "<table border=\"1\" class=\"dataframe\">\n",
       "  <thead>\n",
       "    <tr style=\"text-align: right;\">\n",
       "      <th></th>\n",
       "      <th>F1</th>\n",
       "      <th>Precision</th>\n",
       "      <th>Recall</th>\n",
       "    </tr>\n",
       "  </thead>\n",
       "  <tbody>\n",
       "    <tr>\n",
       "      <th>O</th>\n",
       "      <td>0.998028</td>\n",
       "      <td>0.998739</td>\n",
       "      <td>0.997319</td>\n",
       "    </tr>\n",
       "    <tr>\n",
       "      <th>B-geo</th>\n",
       "      <td>0.868493</td>\n",
       "      <td>0.873812</td>\n",
       "      <td>0.863238</td>\n",
       "    </tr>\n",
       "    <tr>\n",
       "      <th>B-gpe</th>\n",
       "      <td>0.962634</td>\n",
       "      <td>0.958027</td>\n",
       "      <td>0.967286</td>\n",
       "    </tr>\n",
       "    <tr>\n",
       "      <th>B-per</th>\n",
       "      <td>0.792026</td>\n",
       "      <td>0.769667</td>\n",
       "      <td>0.815724</td>\n",
       "    </tr>\n",
       "    <tr>\n",
       "      <th>I-geo</th>\n",
       "      <td>0.793268</td>\n",
       "      <td>0.771413</td>\n",
       "      <td>0.816397</td>\n",
       "    </tr>\n",
       "    <tr>\n",
       "      <th>B-org</th>\n",
       "      <td>0.730721</td>\n",
       "      <td>0.694992</td>\n",
       "      <td>0.770323</td>\n",
       "    </tr>\n",
       "    <tr>\n",
       "      <th>I-org</th>\n",
       "      <td>0.778658</td>\n",
       "      <td>0.753596</td>\n",
       "      <td>0.805444</td>\n",
       "    </tr>\n",
       "    <tr>\n",
       "      <th>B-tim</th>\n",
       "      <td>0.887833</td>\n",
       "      <td>0.881116</td>\n",
       "      <td>0.894653</td>\n",
       "    </tr>\n",
       "    <tr>\n",
       "      <th>B-art</th>\n",
       "      <td>0.094340</td>\n",
       "      <td>0.055556</td>\n",
       "      <td>0.312500</td>\n",
       "    </tr>\n",
       "    <tr>\n",
       "      <th>I-art</th>\n",
       "      <td>0.065574</td>\n",
       "      <td>0.037736</td>\n",
       "      <td>0.250000</td>\n",
       "    </tr>\n",
       "    <tr>\n",
       "      <th>I-per</th>\n",
       "      <td>0.847006</td>\n",
       "      <td>0.842044</td>\n",
       "      <td>0.852028</td>\n",
       "    </tr>\n",
       "    <tr>\n",
       "      <th>I-gpe</th>\n",
       "      <td>0.811881</td>\n",
       "      <td>0.745455</td>\n",
       "      <td>0.891304</td>\n",
       "    </tr>\n",
       "    <tr>\n",
       "      <th>I-tim</th>\n",
       "      <td>0.766257</td>\n",
       "      <td>0.687264</td>\n",
       "      <td>0.865766</td>\n",
       "    </tr>\n",
       "    <tr>\n",
       "      <th>B-nat</th>\n",
       "      <td>0.434783</td>\n",
       "      <td>0.392157</td>\n",
       "      <td>0.487805</td>\n",
       "    </tr>\n",
       "    <tr>\n",
       "      <th>B-eve</th>\n",
       "      <td>0.352941</td>\n",
       "      <td>0.250000</td>\n",
       "      <td>0.600000</td>\n",
       "    </tr>\n",
       "    <tr>\n",
       "      <th>I-eve</th>\n",
       "      <td>0.153846</td>\n",
       "      <td>0.096774</td>\n",
       "      <td>0.375000</td>\n",
       "    </tr>\n",
       "    <tr>\n",
       "      <th>I-nat</th>\n",
       "      <td>0.000000</td>\n",
       "      <td>0.000000</td>\n",
       "      <td>0.000000</td>\n",
       "    </tr>\n",
       "  </tbody>\n",
       "</table>\n",
       "</div>"
      ],
      "text/plain": [
       "             F1  Precision    Recall\n",
       "O      0.998028   0.998739  0.997319\n",
       "B-geo  0.868493   0.873812  0.863238\n",
       "B-gpe  0.962634   0.958027  0.967286\n",
       "B-per  0.792026   0.769667  0.815724\n",
       "I-geo  0.793268   0.771413  0.816397\n",
       "B-org  0.730721   0.694992  0.770323\n",
       "I-org  0.778658   0.753596  0.805444\n",
       "B-tim  0.887833   0.881116  0.894653\n",
       "B-art  0.094340   0.055556  0.312500\n",
       "I-art  0.065574   0.037736  0.250000\n",
       "I-per  0.847006   0.842044  0.852028\n",
       "I-gpe  0.811881   0.745455  0.891304\n",
       "I-tim  0.766257   0.687264  0.865766\n",
       "B-nat  0.434783   0.392157  0.487805\n",
       "B-eve  0.352941   0.250000  0.600000\n",
       "I-eve  0.153846   0.096774  0.375000\n",
       "I-nat  0.000000   0.000000  0.000000"
      ]
     },
     "execution_count": 268,
     "metadata": {},
     "output_type": "execute_result"
    }
   ],
   "source": [
    "pd.DataFrame(f1, columns = [\"F1\", \"Precision\", \"Recall\"], index=labels)"
   ]
  },
  {
   "cell_type": "markdown",
   "metadata": {},
   "source": [
    "## Use each char\n",
    "## Model 2\n",
    "In this model, we are going to use each word of the sentence together with each char of every word. We need to define a few new things before implementing the model"
   ]
  },
  {
   "cell_type": "code",
   "execution_count": 40,
   "metadata": {},
   "outputs": [],
   "source": [
    "chars = set([w_i for w in words for w_i in w])\n",
    "char2index = {c: i + 1 for i, c in enumerate(chars)}\n",
    "idx2char = {i: w for w, i in char2index.items()}"
   ]
  },
  {
   "cell_type": "code",
   "execution_count": 41,
   "metadata": {},
   "outputs": [],
   "source": [
    "char2index[\"PAD\"] = 0\n",
    "char2index[\"UNK\"] = len(chars)+1"
   ]
  },
  {
   "cell_type": "markdown",
   "metadata": {},
   "source": [
    "We set manually the number of characters we want to take into account from every word to 15"
   ]
  },
  {
   "cell_type": "code",
   "execution_count": 42,
   "metadata": {},
   "outputs": [],
   "source": [
    "max_len_char = 15"
   ]
  },
  {
   "cell_type": "code",
   "execution_count": 43,
   "metadata": {},
   "outputs": [],
   "source": [
    "X_char = []\n",
    "for sentence in sentences:\n",
    "    sent_seq = []\n",
    "    for i in range(max_len):\n",
    "        word_seq = []\n",
    "        for j in range(max_len_char):\n",
    "            try:\n",
    "                word_seq.append(char2index.get(sentence[i][0][j]))\n",
    "            except:\n",
    "                word_seq.append(char2index.get(\"PAD\"))\n",
    "        sent_seq.append(word_seq)\n",
    "    X_char.append(np.array(sent_seq))"
   ]
  },
  {
   "cell_type": "markdown",
   "metadata": {},
   "source": [
    "X_char has 47959 elements. Each of them is a matrix of size 75x15, where 75 is the lenght that we have chosen for the sentence, and 15 the lenght we have chosen for each word. If the word is longer, we just take the first 15 chars"
   ]
  },
  {
   "cell_type": "code",
   "execution_count": 112,
   "metadata": {},
   "outputs": [],
   "source": [
    "X_word_train = X_final[0:35970]\n",
    "X_word_test  = X_final[35970:]\n",
    "X_char_train = X_char[0:35970]\n",
    "X_char_test = X_char[35970:]\n",
    "y_char_train = y[0:35970]\n",
    "y_char_test  = y[35970:]"
   ]
  },
  {
   "cell_type": "code",
   "execution_count": 105,
   "metadata": {},
   "outputs": [],
   "source": [
    "def build_model_char():\n",
    "    input_word = keras.layers.Input(shape=(max_len,))\n",
    "    input_char = keras.layers.Input(shape=(max_len, max_len_char,))\n",
    "    \n",
    "    emb_word = Embedding(input_dim=len(words) + 2, output_dim=20, input_length=max_len)(input_word)\n",
    "    emb_char = TimeDistributed(Embedding(input_dim=len(chars) + 2, output_dim=10, input_length=max_len_char))(input_char)\n",
    "\n",
    "    char_enc = TimeDistributed(LSTM(units=20, return_sequences=False, recurrent_dropout=0.2))(emb_char)\n",
    "\n",
    "    x = keras.layers.concatenate([emb_word, char_enc])\n",
    "    main_lstm = Bidirectional(LSTM(units=50, return_sequences=True,recurrent_dropout=0.2))(x)\n",
    "    out = TimeDistributed(Dense(len(dif_tags) + 1, activation=\"softmax\"))(main_lstm)\n",
    "\n",
    "    model = keras.models.Model([input_word, input_char], out)\n",
    "    model.compile(optimizer=\"adam\", loss=\"sparse_categorical_crossentropy\", metrics = ['accuracy'])\n",
    "\n",
    "    return model"
   ]
  },
  {
   "cell_type": "code",
   "execution_count": 106,
   "metadata": {},
   "outputs": [],
   "source": [
    "model2 = build_model_char()"
   ]
  },
  {
   "cell_type": "code",
   "execution_count": 158,
   "metadata": {},
   "outputs": [
    {
     "name": "stdout",
     "output_type": "stream",
     "text": [
      "Model: \"model_7\"\n",
      "__________________________________________________________________________________________________\n",
      "Layer (type)                    Output Shape         Param #     Connected to                     \n",
      "==================================================================================================\n",
      "input_16 (InputLayer)           (None, 104, 15)      0                                            \n",
      "__________________________________________________________________________________________________\n",
      "input_15 (InputLayer)           (None, 104)          0                                            \n",
      "__________________________________________________________________________________________________\n",
      "time_distributed_20 (TimeDistri (None, 104, 15, 10)  1000        input_16[0][0]                   \n",
      "__________________________________________________________________________________________________\n",
      "embedding_16 (Embedding)        (None, 104, 20)      703600      input_15[0][0]                   \n",
      "__________________________________________________________________________________________________\n",
      "time_distributed_21 (TimeDistri (None, 104, 20)      2480        time_distributed_20[0][0]        \n",
      "__________________________________________________________________________________________________\n",
      "concatenate_8 (Concatenate)     (None, 104, 40)      0           embedding_16[0][0]               \n",
      "                                                                 time_distributed_21[0][0]        \n",
      "__________________________________________________________________________________________________\n",
      "bidirectional_9 (Bidirectional) (None, 104, 100)     36400       concatenate_8[0][0]              \n",
      "__________________________________________________________________________________________________\n",
      "time_distributed_22 (TimeDistri (None, 104, 18)      1818        bidirectional_9[0][0]            \n",
      "==================================================================================================\n",
      "Total params: 745,298\n",
      "Trainable params: 745,298\n",
      "Non-trainable params: 0\n",
      "__________________________________________________________________________________________________\n"
     ]
    }
   ],
   "source": [
    "model2.summary()"
   ]
  },
  {
   "cell_type": "code",
   "execution_count": 108,
   "metadata": {},
   "outputs": [
    {
     "name": "stdout",
     "output_type": "stream",
     "text": [
      "Train on 35970 samples, validate on 11988 samples\n",
      "Epoch 1/10\n",
      "35970/35970 [==============================] - 325s 9ms/step - loss: 0.1447 - acc: 0.9734 - val_loss: 0.0496 - val_acc: 0.9860\n",
      "Epoch 2/10\n",
      "35970/35970 [==============================] - 327s 9ms/step - loss: 0.0355 - acc: 0.9901 - val_loss: 0.0280 - val_acc: 0.9918\n",
      "Epoch 3/10\n",
      "35970/35970 [==============================] - 279s 8ms/step - loss: 0.0234 - acc: 0.9931 - val_loss: 0.0241 - val_acc: 0.9927\n",
      "Epoch 4/10\n",
      "35970/35970 [==============================] - 274s 8ms/step - loss: 0.0189 - acc: 0.9943 - val_loss: 0.0229 - val_acc: 0.9930\n",
      "Epoch 5/10\n",
      "35970/35970 [==============================] - 276s 8ms/step - loss: 0.0164 - acc: 0.9949 - val_loss: 0.0227 - val_acc: 0.9932\n",
      "Epoch 6/10\n",
      "35970/35970 [==============================] - 326s 9ms/step - loss: 0.0146 - acc: 0.9953 - val_loss: 0.0229 - val_acc: 0.9932\n",
      "Epoch 7/10\n",
      "35970/35970 [==============================] - 337s 9ms/step - loss: 0.0133 - acc: 0.9957 - val_loss: 0.0237 - val_acc: 0.9932\n",
      "Epoch 00007: early stopping\n"
     ]
    }
   ],
   "source": [
    "es = EarlyStopping(monitor='val_loss', mode='min', patience=2, verbose=1)\n",
    "history2 = model2.fit([X_word_train, np.array(X_char_train).reshape((len(X_char_train), max_len, max_len_char))],\n",
    "                    np.array(y_char_train).reshape(len(y_char_train), max_len, 1), batch_size=32, epochs=10, \n",
    "                     validation_data=([X_word_test, np.array(X_char_test).reshape((len(X_char_test), max_len, max_len_char))],\n",
    "                    np.array(y_char_test).reshape(len(y_char_test), max_len, 1)), verbose=1, callbacks=[es])"
   ]
  },
  {
   "cell_type": "code",
   "execution_count": 109,
   "metadata": {},
   "outputs": [],
   "source": [
    "model2.save('wordchar.h5')"
   ]
  },
  {
   "cell_type": "code",
   "execution_count": 124,
   "metadata": {},
   "outputs": [
    {
     "data": {
      "text/plain": [
       "10"
      ]
     },
     "execution_count": 124,
     "metadata": {},
     "output_type": "execute_result"
    }
   ],
   "source": [
    "y_test[0][5].argmax()"
   ]
  },
  {
   "cell_type": "code",
   "execution_count": 125,
   "metadata": {},
   "outputs": [
    {
     "data": {
      "text/plain": [
       "10"
      ]
     },
     "execution_count": 125,
     "metadata": {},
     "output_type": "execute_result"
    }
   ],
   "source": [
    "y_char_test[0][5]"
   ]
  },
  {
   "cell_type": "code",
   "execution_count": 127,
   "metadata": {},
   "outputs": [
    {
     "data": {
      "image/png": "[encoded data removed]",
      "text/plain": [
       "<Figure size 432x288 with 1 Axes>"
      ]
     },
     "metadata": {
      "needs_background": "light"
     },
     "output_type": "display_data"
    },
    {
     "data": {
      "image/png": "[encoded data removed]",
      "text/plain": [
       "<Figure size 432x288 with 1 Axes>"
      ]
     },
     "metadata": {
      "needs_background": "light"
     },
     "output_type": "display_data"
    }
   ],
   "source": [
    "plot_history(history2)"
   ]
  },
  {
   "cell_type": "code",
   "execution_count": 135,
   "metadata": {},
   "outputs": [],
   "source": [
    "def show_predictions2(x, y_true):\n",
    "    print('arribo aqui')\n",
    "    preds = model2.predict(x)\n",
    "    print('aqui tambie')\n",
    "    print(\"{:15}||{:5}||{}\".format(\"Word\", \"True\", \"Pred\"))\n",
    "    for i in range(len(x[0][0])):\n",
    "        if index2word[x[0][0][i]] == \"PAD\": break\n",
    "        print(\"{:15}: {:5} {}\".format(index2word[int(x[0][0][i])], index2tag[int(preds[0][i].argmax())], index2tag[y_true[i]]))"
   ]
  },
  {
   "cell_type": "code",
   "execution_count": 173,
   "metadata": {},
   "outputs": [
    {
     "name": "stdout",
     "output_type": "stream",
     "text": [
      "arribo aqui\n",
      "aqui tambie\n",
      "Word           ||True ||Pred\n",
      "The            : O     O\n",
      "Davis          : B-per B-per\n",
      "Cup            : I-per I-per\n",
      "final          : O     O\n",
      "is             : O     O\n",
      "set            : O     O\n",
      "for            : O     O\n",
      "December       : B-tim B-tim\n",
      "03-May         : I-tim I-tim\n",
      ".              : O     O\n"
     ]
    }
   ],
   "source": [
    "import random\n",
    "a = random.randint(0, 10000)\n",
    "show_predictions2([X_word_test[a].reshape(1,-1), np.array(X_char_test[a]).reshape((1,max_len, max_len_char))], y_char_test[a])"
   ]
  },
  {
   "cell_type": "code",
   "execution_count": 177,
   "metadata": {},
   "outputs": [],
   "source": [
    "def check_total_sentences2(xtrue, ytrue, model):\n",
    "    preds = model.predict(xtrue).argmax(axis=2)\n",
    "    err = 0\n",
    "    for i, pred in enumerate(preds):\n",
    "        \n",
    "        if (pred  == ytrue[i]).all():\n",
    "            pass\n",
    "        \n",
    "        else:\n",
    "            err += 1\n",
    "            \n",
    "    print(\"Total acc is: \", (len(ytrue)-err)/len(ytrue))"
   ]
  },
  {
   "cell_type": "code",
   "execution_count": 178,
   "metadata": {},
   "outputs": [
    {
     "name": "stdout",
     "output_type": "stream",
     "text": [
      "Total acc is:  0.6180347013680347\n"
     ]
    }
   ],
   "source": [
    "check_total_sentences2([X_word_test, np.array(X_char_test).reshape(len(X_char_test),max_len,max_len_char)], y_char_test, model2)"
   ]
  },
  {
   "cell_type": "code",
   "execution_count": 321,
   "metadata": {},
   "outputs": [
    {
     "name": "stdout",
     "output_type": "stream",
     "text": [
      "Total acc is:  0.7694745621351126\n"
     ]
    }
   ],
   "source": [
    "check_total_sentences2([X_word_train, np.array(X_char_train).reshape(len(X_char_train),max_len,max_len_char)], y_char_train, model2)"
   ]
  },
  {
   "cell_type": "markdown",
   "metadata": {},
   "source": [
    "#### F1 score and Confusion matrix"
   ]
  },
  {
   "cell_type": "markdown",
   "metadata": {},
   "source": [
    "Train"
   ]
  },
  {
   "cell_type": "code",
   "execution_count": 293,
   "metadata": {},
   "outputs": [],
   "source": [
    "preds = model2.predict([X_word_train, np.array(X_char_train).reshape(len(X_char_train),max_len,max_len_char)]).argmax(axis=2)"
   ]
  },
  {
   "cell_type": "code",
   "execution_count": 294,
   "metadata": {},
   "outputs": [],
   "source": [
    "conf_matrix = np.zeros((17,17))\n",
    "ground_truth = y_char_train"
   ]
  },
  {
   "cell_type": "code",
   "execution_count": 295,
   "metadata": {},
   "outputs": [],
   "source": [
    "for i in range(len(preds)):\n",
    "    for j in range(len(preds[0])):\n",
    "        conf_matrix[preds[i][j]][ground_truth[i][j]] += 1"
   ]
  },
  {
   "cell_type": "code",
   "execution_count": 296,
   "metadata": {},
   "outputs": [
    {
     "data": {
      "image/png": "[encoded data removed]",
      "text/plain": [
       "<Figure size 720x720 with 2 Axes>"
      ]
     },
     "metadata": {},
     "output_type": "display_data"
    }
   ],
   "source": [
    "import seaborn as sn\n",
    "sn.set(font_scale=1.4)#for label size\n",
    "plt.figure(figsize=(10,10))\n",
    "sn.heatmap(conf_matrix, annot=True, xticklabels=labels, yticklabels=labels, cmap='Blues', fmt='g',annot_kws={\"size\": 12})# font size\n",
    "plt.xlabel('True label')\n",
    "plt.ylabel('Predicted label')\n",
    "plt.savefig(\"confmat2.png\")\n",
    "plt.show()"
   ]
  },
  {
   "cell_type": "code",
   "execution_count": 299,
   "metadata": {},
   "outputs": [
    {
     "name": "stdout",
     "output_type": "stream",
     "text": [
      "Mean F1 score is 0.6595652602018841\n"
     ]
    }
   ],
   "source": [
    "avg, f1 = F1_score(conf_matrix, 0)"
   ]
  },
  {
   "cell_type": "code",
   "execution_count": 298,
   "metadata": {},
   "outputs": [
    {
     "data": {
      "text/html": [
       "<div>\n",
       "<style scoped>\n",
       "    .dataframe tbody tr th:only-of-type {\n",
       "        vertical-align: middle;\n",
       "    }\n",
       "\n",
       "    .dataframe tbody tr th {\n",
       "        vertical-align: top;\n",
       "    }\n",
       "\n",
       "    .dataframe thead th {\n",
       "        text-align: right;\n",
       "    }\n",
       "</style>\n",
       "<table border=\"1\" class=\"dataframe\">\n",
       "  <thead>\n",
       "    <tr style=\"text-align: right;\">\n",
       "      <th></th>\n",
       "      <th>F1</th>\n",
       "      <th>Precision</th>\n",
       "      <th>Recall</th>\n",
       "    </tr>\n",
       "  </thead>\n",
       "  <tbody>\n",
       "    <tr>\n",
       "      <th>O</th>\n",
       "      <td>0.999128</td>\n",
       "      <td>0.999530</td>\n",
       "      <td>0.998727</td>\n",
       "    </tr>\n",
       "    <tr>\n",
       "      <th>B-geo</th>\n",
       "      <td>0.928973</td>\n",
       "      <td>0.942145</td>\n",
       "      <td>0.916163</td>\n",
       "    </tr>\n",
       "    <tr>\n",
       "      <th>B-gpe</th>\n",
       "      <td>0.955104</td>\n",
       "      <td>0.941501</td>\n",
       "      <td>0.969107</td>\n",
       "    </tr>\n",
       "    <tr>\n",
       "      <th>B-per</th>\n",
       "      <td>0.920160</td>\n",
       "      <td>0.899820</td>\n",
       "      <td>0.941442</td>\n",
       "    </tr>\n",
       "    <tr>\n",
       "      <th>I-geo</th>\n",
       "      <td>0.900837</td>\n",
       "      <td>0.915607</td>\n",
       "      <td>0.886537</td>\n",
       "    </tr>\n",
       "    <tr>\n",
       "      <th>B-org</th>\n",
       "      <td>0.864070</td>\n",
       "      <td>0.835976</td>\n",
       "      <td>0.894117</td>\n",
       "    </tr>\n",
       "    <tr>\n",
       "      <th>I-org</th>\n",
       "      <td>0.912184</td>\n",
       "      <td>0.897712</td>\n",
       "      <td>0.927131</td>\n",
       "    </tr>\n",
       "    <tr>\n",
       "      <th>B-tim</th>\n",
       "      <td>0.932908</td>\n",
       "      <td>0.902125</td>\n",
       "      <td>0.965866</td>\n",
       "    </tr>\n",
       "    <tr>\n",
       "      <th>B-art</th>\n",
       "      <td>0.114458</td>\n",
       "      <td>0.060897</td>\n",
       "      <td>0.950000</td>\n",
       "    </tr>\n",
       "    <tr>\n",
       "      <th>I-art</th>\n",
       "      <td>0.232394</td>\n",
       "      <td>0.135246</td>\n",
       "      <td>0.825000</td>\n",
       "    </tr>\n",
       "    <tr>\n",
       "      <th>I-per</th>\n",
       "      <td>0.935578</td>\n",
       "      <td>0.967498</td>\n",
       "      <td>0.905696</td>\n",
       "    </tr>\n",
       "    <tr>\n",
       "      <th>I-gpe</th>\n",
       "      <td>0.608696</td>\n",
       "      <td>0.440559</td>\n",
       "      <td>0.984375</td>\n",
       "    </tr>\n",
       "    <tr>\n",
       "      <th>I-tim</th>\n",
       "      <td>0.883008</td>\n",
       "      <td>0.833873</td>\n",
       "      <td>0.938297</td>\n",
       "    </tr>\n",
       "    <tr>\n",
       "      <th>B-nat</th>\n",
       "      <td>0.280702</td>\n",
       "      <td>0.213333</td>\n",
       "      <td>0.410256</td>\n",
       "    </tr>\n",
       "    <tr>\n",
       "      <th>B-eve</th>\n",
       "      <td>0.433803</td>\n",
       "      <td>0.310484</td>\n",
       "      <td>0.719626</td>\n",
       "    </tr>\n",
       "    <tr>\n",
       "      <th>I-eve</th>\n",
       "      <td>0.310606</td>\n",
       "      <td>0.214660</td>\n",
       "      <td>0.561644</td>\n",
       "    </tr>\n",
       "    <tr>\n",
       "      <th>I-nat</th>\n",
       "      <td>0.000000</td>\n",
       "      <td>0.000000</td>\n",
       "      <td>0.000000</td>\n",
       "    </tr>\n",
       "  </tbody>\n",
       "</table>\n",
       "</div>"
      ],
      "text/plain": [
       "             F1  Precision    Recall\n",
       "O      0.999128   0.999530  0.998727\n",
       "B-geo  0.928973   0.942145  0.916163\n",
       "B-gpe  0.955104   0.941501  0.969107\n",
       "B-per  0.920160   0.899820  0.941442\n",
       "I-geo  0.900837   0.915607  0.886537\n",
       "B-org  0.864070   0.835976  0.894117\n",
       "I-org  0.912184   0.897712  0.927131\n",
       "B-tim  0.932908   0.902125  0.965866\n",
       "B-art  0.114458   0.060897  0.950000\n",
       "I-art  0.232394   0.135246  0.825000\n",
       "I-per  0.935578   0.967498  0.905696\n",
       "I-gpe  0.608696   0.440559  0.984375\n",
       "I-tim  0.883008   0.833873  0.938297\n",
       "B-nat  0.280702   0.213333  0.410256\n",
       "B-eve  0.433803   0.310484  0.719626\n",
       "I-eve  0.310606   0.214660  0.561644\n",
       "I-nat  0.000000   0.000000  0.000000"
      ]
     },
     "execution_count": 298,
     "metadata": {},
     "output_type": "execute_result"
    }
   ],
   "source": [
    "pd.DataFrame(f1, columns = [\"F1\", \"Precision\", \"Recall\"], index=labels)"
   ]
  },
  {
   "cell_type": "markdown",
   "metadata": {},
   "source": [
    "Test"
   ]
  },
  {
   "cell_type": "code",
   "execution_count": 269,
   "metadata": {},
   "outputs": [],
   "source": [
    "preds = model2.predict([X_word_test, np.array(X_char_test).reshape(len(X_char_test),max_len,max_len_char)]).argmax(axis=2)"
   ]
  },
  {
   "cell_type": "code",
   "execution_count": 270,
   "metadata": {},
   "outputs": [],
   "source": [
    "conf_matrix = np.zeros((17,17))\n",
    "ground_truth = y_char_test"
   ]
  },
  {
   "cell_type": "code",
   "execution_count": 271,
   "metadata": {},
   "outputs": [],
   "source": [
    "for i in range(len(preds)):\n",
    "    for j in range(len(preds[0])):\n",
    "        conf_matrix[preds[i][j]][ground_truth[i][j]] += 1"
   ]
  },
  {
   "cell_type": "code",
   "execution_count": 272,
   "metadata": {},
   "outputs": [
    {
     "data": {
      "image/png": "[encoded data removed]",
      "text/plain": [
       "<Figure size 720x720 with 2 Axes>"
      ]
     },
     "metadata": {},
     "output_type": "display_data"
    }
   ],
   "source": [
    "import seaborn as sn\n",
    "sn.set(font_scale=1.4)#for label size\n",
    "plt.figure(figsize=(10,10))\n",
    "sn.heatmap(conf_matrix, annot=True, xticklabels=labels, yticklabels=labels, cmap='Blues', fmt='g',annot_kws={\"size\": 12})# font size\n",
    "plt.xlabel('True label')\n",
    "plt.ylabel('Predicted label')\n",
    "plt.savefig(\"confmat2.png\")\n",
    "plt.show()"
   ]
  },
  {
   "cell_type": "code",
   "execution_count": 274,
   "metadata": {},
   "outputs": [
    {
     "name": "stdout",
     "output_type": "stream",
     "text": [
      "Mean F1 score is 0.6035650553539825\n"
     ]
    }
   ],
   "source": [
    "avg, f1 = F1_score(conf_matrix, 0)"
   ]
  },
  {
   "cell_type": "code",
   "execution_count": 275,
   "metadata": {},
   "outputs": [
    {
     "data": {
      "text/html": [
       "<div>\n",
       "<style scoped>\n",
       "    .dataframe tbody tr th:only-of-type {\n",
       "        vertical-align: middle;\n",
       "    }\n",
       "\n",
       "    .dataframe tbody tr th {\n",
       "        vertical-align: top;\n",
       "    }\n",
       "\n",
       "    .dataframe thead th {\n",
       "        text-align: right;\n",
       "    }\n",
       "</style>\n",
       "<table border=\"1\" class=\"dataframe\">\n",
       "  <thead>\n",
       "    <tr style=\"text-align: right;\">\n",
       "      <th></th>\n",
       "      <th>F1</th>\n",
       "      <th>Precision</th>\n",
       "      <th>Recall</th>\n",
       "    </tr>\n",
       "  </thead>\n",
       "  <tbody>\n",
       "    <tr>\n",
       "      <th>O</th>\n",
       "      <td>0.998268</td>\n",
       "      <td>0.999125</td>\n",
       "      <td>0.997413</td>\n",
       "    </tr>\n",
       "    <tr>\n",
       "      <th>B-geo</th>\n",
       "      <td>0.875033</td>\n",
       "      <td>0.875079</td>\n",
       "      <td>0.874987</td>\n",
       "    </tr>\n",
       "    <tr>\n",
       "      <th>B-gpe</th>\n",
       "      <td>0.961177</td>\n",
       "      <td>0.954099</td>\n",
       "      <td>0.968361</td>\n",
       "    </tr>\n",
       "    <tr>\n",
       "      <th>B-per</th>\n",
       "      <td>0.794009</td>\n",
       "      <td>0.738956</td>\n",
       "      <td>0.857926</td>\n",
       "    </tr>\n",
       "    <tr>\n",
       "      <th>I-geo</th>\n",
       "      <td>0.792494</td>\n",
       "      <td>0.794872</td>\n",
       "      <td>0.790130</td>\n",
       "    </tr>\n",
       "    <tr>\n",
       "      <th>B-org</th>\n",
       "      <td>0.733285</td>\n",
       "      <td>0.703864</td>\n",
       "      <td>0.765273</td>\n",
       "    </tr>\n",
       "    <tr>\n",
       "      <th>I-org</th>\n",
       "      <td>0.792517</td>\n",
       "      <td>0.769158</td>\n",
       "      <td>0.817339</td>\n",
       "    </tr>\n",
       "    <tr>\n",
       "      <th>B-tim</th>\n",
       "      <td>0.881754</td>\n",
       "      <td>0.833759</td>\n",
       "      <td>0.935612</td>\n",
       "    </tr>\n",
       "    <tr>\n",
       "      <th>B-art</th>\n",
       "      <td>0.021978</td>\n",
       "      <td>0.011111</td>\n",
       "      <td>1.000000</td>\n",
       "    </tr>\n",
       "    <tr>\n",
       "      <th>I-art</th>\n",
       "      <td>0.032787</td>\n",
       "      <td>0.018868</td>\n",
       "      <td>0.125000</td>\n",
       "    </tr>\n",
       "    <tr>\n",
       "      <th>I-per</th>\n",
       "      <td>0.865223</td>\n",
       "      <td>0.903445</td>\n",
       "      <td>0.830103</td>\n",
       "    </tr>\n",
       "    <tr>\n",
       "      <th>I-gpe</th>\n",
       "      <td>0.854167</td>\n",
       "      <td>0.745455</td>\n",
       "      <td>1.000000</td>\n",
       "    </tr>\n",
       "    <tr>\n",
       "      <th>I-tim</th>\n",
       "      <td>0.762275</td>\n",
       "      <td>0.680328</td>\n",
       "      <td>0.866667</td>\n",
       "    </tr>\n",
       "    <tr>\n",
       "      <th>B-nat</th>\n",
       "      <td>0.455696</td>\n",
       "      <td>0.352941</td>\n",
       "      <td>0.642857</td>\n",
       "    </tr>\n",
       "    <tr>\n",
       "      <th>B-eve</th>\n",
       "      <td>0.325000</td>\n",
       "      <td>0.216667</td>\n",
       "      <td>0.650000</td>\n",
       "    </tr>\n",
       "    <tr>\n",
       "      <th>I-eve</th>\n",
       "      <td>0.114943</td>\n",
       "      <td>0.080645</td>\n",
       "      <td>0.200000</td>\n",
       "    </tr>\n",
       "    <tr>\n",
       "      <th>I-nat</th>\n",
       "      <td>0.000000</td>\n",
       "      <td>0.000000</td>\n",
       "      <td>0.000000</td>\n",
       "    </tr>\n",
       "  </tbody>\n",
       "</table>\n",
       "</div>"
      ],
      "text/plain": [
       "             F1  Precision    Recall\n",
       "O      0.998268   0.999125  0.997413\n",
       "B-geo  0.875033   0.875079  0.874987\n",
       "B-gpe  0.961177   0.954099  0.968361\n",
       "B-per  0.794009   0.738956  0.857926\n",
       "I-geo  0.792494   0.794872  0.790130\n",
       "B-org  0.733285   0.703864  0.765273\n",
       "I-org  0.792517   0.769158  0.817339\n",
       "B-tim  0.881754   0.833759  0.935612\n",
       "B-art  0.021978   0.011111  1.000000\n",
       "I-art  0.032787   0.018868  0.125000\n",
       "I-per  0.865223   0.903445  0.830103\n",
       "I-gpe  0.854167   0.745455  1.000000\n",
       "I-tim  0.762275   0.680328  0.866667\n",
       "B-nat  0.455696   0.352941  0.642857\n",
       "B-eve  0.325000   0.216667  0.650000\n",
       "I-eve  0.114943   0.080645  0.200000\n",
       "I-nat  0.000000   0.000000  0.000000"
      ]
     },
     "execution_count": 275,
     "metadata": {},
     "output_type": "execute_result"
    }
   ],
   "source": [
    "pd.DataFrame(f1, columns = [\"F1\", \"Precision\", \"Recall\"], index=labels)"
   ]
  },
  {
   "cell_type": "markdown",
   "metadata": {},
   "source": [
    "## Use POS"
   ]
  },
  {
   "cell_type": "markdown",
   "metadata": {},
   "source": [
    "## Model3"
   ]
  },
  {
   "cell_type": "code",
   "execution_count": 51,
   "metadata": {},
   "outputs": [],
   "source": [
    "def build_model_pos2():\n",
    "    input_text = keras.layers.Input(shape=(104,))\n",
    "    input_pos = keras.layers.Input(shape=(104,))\n",
    "    \n",
    "    emb_text = Embedding(input_dim=len(words)+2, output_dim=128, input_length=104)(input_text)\n",
    "    emb_pos = Embedding(input_dim=len(pos2index), output_dim=128, input_length=104)(input_pos)\n",
    "    \n",
    "    \n",
    "    rec_out = Bidirectional(LSTM(units=100, return_sequences=True, recurrent_dropout=0.1))(emb_text)\n",
    "    rec_out2 = Bidirectional(LSTM(units=50, return_sequences=True, recurrent_dropout=0.1))(emb_pos)\n",
    "    \n",
    "    merged = keras.layers.Concatenate()([rec_out, rec_out2])\n",
    "    \n",
    "    out = TimeDistributed(Dense(len(tag2index), activation=\"softmax\"))(merged)\n",
    "    \n",
    "    model = keras.models.Model(inputs = [input_text, input_pos], outputs = out)\n",
    "    model.compile(optimizer=\"adam\", loss=\"categorical_crossentropy\", metrics=[\"accuracy\"])\n",
    "    return model"
   ]
  },
  {
   "cell_type": "code",
   "execution_count": 52,
   "metadata": {},
   "outputs": [],
   "source": [
    "model3 = build_model_pos2()"
   ]
  },
  {
   "cell_type": "code",
   "execution_count": 53,
   "metadata": {},
   "outputs": [
    {
     "name": "stdout",
     "output_type": "stream",
     "text": [
      "Model: \"model_2\"\n",
      "__________________________________________________________________________________________________\n",
      "Layer (type)                    Output Shape         Param #     Connected to                     \n",
      "==================================================================================================\n",
      "input_3 (InputLayer)            (None, 104)          0                                            \n",
      "__________________________________________________________________________________________________\n",
      "input_4 (InputLayer)            (None, 104)          0                                            \n",
      "__________________________________________________________________________________________________\n",
      "embedding_4 (Embedding)         (None, 104, 128)     4503040     input_3[0][0]                    \n",
      "__________________________________________________________________________________________________\n",
      "embedding_5 (Embedding)         (None, 104, 128)     5504        input_4[0][0]                    \n",
      "__________________________________________________________________________________________________\n",
      "bidirectional_3 (Bidirectional) (None, 104, 200)     183200      embedding_4[0][0]                \n",
      "__________________________________________________________________________________________________\n",
      "bidirectional_4 (Bidirectional) (None, 104, 100)     71600       embedding_5[0][0]                \n",
      "__________________________________________________________________________________________________\n",
      "concatenate_2 (Concatenate)     (None, 104, 300)     0           bidirectional_3[0][0]            \n",
      "                                                                 bidirectional_4[0][0]            \n",
      "__________________________________________________________________________________________________\n",
      "time_distributed_5 (TimeDistrib (None, 104, 17)      5117        concatenate_2[0][0]              \n",
      "==================================================================================================\n",
      "Total params: 4,768,461\n",
      "Trainable params: 4,768,461\n",
      "Non-trainable params: 0\n",
      "__________________________________________________________________________________________________\n"
     ]
    }
   ],
   "source": [
    "model3.summary()"
   ]
  },
  {
   "cell_type": "code",
   "execution_count": 57,
   "metadata": {},
   "outputs": [],
   "source": [
    "X_train_opos = pos_tokens[0:35970]\n",
    "X_test_opos  = pos_tokens[35970:]"
   ]
  },
  {
   "cell_type": "code",
   "execution_count": 59,
   "metadata": {},
   "outputs": [
    {
     "name": "stdout",
     "output_type": "stream",
     "text": [
      "Train on 35970 samples, validate on 11988 samples\n",
      "Epoch 1/8\n",
      "35970/35970 [==============================] - 813s 23ms/step - loss: 0.0538 - acc: 0.9861 - val_loss: 0.0249 - val_acc: 0.9926\n",
      "Epoch 2/8\n",
      "35970/35970 [==============================] - 817s 23ms/step - loss: 0.0203 - acc: 0.9940 - val_loss: 0.0210 - val_acc: 0.9936\n",
      "Epoch 3/8\n",
      "35970/35970 [==============================] - 772s 21ms/step - loss: 0.0151 - acc: 0.9953 - val_loss: 0.0207 - val_acc: 0.9937\n",
      "Epoch 4/8\n",
      "35970/35970 [==============================] - 803s 22ms/step - loss: 0.0122 - acc: 0.9961 - val_loss: 0.0215 - val_acc: 0.9936\n",
      "Epoch 5/8\n",
      "35970/35970 [==============================] - 840s 23ms/step - loss: 0.0101 - acc: 0.9967 - val_loss: 0.0229 - val_acc: 0.9935\n",
      "Epoch 00005: early stopping\n"
     ]
    }
   ],
   "source": [
    "history3 = model3.fit([X_train, X_train_opos], y_train, batch_size=32, epochs=8,\n",
    "                    validation_data=([X_test, X_test_opos], y_test), verbose=1, callbacks=[es])"
   ]
  },
  {
   "cell_type": "code",
   "execution_count": 61,
   "metadata": {},
   "outputs": [],
   "source": [
    "model3.save(\"postextgood.h5\")"
   ]
  },
  {
   "cell_type": "code",
   "execution_count": 62,
   "metadata": {},
   "outputs": [
    {
     "data": {
      "image/png": "[encoded data removed]",
      "text/plain": [
       "<Figure size 432x288 with 1 Axes>"
      ]
     },
     "metadata": {
      "needs_background": "light"
     },
     "output_type": "display_data"
    },
    {
     "data": {
      "image/png": "[encoded data removed]",
      "text/plain": [
       "<Figure size 432x288 with 1 Axes>"
      ]
     },
     "metadata": {
      "needs_background": "light"
     },
     "output_type": "display_data"
    }
   ],
   "source": [
    "plot_history(history3)"
   ]
  },
  {
   "cell_type": "code",
   "execution_count": 73,
   "metadata": {},
   "outputs": [],
   "source": [
    "def show_predictions3(x, y_true):\n",
    "    preds = model3.predict(x)\n",
    "    print(\"{:15}||{:5}||{}\".format(\"Word\", \"True\", \"Pred\"))\n",
    "    for i in range(len(x[0][0])):\n",
    "        if index2word[x[0][0][i]] == \"PAD\": break\n",
    "        print(\"{:15}: {:5} {}\".format(index2word[int(x[0][0][i])], index2tag[int(preds[0][i].argmax())], index2tag[y_true[i].argmax()]))"
   ]
  },
  {
   "cell_type": "code",
   "execution_count": 319,
   "metadata": {},
   "outputs": [
    {
     "name": "stdout",
     "output_type": "stream",
     "text": [
      "Word           ||True ||Pred\n",
      "British        : B-org B-org\n",
      "Airways        : I-org I-org\n",
      "canceled       : O     O\n",
      "just           : O     O\n",
      "19             : O     O\n",
      "flights        : O     O\n",
      "from           : O     O\n",
      "London         : B-geo B-geo\n",
      "'s             : O     O\n",
      "Heathrow       : B-geo B-geo\n",
      "Airport        : I-geo I-geo\n",
      "Thursday       : B-tim B-tim\n",
      ".              : O     O\n"
     ]
    }
   ],
   "source": [
    "import random\n",
    "a = random.randint(0, 10000)\n",
    "show_predictions3([X_test[a].reshape(1,-1), X_test_opos[a].reshape(1,-1)], y_test[a])"
   ]
  },
  {
   "cell_type": "code",
   "execution_count": 80,
   "metadata": {},
   "outputs": [
    {
     "name": "stdout",
     "output_type": "stream",
     "text": [
      "Total acc is:  0.6380547213880547\n"
     ]
    }
   ],
   "source": [
    "check_total_sentences([X_test, X_test_opos], y_test, model3)"
   ]
  },
  {
   "cell_type": "code",
   "execution_count": 320,
   "metadata": {},
   "outputs": [
    {
     "name": "stdout",
     "output_type": "stream",
     "text": [
      "Total acc is:  0.8298860161245483\n"
     ]
    }
   ],
   "source": [
    "check_total_sentences([X_train, X_train_opos], y_train, model3)"
   ]
  },
  {
   "cell_type": "markdown",
   "metadata": {},
   "source": [
    "#### F1 score and Confusion matrix"
   ]
  },
  {
   "cell_type": "markdown",
   "metadata": {},
   "source": [
    "Train"
   ]
  },
  {
   "cell_type": "code",
   "execution_count": 300,
   "metadata": {},
   "outputs": [],
   "source": [
    "preds = model3.predict([X_train, X_train_opos]).argmax(axis=2)"
   ]
  },
  {
   "cell_type": "code",
   "execution_count": 301,
   "metadata": {},
   "outputs": [],
   "source": [
    "conf_matrix = np.zeros((17,17))"
   ]
  },
  {
   "cell_type": "code",
   "execution_count": 304,
   "metadata": {},
   "outputs": [],
   "source": [
    "ground_truth = y_train.argmax(axis=2)"
   ]
  },
  {
   "cell_type": "code",
   "execution_count": 305,
   "metadata": {},
   "outputs": [],
   "source": [
    "for i in range(len(preds)):\n",
    "    for j in range(len(preds[0])):\n",
    "        conf_matrix[preds[i][j]][ground_truth[i][j]] += 1"
   ]
  },
  {
   "cell_type": "code",
   "execution_count": 306,
   "metadata": {},
   "outputs": [
    {
     "data": {
      "image/png": "[encoded data removed]",
      "text/plain": [
       "<Figure size 720x720 with 2 Axes>"
      ]
     },
     "metadata": {},
     "output_type": "display_data"
    }
   ],
   "source": [
    "import seaborn as sn\n",
    "sn.set(font_scale=1.4)#for label size\n",
    "plt.figure(figsize=(10,10))\n",
    "sn.heatmap(conf_matrix, annot=True, xticklabels=labels, yticklabels=labels, cmap='Blues', fmt='g',annot_kws={\"size\": 12})# font size\n",
    "plt.xlabel('True label')\n",
    "plt.ylabel('Predicted label')\n",
    "plt.savefig(\"confmat3.png\")\n",
    "plt.show()"
   ]
  },
  {
   "cell_type": "code",
   "execution_count": 307,
   "metadata": {},
   "outputs": [
    {
     "name": "stdout",
     "output_type": "stream",
     "text": [
      "Mean F1 score is 0.8174800489171348\n"
     ]
    }
   ],
   "source": [
    "avg, f1 = F1_score(conf_matrix, 0)"
   ]
  },
  {
   "cell_type": "code",
   "execution_count": 308,
   "metadata": {},
   "outputs": [
    {
     "data": {
      "text/html": [
       "<div>\n",
       "<style scoped>\n",
       "    .dataframe tbody tr th:only-of-type {\n",
       "        vertical-align: middle;\n",
       "    }\n",
       "\n",
       "    .dataframe tbody tr th {\n",
       "        vertical-align: top;\n",
       "    }\n",
       "\n",
       "    .dataframe thead th {\n",
       "        text-align: right;\n",
       "    }\n",
       "</style>\n",
       "<table border=\"1\" class=\"dataframe\">\n",
       "  <thead>\n",
       "    <tr style=\"text-align: right;\">\n",
       "      <th></th>\n",
       "      <th>F1</th>\n",
       "      <th>Precision</th>\n",
       "      <th>Recall</th>\n",
       "    </tr>\n",
       "  </thead>\n",
       "  <tbody>\n",
       "    <tr>\n",
       "      <th>O</th>\n",
       "      <td>0.999494</td>\n",
       "      <td>0.999613</td>\n",
       "      <td>0.999376</td>\n",
       "    </tr>\n",
       "    <tr>\n",
       "      <th>B-geo</th>\n",
       "      <td>0.943575</td>\n",
       "      <td>0.938986</td>\n",
       "      <td>0.948208</td>\n",
       "    </tr>\n",
       "    <tr>\n",
       "      <th>B-gpe</th>\n",
       "      <td>0.963647</td>\n",
       "      <td>0.941670</td>\n",
       "      <td>0.986675</td>\n",
       "    </tr>\n",
       "    <tr>\n",
       "      <th>B-per</th>\n",
       "      <td>0.936915</td>\n",
       "      <td>0.918555</td>\n",
       "      <td>0.956025</td>\n",
       "    </tr>\n",
       "    <tr>\n",
       "      <th>I-geo</th>\n",
       "      <td>0.931624</td>\n",
       "      <td>0.937466</td>\n",
       "      <td>0.925854</td>\n",
       "    </tr>\n",
       "    <tr>\n",
       "      <th>B-org</th>\n",
       "      <td>0.901267</td>\n",
       "      <td>0.908832</td>\n",
       "      <td>0.893827</td>\n",
       "    </tr>\n",
       "    <tr>\n",
       "      <th>I-org</th>\n",
       "      <td>0.942110</td>\n",
       "      <td>0.937415</td>\n",
       "      <td>0.946851</td>\n",
       "    </tr>\n",
       "    <tr>\n",
       "      <th>B-tim</th>\n",
       "      <td>0.965186</td>\n",
       "      <td>0.956639</td>\n",
       "      <td>0.973888</td>\n",
       "    </tr>\n",
       "    <tr>\n",
       "      <th>B-art</th>\n",
       "      <td>0.718412</td>\n",
       "      <td>0.637821</td>\n",
       "      <td>0.822314</td>\n",
       "    </tr>\n",
       "    <tr>\n",
       "      <th>I-art</th>\n",
       "      <td>0.661417</td>\n",
       "      <td>0.516393</td>\n",
       "      <td>0.919708</td>\n",
       "    </tr>\n",
       "    <tr>\n",
       "      <th>I-per</th>\n",
       "      <td>0.949608</td>\n",
       "      <td>0.983287</td>\n",
       "      <td>0.918159</td>\n",
       "    </tr>\n",
       "    <tr>\n",
       "      <th>I-gpe</th>\n",
       "      <td>0.666667</td>\n",
       "      <td>0.510490</td>\n",
       "      <td>0.960526</td>\n",
       "    </tr>\n",
       "    <tr>\n",
       "      <th>I-tim</th>\n",
       "      <td>0.944254</td>\n",
       "      <td>0.945973</td>\n",
       "      <td>0.942540</td>\n",
       "    </tr>\n",
       "    <tr>\n",
       "      <th>B-nat</th>\n",
       "      <td>0.622711</td>\n",
       "      <td>0.566667</td>\n",
       "      <td>0.691057</td>\n",
       "    </tr>\n",
       "    <tr>\n",
       "      <th>B-eve</th>\n",
       "      <td>0.650718</td>\n",
       "      <td>0.548387</td>\n",
       "      <td>0.800000</td>\n",
       "    </tr>\n",
       "    <tr>\n",
       "      <th>I-eve</th>\n",
       "      <td>0.618076</td>\n",
       "      <td>0.554974</td>\n",
       "      <td>0.697368</td>\n",
       "    </tr>\n",
       "    <tr>\n",
       "      <th>I-nat</th>\n",
       "      <td>0.481481</td>\n",
       "      <td>0.333333</td>\n",
       "      <td>0.866667</td>\n",
       "    </tr>\n",
       "  </tbody>\n",
       "</table>\n",
       "</div>"
      ],
      "text/plain": [
       "             F1  Precision    Recall\n",
       "O      0.999494   0.999613  0.999376\n",
       "B-geo  0.943575   0.938986  0.948208\n",
       "B-gpe  0.963647   0.941670  0.986675\n",
       "B-per  0.936915   0.918555  0.956025\n",
       "I-geo  0.931624   0.937466  0.925854\n",
       "B-org  0.901267   0.908832  0.893827\n",
       "I-org  0.942110   0.937415  0.946851\n",
       "B-tim  0.965186   0.956639  0.973888\n",
       "B-art  0.718412   0.637821  0.822314\n",
       "I-art  0.661417   0.516393  0.919708\n",
       "I-per  0.949608   0.983287  0.918159\n",
       "I-gpe  0.666667   0.510490  0.960526\n",
       "I-tim  0.944254   0.945973  0.942540\n",
       "B-nat  0.622711   0.566667  0.691057\n",
       "B-eve  0.650718   0.548387  0.800000\n",
       "I-eve  0.618076   0.554974  0.697368\n",
       "I-nat  0.481481   0.333333  0.866667"
      ]
     },
     "execution_count": 308,
     "metadata": {},
     "output_type": "execute_result"
    }
   ],
   "source": [
    "pd.DataFrame(f1, columns = [\"F1\", \"Precision\", \"Recall\"], index=labels)"
   ]
  },
  {
   "cell_type": "markdown",
   "metadata": {},
   "source": [
    "Test"
   ]
  },
  {
   "cell_type": "code",
   "execution_count": 276,
   "metadata": {},
   "outputs": [],
   "source": [
    "preds = model3.predict([X_test, X_test_opos]).argmax(axis=2)"
   ]
  },
  {
   "cell_type": "code",
   "execution_count": 277,
   "metadata": {},
   "outputs": [],
   "source": [
    "conf_matrix = np.zeros((17,17))"
   ]
  },
  {
   "cell_type": "code",
   "execution_count": 244,
   "metadata": {},
   "outputs": [],
   "source": [
    "ground_truth = y_test.argmax(axis=2)"
   ]
  },
  {
   "cell_type": "code",
   "execution_count": 278,
   "metadata": {},
   "outputs": [],
   "source": [
    "for i in range(len(preds)):\n",
    "    for j in range(len(preds[0])):\n",
    "        conf_matrix[preds[i][j]][ground_truth[i][j]] += 1"
   ]
  },
  {
   "cell_type": "code",
   "execution_count": 279,
   "metadata": {},
   "outputs": [
    {
     "data": {
      "image/png": "[encoded data removed]",
      "text/plain": [
       "<Figure size 720x720 with 2 Axes>"
      ]
     },
     "metadata": {},
     "output_type": "display_data"
    }
   ],
   "source": [
    "import seaborn as sn\n",
    "sn.set(font_scale=1.4)#for label size\n",
    "plt.figure(figsize=(10,10))\n",
    "sn.heatmap(conf_matrix, annot=True, xticklabels=labels, yticklabels=labels, cmap='Blues', fmt='g',annot_kws={\"size\": 12})# font size\n",
    "plt.xlabel('True label')\n",
    "plt.ylabel('Predicted label')\n",
    "plt.savefig(\"confmat3.png\")\n",
    "plt.show()"
   ]
  },
  {
   "cell_type": "code",
   "execution_count": 280,
   "metadata": {},
   "outputs": [
    {
     "name": "stdout",
     "output_type": "stream",
     "text": [
      "Mean F1 score is 0.6091957127804903\n"
     ]
    }
   ],
   "source": [
    "avg, f1 = F1_score(conf_matrix, 0)"
   ]
  },
  {
   "cell_type": "code",
   "execution_count": 281,
   "metadata": {},
   "outputs": [
    {
     "data": {
      "text/html": [
       "<div>\n",
       "<style scoped>\n",
       "    .dataframe tbody tr th:only-of-type {\n",
       "        vertical-align: middle;\n",
       "    }\n",
       "\n",
       "    .dataframe tbody tr th {\n",
       "        vertical-align: top;\n",
       "    }\n",
       "\n",
       "    .dataframe thead th {\n",
       "        text-align: right;\n",
       "    }\n",
       "</style>\n",
       "<table border=\"1\" class=\"dataframe\">\n",
       "  <thead>\n",
       "    <tr style=\"text-align: right;\">\n",
       "      <th></th>\n",
       "      <th>F1</th>\n",
       "      <th>Precision</th>\n",
       "      <th>Recall</th>\n",
       "    </tr>\n",
       "  </thead>\n",
       "  <tbody>\n",
       "    <tr>\n",
       "      <th>O</th>\n",
       "      <td>0.998594</td>\n",
       "      <td>0.998991</td>\n",
       "      <td>0.998196</td>\n",
       "    </tr>\n",
       "    <tr>\n",
       "      <th>B-geo</th>\n",
       "      <td>0.871679</td>\n",
       "      <td>0.855755</td>\n",
       "      <td>0.888207</td>\n",
       "    </tr>\n",
       "    <tr>\n",
       "      <th>B-gpe</th>\n",
       "      <td>0.967766</td>\n",
       "      <td>0.954345</td>\n",
       "      <td>0.981570</td>\n",
       "    </tr>\n",
       "    <tr>\n",
       "      <th>B-per</th>\n",
       "      <td>0.809923</td>\n",
       "      <td>0.786676</td>\n",
       "      <td>0.834586</td>\n",
       "    </tr>\n",
       "    <tr>\n",
       "      <th>I-geo</th>\n",
       "      <td>0.791828</td>\n",
       "      <td>0.782324</td>\n",
       "      <td>0.801565</td>\n",
       "    </tr>\n",
       "    <tr>\n",
       "      <th>B-org</th>\n",
       "      <td>0.739932</td>\n",
       "      <td>0.748028</td>\n",
       "      <td>0.732008</td>\n",
       "    </tr>\n",
       "    <tr>\n",
       "      <th>I-org</th>\n",
       "      <td>0.787348</td>\n",
       "      <td>0.763028</td>\n",
       "      <td>0.813270</td>\n",
       "    </tr>\n",
       "    <tr>\n",
       "      <th>B-tim</th>\n",
       "      <td>0.885335</td>\n",
       "      <td>0.859501</td>\n",
       "      <td>0.912771</td>\n",
       "    </tr>\n",
       "    <tr>\n",
       "      <th>B-art</th>\n",
       "      <td>0.097222</td>\n",
       "      <td>0.077778</td>\n",
       "      <td>0.129630</td>\n",
       "    </tr>\n",
       "    <tr>\n",
       "      <th>I-art</th>\n",
       "      <td>0.062500</td>\n",
       "      <td>0.037736</td>\n",
       "      <td>0.181818</td>\n",
       "    </tr>\n",
       "    <tr>\n",
       "      <th>I-per</th>\n",
       "      <td>0.868665</td>\n",
       "      <td>0.923834</td>\n",
       "      <td>0.819713</td>\n",
       "    </tr>\n",
       "    <tr>\n",
       "      <th>I-gpe</th>\n",
       "      <td>0.782609</td>\n",
       "      <td>0.654545</td>\n",
       "      <td>0.972973</td>\n",
       "    </tr>\n",
       "    <tr>\n",
       "      <th>I-tim</th>\n",
       "      <td>0.772455</td>\n",
       "      <td>0.732030</td>\n",
       "      <td>0.817606</td>\n",
       "    </tr>\n",
       "    <tr>\n",
       "      <th>B-nat</th>\n",
       "      <td>0.460000</td>\n",
       "      <td>0.450980</td>\n",
       "      <td>0.469388</td>\n",
       "    </tr>\n",
       "    <tr>\n",
       "      <th>B-eve</th>\n",
       "      <td>0.285714</td>\n",
       "      <td>0.250000</td>\n",
       "      <td>0.333333</td>\n",
       "    </tr>\n",
       "    <tr>\n",
       "      <th>I-eve</th>\n",
       "      <td>0.174757</td>\n",
       "      <td>0.145161</td>\n",
       "      <td>0.219512</td>\n",
       "    </tr>\n",
       "    <tr>\n",
       "      <th>I-nat</th>\n",
       "      <td>0.000000</td>\n",
       "      <td>0.000000</td>\n",
       "      <td>0.000000</td>\n",
       "    </tr>\n",
       "  </tbody>\n",
       "</table>\n",
       "</div>"
      ],
      "text/plain": [
       "             F1  Precision    Recall\n",
       "O      0.998594   0.998991  0.998196\n",
       "B-geo  0.871679   0.855755  0.888207\n",
       "B-gpe  0.967766   0.954345  0.981570\n",
       "B-per  0.809923   0.786676  0.834586\n",
       "I-geo  0.791828   0.782324  0.801565\n",
       "B-org  0.739932   0.748028  0.732008\n",
       "I-org  0.787348   0.763028  0.813270\n",
       "B-tim  0.885335   0.859501  0.912771\n",
       "B-art  0.097222   0.077778  0.129630\n",
       "I-art  0.062500   0.037736  0.181818\n",
       "I-per  0.868665   0.923834  0.819713\n",
       "I-gpe  0.782609   0.654545  0.972973\n",
       "I-tim  0.772455   0.732030  0.817606\n",
       "B-nat  0.460000   0.450980  0.469388\n",
       "B-eve  0.285714   0.250000  0.333333\n",
       "I-eve  0.174757   0.145161  0.219512\n",
       "I-nat  0.000000   0.000000  0.000000"
      ]
     },
     "execution_count": 281,
     "metadata": {},
     "output_type": "execute_result"
    }
   ],
   "source": [
    "pd.DataFrame(f1, columns = [\"F1\", \"Precision\", \"Recall\"], index=labels)"
   ]
  },
  {
   "cell_type": "markdown",
   "metadata": {},
   "source": [
    "## Unknown text predictions"
   ]
  },
  {
   "cell_type": "code",
   "execution_count": 183,
   "metadata": {},
   "outputs": [],
   "source": [
    "def make_prediction_text(st, pos=None, model_chosen=None):\n",
    "    st = st.split()\n",
    "    tokens = []\n",
    "    if pos is not None:\n",
    "        pos = [pos2index[x] for x in pos]\n",
    "    \n",
    "    for elem in st:\n",
    "        \n",
    "        try:\n",
    "            tokens.append(word2index[elem])\n",
    "            \n",
    "        except KeyError:\n",
    "            \n",
    "            tokens.append(len(words)+1)\n",
    "    \n",
    "    #pad 0 until full lenght\n",
    "    \n",
    "    for i in range(104-len(tokens)):\n",
    "        tokens.append(0)\n",
    "        if pos is not None:\n",
    "            pos.append(0)\n",
    "            \n",
    "    if pos is None:\n",
    "        \n",
    "        preds = model.predict(np.array(tokens).reshape(1,-1))\n",
    "    elif pos is not None and model_chosen == 2:\n",
    "        preds = model2.predict(np.stack((np.array(tokens), np.array(pos)), axis=1).reshape(1, 104, 2))\n",
    "    \n",
    "    elif pos is not None and model_chosen == 3:\n",
    "        preds = model3.predict([np.array(tokens).reshape(1,-1), np.array(pos).reshape(1,-1)])\n",
    "    print(\"{:15}||{}\".format(\"Word\", \"Prediction\"))\n",
    "    for i in range(len(tokens)):\n",
    "        if index2word[tokens[i]] == \"PAD\": break\n",
    "        print(\"{:15}: {:5}\".format(st[i], index2tag[int(preds[0][i].argmax())]))\n",
    "            "
   ]
  },
  {
   "cell_type": "markdown",
   "metadata": {},
   "source": [
    "## Model 1"
   ]
  },
  {
   "cell_type": "code",
   "execution_count": 184,
   "metadata": {},
   "outputs": [],
   "source": [
    "st1 = \"The programmers from Barcelona might write a sentence without a spell checker .\"\n",
    "st2 = \"The programmers from Barchelona cannot write a sentence without a spell checker .\"\n",
    "st3 = \"Jack London went to Parris .\"\n",
    "st4 = \"Jack London went to Paris .\"\n",
    "st5 = \"We never though Microsoft would become such a big company .\"\n",
    "st6 = \"We never though Microsof would become such a big company .\"\n",
    "st7 = \"The president of U.S.A though they could win the war\"\n",
    "st8 = \"The president of the United States of America though they could win the war\"\n",
    "st9 = \"The king of Saudi Arabia wanted total control .\"\n",
    "st10 = \"Robin does not want to go to Saudi Arabia .\""
   ]
  },
  {
   "cell_type": "code",
   "execution_count": 185,
   "metadata": {},
   "outputs": [
    {
     "name": "stdout",
     "output_type": "stream",
     "text": [
      "Word           ||Prediction\n",
      "The            : O    \n",
      "programmers    : O    \n",
      "from           : O    \n",
      "Barcelona      : O    \n",
      "might          : O    \n",
      "write          : O    \n",
      "a              : O    \n",
      "sentence       : O    \n",
      "without        : O    \n",
      "a              : O    \n",
      "spell          : O    \n",
      "checker        : O    \n",
      ".              : O    \n"
     ]
    }
   ],
   "source": [
    "make_prediction_text(st1)"
   ]
  },
  {
   "cell_type": "code",
   "execution_count": 186,
   "metadata": {},
   "outputs": [
    {
     "name": "stdout",
     "output_type": "stream",
     "text": [
      "Word           ||Prediction\n",
      "The            : O    \n",
      "programmers    : O    \n",
      "from           : O    \n",
      "Barchelona     : O    \n",
      "cannot         : O    \n",
      "write          : O    \n",
      "a              : O    \n",
      "sentence       : O    \n",
      "without        : O    \n",
      "a              : O    \n",
      "spell          : O    \n",
      "checker        : O    \n",
      ".              : O    \n"
     ]
    }
   ],
   "source": [
    "make_prediction_text(st2)"
   ]
  },
  {
   "cell_type": "code",
   "execution_count": 187,
   "metadata": {},
   "outputs": [
    {
     "name": "stdout",
     "output_type": "stream",
     "text": [
      "Word           ||Prediction\n",
      "Jack           : B-per\n",
      "London         : I-per\n",
      "went           : O    \n",
      "to             : O    \n",
      "Parris         : O    \n",
      ".              : O    \n"
     ]
    }
   ],
   "source": [
    "make_prediction_text(st3)"
   ]
  },
  {
   "cell_type": "code",
   "execution_count": 188,
   "metadata": {},
   "outputs": [
    {
     "name": "stdout",
     "output_type": "stream",
     "text": [
      "Word           ||Prediction\n",
      "Jack           : B-per\n",
      "London         : I-per\n",
      "went           : O    \n",
      "to             : O    \n",
      "Paris          : B-geo\n",
      ".              : O    \n"
     ]
    }
   ],
   "source": [
    "make_prediction_text(st4)"
   ]
  },
  {
   "cell_type": "code",
   "execution_count": 189,
   "metadata": {},
   "outputs": [
    {
     "name": "stdout",
     "output_type": "stream",
     "text": [
      "Word           ||Prediction\n",
      "We             : O    \n",
      "never          : O    \n",
      "though         : O    \n",
      "Microsoft      : B-org\n",
      "would          : O    \n",
      "become         : O    \n",
      "such           : O    \n",
      "a              : O    \n",
      "big            : O    \n",
      "company        : O    \n",
      ".              : O    \n"
     ]
    }
   ],
   "source": [
    "make_prediction_text(st5)"
   ]
  },
  {
   "cell_type": "code",
   "execution_count": 190,
   "metadata": {},
   "outputs": [
    {
     "name": "stdout",
     "output_type": "stream",
     "text": [
      "Word           ||Prediction\n",
      "We             : O    \n",
      "never          : O    \n",
      "though         : O    \n",
      "Microsof       : O    \n",
      "would          : O    \n",
      "become         : O    \n",
      "such           : O    \n",
      "a              : O    \n",
      "big            : O    \n",
      "company        : O    \n",
      ".              : O    \n"
     ]
    }
   ],
   "source": [
    "make_prediction_text(st6)"
   ]
  },
  {
   "cell_type": "code",
   "execution_count": 191,
   "metadata": {},
   "outputs": [
    {
     "name": "stdout",
     "output_type": "stream",
     "text": [
      "Word           ||Prediction\n",
      "The            : O    \n",
      "president      : O    \n",
      "of             : O    \n",
      "U.S.A          : B-org\n",
      "though         : O    \n",
      "they           : O    \n",
      "could          : O    \n",
      "win            : O    \n",
      "the            : O    \n",
      "war            : O    \n"
     ]
    }
   ],
   "source": [
    "make_prediction_text(st7)"
   ]
  },
  {
   "cell_type": "code",
   "execution_count": 192,
   "metadata": {},
   "outputs": [
    {
     "name": "stdout",
     "output_type": "stream",
     "text": [
      "Word           ||Prediction\n",
      "The            : O    \n",
      "president      : O    \n",
      "of             : O    \n",
      "the            : O    \n",
      "United         : B-geo\n",
      "States         : I-geo\n",
      "of             : I-geo\n",
      "America        : I-geo\n",
      "though         : O    \n",
      "they           : O    \n",
      "could          : O    \n",
      "win            : O    \n",
      "the            : O    \n",
      "war            : O    \n"
     ]
    }
   ],
   "source": [
    "make_prediction_text(st8)"
   ]
  },
  {
   "cell_type": "code",
   "execution_count": 193,
   "metadata": {},
   "outputs": [
    {
     "name": "stdout",
     "output_type": "stream",
     "text": [
      "Word           ||Prediction\n",
      "The            : O    \n",
      "king           : O    \n",
      "of             : O    \n",
      "Saudi          : B-geo\n",
      "Arabia         : I-per\n",
      "wanted         : O    \n",
      "total          : O    \n",
      "control        : O    \n",
      ".              : O    \n"
     ]
    }
   ],
   "source": [
    "make_prediction_text(st9)"
   ]
  },
  {
   "cell_type": "code",
   "execution_count": 194,
   "metadata": {},
   "outputs": [
    {
     "name": "stdout",
     "output_type": "stream",
     "text": [
      "Word           ||Prediction\n",
      "Robin          : B-per\n",
      "does           : O    \n",
      "not            : O    \n",
      "want           : O    \n",
      "to             : O    \n",
      "go             : O    \n",
      "to             : O    \n",
      "Saudi          : B-geo\n",
      "Arabia         : I-geo\n",
      ".              : O    \n"
     ]
    }
   ],
   "source": [
    "make_prediction_text(st10)"
   ]
  },
  {
   "cell_type": "markdown",
   "metadata": {},
   "source": [
    "### Model 2"
   ]
  },
  {
   "cell_type": "code",
   "execution_count": 208,
   "metadata": {},
   "outputs": [
    {
     "name": "stdout",
     "output_type": "stream",
     "text": [
      "Word           ||Prediction\n",
      "The            : O    \n",
      "programmers    : O    \n",
      "from           : O    \n",
      "Barcelona      : O    \n",
      "might          : O    \n",
      "write          : O    \n",
      "a              : O    \n",
      "sentence       : O    \n",
      "without        : O    \n",
      "a              : O    \n",
      "spell          : O    \n",
      "checker        : O    \n",
      ".              : O    \n"
     ]
    }
   ],
   "source": [
    "make_prediction_text(st1, model_chosen=2)"
   ]
  },
  {
   "cell_type": "code",
   "execution_count": 209,
   "metadata": {},
   "outputs": [
    {
     "name": "stdout",
     "output_type": "stream",
     "text": [
      "Word           ||Prediction\n",
      "The            : O    \n",
      "programmers    : O    \n",
      "from           : O    \n",
      "Barchelona     : O    \n",
      "cannot         : O    \n",
      "write          : O    \n",
      "a              : O    \n",
      "sentence       : O    \n",
      "without        : O    \n",
      "a              : O    \n",
      "spell          : O    \n",
      "checker        : O    \n",
      ".              : O    \n"
     ]
    }
   ],
   "source": [
    "make_prediction_text(st2, model_chosen=2)"
   ]
  },
  {
   "cell_type": "code",
   "execution_count": 210,
   "metadata": {},
   "outputs": [
    {
     "name": "stdout",
     "output_type": "stream",
     "text": [
      "Word           ||Prediction\n",
      "Jack           : B-per\n",
      "London         : I-per\n",
      "went           : O    \n",
      "to             : O    \n",
      "Parris         : O    \n",
      ".              : O    \n"
     ]
    }
   ],
   "source": [
    "make_prediction_text(st3, model_chosen=2)"
   ]
  },
  {
   "cell_type": "code",
   "execution_count": 211,
   "metadata": {},
   "outputs": [
    {
     "name": "stdout",
     "output_type": "stream",
     "text": [
      "Word           ||Prediction\n",
      "Jack           : B-per\n",
      "London         : I-per\n",
      "went           : O    \n",
      "to             : O    \n",
      "Paris          : B-geo\n",
      ".              : O    \n"
     ]
    }
   ],
   "source": [
    "make_prediction_text(st4, model_chosen=2)"
   ]
  },
  {
   "cell_type": "code",
   "execution_count": 212,
   "metadata": {},
   "outputs": [
    {
     "name": "stdout",
     "output_type": "stream",
     "text": [
      "Word           ||Prediction\n",
      "We             : O    \n",
      "never          : O    \n",
      "though         : O    \n",
      "Microsoft      : B-org\n",
      "would          : O    \n",
      "become         : O    \n",
      "such           : O    \n",
      "a              : O    \n",
      "big            : O    \n",
      "company        : O    \n",
      ".              : O    \n"
     ]
    }
   ],
   "source": [
    "make_prediction_text(st5, model_chosen=2)"
   ]
  },
  {
   "cell_type": "code",
   "execution_count": 213,
   "metadata": {},
   "outputs": [
    {
     "name": "stdout",
     "output_type": "stream",
     "text": [
      "Word           ||Prediction\n",
      "We             : O    \n",
      "never          : O    \n",
      "though         : O    \n",
      "Microsof       : O    \n",
      "would          : O    \n",
      "become         : O    \n",
      "such           : O    \n",
      "a              : O    \n",
      "big            : O    \n",
      "company        : O    \n",
      ".              : O    \n"
     ]
    }
   ],
   "source": [
    "make_prediction_text(st6, model_chosen=2)"
   ]
  },
  {
   "cell_type": "code",
   "execution_count": 214,
   "metadata": {},
   "outputs": [
    {
     "name": "stdout",
     "output_type": "stream",
     "text": [
      "Word           ||Prediction\n",
      "The            : O    \n",
      "president      : O    \n",
      "of             : O    \n",
      "U.S.A          : B-org\n",
      "though         : O    \n",
      "they           : O    \n",
      "could          : O    \n",
      "win            : O    \n",
      "the            : O    \n",
      "war            : O    \n"
     ]
    }
   ],
   "source": [
    "make_prediction_text(st7, model_chosen=2)"
   ]
  },
  {
   "cell_type": "code",
   "execution_count": 215,
   "metadata": {},
   "outputs": [
    {
     "name": "stdout",
     "output_type": "stream",
     "text": [
      "Word           ||Prediction\n",
      "The            : O    \n",
      "president      : O    \n",
      "of             : O    \n",
      "the            : O    \n",
      "United         : B-geo\n",
      "States         : I-geo\n",
      "of             : I-geo\n",
      "America        : I-geo\n",
      "though         : O    \n",
      "they           : O    \n",
      "could          : O    \n",
      "win            : O    \n",
      "the            : O    \n",
      "war            : O    \n"
     ]
    }
   ],
   "source": [
    "make_prediction_text(st8, model_chosen=2)"
   ]
  },
  {
   "cell_type": "code",
   "execution_count": 216,
   "metadata": {},
   "outputs": [
    {
     "name": "stdout",
     "output_type": "stream",
     "text": [
      "Word           ||Prediction\n",
      "The            : O    \n",
      "king           : O    \n",
      "of             : O    \n",
      "Saudi          : B-geo\n",
      "Arabia         : I-per\n",
      "wanted         : O    \n",
      "total          : O    \n",
      "control        : O    \n",
      ".              : O    \n"
     ]
    }
   ],
   "source": [
    "make_prediction_text(st9, model_chosen=2)"
   ]
  },
  {
   "cell_type": "code",
   "execution_count": 217,
   "metadata": {},
   "outputs": [
    {
     "name": "stdout",
     "output_type": "stream",
     "text": [
      "Word           ||Prediction\n",
      "Robin          : B-per\n",
      "does           : O    \n",
      "not            : O    \n",
      "want           : O    \n",
      "to             : O    \n",
      "go             : O    \n",
      "to             : O    \n",
      "Saudi          : B-geo\n",
      "Arabia         : I-geo\n",
      ".              : O    \n"
     ]
    }
   ],
   "source": [
    "make_prediction_text(st10, model_chosen=2)"
   ]
  },
  {
   "cell_type": "markdown",
   "metadata": {},
   "source": [
    "### Model 3"
   ]
  },
  {
   "cell_type": "code",
   "execution_count": 197,
   "metadata": {},
   "outputs": [],
   "source": [
    "st1 = \"The programmers from Barcelona might write a sentence without a spell checker .\"\n",
    "pos1 = [\"DT\", 'NNS', 'IN', 'NNP', 'MD', 'VB', 'DT', 'NN', 'IN', 'DT', 'NN', 'NN', '.']\n",
    "\n",
    "st2 = \"The programmers from Barchelona cannot write a sentence without a spell checker .\"\n",
    "pos2 = [\"DT\", 'NNS', 'IN', 'NNP', 'MD', 'VB', 'DT', 'NN', 'IN', 'DT', 'NN', 'NN', '.']\n",
    "\n",
    "st3 = \"Jack London went to Parris .\"\n",
    "pos3 = [\"NNP\", \"NNP\", \"VBD\", \"IN\", \"NNP\", \".\"]\n",
    "\n",
    "st4 = \"Jack London went to Paris .\"\n",
    "pos4 = [\"NNP\", \"NNP\", \"VBD\", \"IN\", \"NNP\", \".\"]\n",
    "\n",
    "st5 = \"We never though Microsoft would become such a big company .\"\n",
    "pos5 = [\"PRP\", \"RB\", \"VBD\", \"NNP\", \"MD\", \"VB\", \"JJ\", \"DT\", \"JJ\", \"NN\", \".\"]\n",
    "\n",
    "st6 = \"We never though Microsof would become such a big company .\"\n",
    "pos6 = [\"PRP\", \"RB\", \"VBD\", \"NNP\", \"MD\", \"VB\", \"JJ\", \"DT\", \"JJ\", \"NN\", \".\"]\n",
    "\n",
    "st7 = \"The president of U.S.A though they could win the war\"\n",
    "pos7 = [\"DT\", \"NN\", \"IN\", \"NNP\", \"IN\", \"PRP\", \"MD\", \"VB\", \"DT\", \"NN\"]\n",
    "\n",
    "st8 = \"The president of the United States of America though they could win the war\"\n",
    "pos8 = [\"DT\", \"NN\", \"IN\", \"DT\", \"NNP\", \"NNPS\",  \"IN\", \"NNP\", \"VBD\", \"PRP\", \"MD\", \"VB\", \"DT\", \"NN\"]\n",
    "\n",
    "st9 = \"The king of Saudi Arabia wanted total control .\"\n",
    "pos9 = [\"DT\", \"NN\", \"IN\", \"NNP\", \"NNP\", \"VBD\", \"JJ\", \"NN\", \".\"]\n",
    "\n",
    "st10 = \"Robin does not want to go to Saudi Arabia .\"\n",
    "pos10 = [\"NNP\", \"VBZ\", \"RB\", \"VB\", \"IN\", \"VB\", \"IN\", \"NNP\", \"NNP\", \".\"]"
   ]
  },
  {
   "cell_type": "code",
   "execution_count": 198,
   "metadata": {},
   "outputs": [
    {
     "name": "stdout",
     "output_type": "stream",
     "text": [
      "Word           ||Prediction\n",
      "The            : O    \n",
      "programmers    : O    \n",
      "from           : O    \n",
      "Barcelona      : B-geo\n",
      "might          : O    \n",
      "write          : O    \n",
      "a              : O    \n",
      "sentence       : O    \n",
      "without        : O    \n",
      "a              : O    \n",
      "spell          : O    \n",
      "checker        : O    \n",
      ".              : O    \n"
     ]
    }
   ],
   "source": [
    "make_prediction_text(st1, pos1, 3)"
   ]
  },
  {
   "cell_type": "code",
   "execution_count": 199,
   "metadata": {},
   "outputs": [
    {
     "name": "stdout",
     "output_type": "stream",
     "text": [
      "Word           ||Prediction\n",
      "The            : O    \n",
      "programmers    : O    \n",
      "from           : O    \n",
      "Barchelona     : B-geo\n",
      "cannot         : O    \n",
      "write          : O    \n",
      "a              : O    \n",
      "sentence       : O    \n",
      "without        : O    \n",
      "a              : O    \n",
      "spell          : O    \n",
      "checker        : O    \n",
      ".              : O    \n"
     ]
    }
   ],
   "source": [
    "make_prediction_text(st2, pos2, 3)"
   ]
  },
  {
   "cell_type": "code",
   "execution_count": 200,
   "metadata": {},
   "outputs": [
    {
     "name": "stdout",
     "output_type": "stream",
     "text": [
      "Word           ||Prediction\n",
      "Jack           : B-per\n",
      "London         : I-per\n",
      "went           : O    \n",
      "to             : O    \n",
      "Parris         : B-geo\n",
      ".              : O    \n"
     ]
    }
   ],
   "source": [
    "make_prediction_text(st3, pos3, 3)"
   ]
  },
  {
   "cell_type": "code",
   "execution_count": 201,
   "metadata": {},
   "outputs": [
    {
     "name": "stdout",
     "output_type": "stream",
     "text": [
      "Word           ||Prediction\n",
      "Jack           : B-per\n",
      "London         : I-per\n",
      "went           : O    \n",
      "to             : O    \n",
      "Paris          : B-geo\n",
      ".              : O    \n"
     ]
    }
   ],
   "source": [
    "make_prediction_text(st4, pos4, 3)"
   ]
  },
  {
   "cell_type": "code",
   "execution_count": 202,
   "metadata": {},
   "outputs": [
    {
     "name": "stdout",
     "output_type": "stream",
     "text": [
      "Word           ||Prediction\n",
      "We             : O    \n",
      "never          : O    \n",
      "though         : O    \n",
      "Microsoft      : B-org\n",
      "would          : O    \n",
      "become         : O    \n",
      "such           : O    \n",
      "a              : O    \n",
      "big            : O    \n",
      "company        : O    \n",
      ".              : O    \n"
     ]
    }
   ],
   "source": [
    "make_prediction_text(st5, pos5, 3)"
   ]
  },
  {
   "cell_type": "code",
   "execution_count": 203,
   "metadata": {},
   "outputs": [
    {
     "name": "stdout",
     "output_type": "stream",
     "text": [
      "Word           ||Prediction\n",
      "We             : O    \n",
      "never          : O    \n",
      "though         : O    \n",
      "Microsof       : B-per\n",
      "would          : O    \n",
      "become         : O    \n",
      "such           : O    \n",
      "a              : O    \n",
      "big            : O    \n",
      "company        : O    \n",
      ".              : O    \n"
     ]
    }
   ],
   "source": [
    "make_prediction_text(st6, pos6, 3)"
   ]
  },
  {
   "cell_type": "code",
   "execution_count": 204,
   "metadata": {},
   "outputs": [
    {
     "name": "stdout",
     "output_type": "stream",
     "text": [
      "Word           ||Prediction\n",
      "The            : O    \n",
      "president      : O    \n",
      "of             : O    \n",
      "U.S.A          : B-org\n",
      "though         : O    \n",
      "they           : O    \n",
      "could          : O    \n",
      "win            : O    \n",
      "the            : O    \n",
      "war            : O    \n"
     ]
    }
   ],
   "source": [
    "make_prediction_text(st7, pos7, 3)"
   ]
  },
  {
   "cell_type": "code",
   "execution_count": 205,
   "metadata": {},
   "outputs": [
    {
     "name": "stdout",
     "output_type": "stream",
     "text": [
      "Word           ||Prediction\n",
      "The            : O    \n",
      "president      : O    \n",
      "of             : O    \n",
      "the            : O    \n",
      "United         : B-geo\n",
      "States         : I-geo\n",
      "of             : O    \n",
      "America        : I-geo\n",
      "though         : O    \n",
      "they           : O    \n",
      "could          : O    \n",
      "win            : O    \n",
      "the            : O    \n",
      "war            : O    \n"
     ]
    }
   ],
   "source": [
    "make_prediction_text(st8, pos8, 3)"
   ]
  },
  {
   "cell_type": "code",
   "execution_count": 206,
   "metadata": {},
   "outputs": [
    {
     "name": "stdout",
     "output_type": "stream",
     "text": [
      "Word           ||Prediction\n",
      "The            : O    \n",
      "king           : O    \n",
      "of             : O    \n",
      "Saudi          : B-per\n",
      "Arabia         : I-per\n",
      "wanted         : O    \n",
      "total          : O    \n",
      "control        : O    \n",
      ".              : O    \n"
     ]
    }
   ],
   "source": [
    "make_prediction_text(st9, pos9, 3)"
   ]
  },
  {
   "cell_type": "code",
   "execution_count": 207,
   "metadata": {},
   "outputs": [
    {
     "name": "stdout",
     "output_type": "stream",
     "text": [
      "Word           ||Prediction\n",
      "Robin          : B-per\n",
      "does           : O    \n",
      "not            : O    \n",
      "want           : O    \n",
      "to             : O    \n",
      "go             : O    \n",
      "to             : O    \n",
      "Saudi          : B-geo\n",
      "Arabia         : I-geo\n",
      ".              : O    \n"
     ]
    }
   ],
   "source": [
    "make_prediction_text(st10, pos10, 3)"
   ]
  }
 ],
 "metadata": {
  "kernelspec": {
   "display_name": "Python 3",
   "language": "python",
   "name": "python3"
  },
  "language_info": {
   "codemirror_mode": {
    "name": "ipython",
    "version": 3
   },
   "file_extension": ".py",
   "mimetype": "text/x-python",
   "name": "python",
   "nbconvert_exporter": "python",
   "pygments_lexer": "ipython3",
   "version": "3.6.8"
  }
 },
 "nbformat": 4,
 "nbformat_minor": 2
}
