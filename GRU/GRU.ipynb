{
  "nbformat": 4,
  "nbformat_minor": 0,
  "metadata": {
    "colab": {
      "name": "GRU.ipynb",
      "version": "0.3.2",
      "provenance": [],
      "collapsed_sections": []
    },
    "language_info": {
      "codemirror_mode": {
        "name": "ipython",
        "version": 3
      },
      "file_extension": ".py",
      "mimetype": "text/x-python",
      "name": "python",
      "nbconvert_exporter": "python",
      "pygments_lexer": "ipython3",
      "version": "3.6.7"
    },
    "kernelspec": {
      "display_name": "Python 3",
      "language": "python",
      "name": "python3"
    }
  },
  "cells": [
    {
      "cell_type": "code",
      "metadata": {
        "id": "VpUEWVsFIqCP",
        "colab_type": "code",
        "colab": {
          "base_uri": "https://localhost:8080/",
          "height": 68
        },
        "outputId": "fc4b3efe-f886-4b85-dff6-d97ddd83448c"
      },
      "source": [
        "import nltk\n",
        "nltk.download('punkt')\n",
        "from nltk import word_tokenize\n",
        "import pandas as pd\n",
        "import numpy as np\n",
        "from keras.preprocessing.sequence import pad_sequences\n",
        "from keras.utils import to_categorical\n",
        "from keras.models import Sequential, Model, Input\n",
        "from keras.layers import GRU, Activation, Dense, Embedding, Dropout"
      ],
      "execution_count": 1,
      "outputs": [
        {
          "output_type": "stream",
          "text": [
            "[nltk_data] Downloading package punkt to /root/nltk_data...\n",
            "[nltk_data]   Package punkt is already up-to-date!\n"
          ],
          "name": "stdout"
        },
        {
          "output_type": "stream",
          "text": [
            "Using TensorFlow backend.\n"
          ],
          "name": "stderr"
        }
      ]
    },
    {
      "cell_type": "code",
      "metadata": {
        "id": "WLjQMp0FIrTA",
        "colab_type": "code",
        "colab": {
          "base_uri": "https://localhost:8080/",
          "height": 34
        },
        "outputId": "1a7c0e42-4ccc-400d-9223-3ba0db836697"
      },
      "source": [
        "import os\n",
        "os.environ['KAGGLE_USERNAME'] = \"XXXXXXXXX\"\n",
        "os.environ['KAGGLE_KEY'] = \"XXXXXXX\"\n",
        "!kaggle datasets download abhinavwalia95/entity-annotated-corpus"
      ],
      "execution_count": 2,
      "outputs": [
        {
          "output_type": "stream",
          "text": [
            "entity-annotated-corpus.zip: Skipping, found more recently modified local copy (use --force to force download)\n"
          ],
          "name": "stdout"
        }
      ]
    },
    {
      "cell_type": "code",
      "metadata": {
        "id": "5iYQQOe8I5Kv",
        "colab_type": "code",
        "colab": {
          "base_uri": "https://localhost:8080/",
          "height": 68
        },
        "outputId": "29137093-347a-4614-86cc-328dea366c02"
      },
      "source": [
        "!unzip -o entity-annotated-corpus.zip"
      ],
      "execution_count": 3,
      "outputs": [
        {
          "output_type": "stream",
          "text": [
            "Archive:  entity-annotated-corpus.zip\n",
            "  inflating: ner.csv                 \n",
            "  inflating: ner_dataset.csv         \n"
          ],
          "name": "stdout"
        }
      ]
    },
    {
      "cell_type": "code",
      "metadata": {
        "id": "dkJgy4LUIqCV",
        "colab_type": "code",
        "colab": {}
      },
      "source": [
        "df = pd.read_csv(\"ner_dataset.csv\", encoding = 'unicode_escape')"
      ],
      "execution_count": 0,
      "outputs": []
    },
    {
      "cell_type": "code",
      "metadata": {
        "id": "k-l6SafpIqCa",
        "colab_type": "code",
        "colab": {
          "base_uri": "https://localhost:8080/",
          "height": 34
        },
        "outputId": "34325359-79e9-4584-b3dc-6b7cb2106989"
      },
      "source": [
        "df.columns"
      ],
      "execution_count": 5,
      "outputs": [
        {
          "output_type": "execute_result",
          "data": {
            "text/plain": [
              "Index(['Sentence #', 'Word', 'POS', 'Tag'], dtype='object')"
            ]
          },
          "metadata": {
            "tags": []
          },
          "execution_count": 5
        }
      ]
    },
    {
      "cell_type": "code",
      "metadata": {
        "id": "siS2qfW6IqCd",
        "colab_type": "code",
        "colab": {}
      },
      "source": [
        "df.rename({'Sentence #':'Sentence_ID'}, axis=1, inplace=True)"
      ],
      "execution_count": 0,
      "outputs": []
    },
    {
      "cell_type": "code",
      "metadata": {
        "id": "EudWvHC3IqCg",
        "colab_type": "code",
        "colab": {}
      },
      "source": [
        "df['Sentence_ID'].replace(regex=True,inplace=True,to_replace=r'\\D',value=r'')"
      ],
      "execution_count": 0,
      "outputs": []
    },
    {
      "cell_type": "code",
      "metadata": {
        "id": "a8AN9eHGIqCi",
        "colab_type": "code",
        "colab": {}
      },
      "source": [
        "# Fix missing Sentence IDs with forward fill.\n",
        "df['Sentence_ID'] = df['Sentence_ID'].ffill()"
      ],
      "execution_count": 0,
      "outputs": []
    },
    {
      "cell_type": "code",
      "metadata": {
        "id": "i_Kqz8pGIqCs",
        "colab_type": "code",
        "colab": {}
      },
      "source": [
        "class SentenceGetter(object):\n",
        "    \n",
        "    def __init__(self, dataset):\n",
        "        self.dataset = dataset\n",
        "        agg_func = lambda s: [(w, t) for w,t in zip(s[\"Word\"].values.tolist(),\n",
        "                                                        s[\"Tag\"].values.tolist())]\n",
        "        self.grouped = self.dataset.groupby(\"Sentence_ID\").apply(agg_func)\n",
        "        self.sentences = [s for s in self.grouped]"
      ],
      "execution_count": 0,
      "outputs": []
    },
    {
      "cell_type": "code",
      "metadata": {
        "id": "8xJQaQYWIqCu",
        "colab_type": "code",
        "colab": {}
      },
      "source": [
        "getter = SentenceGetter(df)\n",
        "sentences = getter.sentences"
      ],
      "execution_count": 0,
      "outputs": []
    },
    {
      "cell_type": "code",
      "metadata": {
        "id": "qu29J107IqCz",
        "colab_type": "code",
        "colab": {
          "base_uri": "https://localhost:8080/",
          "height": 34
        },
        "outputId": "b6c7e1bb-f6e2-4a0e-d474-44db6458697a"
      },
      "source": [
        "maxlen = max([len(s) for s in sentences])\n",
        "print ('Maximum sequence length:', maxlen)"
      ],
      "execution_count": 11,
      "outputs": [
        {
          "output_type": "stream",
          "text": [
            "Maximum sequence length: 104\n"
          ],
          "name": "stdout"
        }
      ]
    },
    {
      "cell_type": "code",
      "metadata": {
        "id": "edbft8K_IqC2",
        "colab_type": "code",
        "colab": {
          "base_uri": "https://localhost:8080/",
          "height": 34
        },
        "outputId": "62e1688e-a016-4e45-eb02-88b2d06dca34"
      },
      "source": [
        "words = list(set(df[\"Word\"].values))\n",
        "words.append(\"ENDPAD\")\n",
        "len(words)"
      ],
      "execution_count": 12,
      "outputs": [
        {
          "output_type": "execute_result",
          "data": {
            "text/plain": [
              "35179"
            ]
          },
          "metadata": {
            "tags": []
          },
          "execution_count": 12
        }
      ]
    },
    {
      "cell_type": "code",
      "metadata": {
        "id": "AKnZglO6IqC4",
        "colab_type": "code",
        "colab": {
          "base_uri": "https://localhost:8080/",
          "height": 34
        },
        "outputId": "f75fa413-4a46-42a7-805b-2ae3de441d6e"
      },
      "source": [
        "tags = list(set(df[\"Tag\"].values))\n",
        "len(tags)"
      ],
      "execution_count": 13,
      "outputs": [
        {
          "output_type": "execute_result",
          "data": {
            "text/plain": [
              "17"
            ]
          },
          "metadata": {
            "tags": []
          },
          "execution_count": 13
        }
      ]
    },
    {
      "cell_type": "code",
      "metadata": {
        "id": "UaKaHM7VIqC8",
        "colab_type": "code",
        "colab": {}
      },
      "source": [
        "word2idx = {w: i for i, w in enumerate(words)}\n",
        "tag2idx = {t: i for i, t in enumerate(tags)}"
      ],
      "execution_count": 0,
      "outputs": []
    },
    {
      "cell_type": "code",
      "metadata": {
        "id": "17Xh-_bBIqC-",
        "colab_type": "code",
        "colab": {}
      },
      "source": [
        "X = [[word2idx[w[0]] for w in s] for s in sentences]"
      ],
      "execution_count": 0,
      "outputs": []
    },
    {
      "cell_type": "code",
      "metadata": {
        "id": "KnC-UYrYIqDB",
        "colab_type": "code",
        "colab": {}
      },
      "source": [
        "y = [[tag2idx[w[1]] for w in s] for s in sentences]"
      ],
      "execution_count": 0,
      "outputs": []
    },
    {
      "cell_type": "code",
      "metadata": {
        "id": "G7JMEMIGIqDD",
        "colab_type": "code",
        "colab": {}
      },
      "source": [
        "X = pad_sequences(maxlen=140, sequences=X, padding=\"post\", value = 35178)\n",
        "y = pad_sequences(maxlen=140, sequences=y, padding=\"post\", value = tag2idx[\"O\"])"
      ],
      "execution_count": 0,
      "outputs": []
    },
    {
      "cell_type": "code",
      "metadata": {
        "id": "8kgGx876IqDG",
        "colab_type": "code",
        "colab": {
          "base_uri": "https://localhost:8080/",
          "height": 34
        },
        "outputId": "6fab5ff5-40b0-4eda-ae97-8411c24c6fa3"
      },
      "source": [
        "X.shape, y.shape"
      ],
      "execution_count": 18,
      "outputs": [
        {
          "output_type": "execute_result",
          "data": {
            "text/plain": [
              "((47959, 140), (47959, 140))"
            ]
          },
          "metadata": {
            "tags": []
          },
          "execution_count": 18
        }
      ]
    },
    {
      "cell_type": "code",
      "metadata": {
        "id": "Rcdh-WBnIqDJ",
        "colab_type": "code",
        "colab": {}
      },
      "source": [
        "y = [to_categorical(i, num_classes=17) for i in y]"
      ],
      "execution_count": 0,
      "outputs": []
    },
    {
      "cell_type": "markdown",
      "metadata": {
        "id": "B_0LwMH_IqDO",
        "colab_type": "text"
      },
      "source": [
        "#### X_train, X_test, y_train, y_test"
      ]
    },
    {
      "cell_type": "code",
      "metadata": {
        "id": "29BlAbg9IqDO",
        "colab_type": "code",
        "colab": {}
      },
      "source": [
        "X_train = X[:35970]\n",
        "X_test = X[35970:]\n",
        "y_train = y[:35970]\n",
        "y_test = y[35970:]"
      ],
      "execution_count": 0,
      "outputs": []
    },
    {
      "cell_type": "code",
      "metadata": {
        "id": "-Do8VeSJIqDQ",
        "colab_type": "code",
        "colab": {
          "base_uri": "https://localhost:8080/",
          "height": 51
        },
        "outputId": "473af7b5-b4fa-4966-feba-8d34e8bccbd4"
      },
      "source": [
        "print(X_train.shape[0] + X_test.shape[0])\n",
        "print(len(y_train) + len(y_test))"
      ],
      "execution_count": 21,
      "outputs": [
        {
          "output_type": "stream",
          "text": [
            "47959\n",
            "47959\n"
          ],
          "name": "stdout"
        }
      ]
    },
    {
      "cell_type": "code",
      "metadata": {
        "id": "HvPXcwsu7dsE",
        "colab_type": "code",
        "colab": {}
      },
      "source": [
        "from keras import backend as K\n",
        "\n",
        "def recall_m(y_true, y_pred):\n",
        "        true_positives = K.sum(K.round(K.clip(y_true * y_pred, 0, 1)))\n",
        "        possible_positives = K.sum(K.round(K.clip(y_true, 0, 1)))\n",
        "        recall = true_positives / (possible_positives + K.epsilon())\n",
        "        return recall\n",
        "\n",
        "def precision_m(y_true, y_pred):\n",
        "        true_positives = K.sum(K.round(K.clip(y_true * y_pred, 0, 1)))\n",
        "        predicted_positives = K.sum(K.round(K.clip(y_pred, 0, 1)))\n",
        "        precision = true_positives / (predicted_positives + K.epsilon())\n",
        "        return precision\n",
        "\n",
        "def f1_score(y_true, y_pred):\n",
        "    precision = precision_m(y_true, y_pred)\n",
        "    recall = recall_m(y_true, y_pred)\n",
        "    return 2*((precision*recall)/(precision+recall+K.epsilon()))\n"
      ],
      "execution_count": 0,
      "outputs": []
    },
    {
      "cell_type": "code",
      "metadata": {
        "id": "N4yXsUsxIqDZ",
        "colab_type": "code",
        "colab": {
          "base_uri": "https://localhost:8080/",
          "height": 309
        },
        "outputId": "9676c6f3-391e-4436-b68f-70d736f0af0a"
      },
      "source": [
        "vocabulary_size = len(words)\n",
        "embedding_dim = 100  \n",
        "\n",
        "model = Sequential()\n",
        "model.add(Embedding(vocabulary_size, embedding_dim, input_shape=(140,)))\n",
        "model.add(GRU(50, return_sequences = True))\n",
        "model.add(Dropout(0.2))\n",
        "model.add(GRU(50, return_sequences = True))\n",
        "model.add(Dropout(0.2))\n",
        "model.add(Dense(17, activation = 'softmax'))\n",
        "model.compile(loss = 'categorical_crossentropy', optimizer = 'adam', metrics = ['accuracy', f1_score])"
      ],
      "execution_count": 23,
      "outputs": [
        {
          "output_type": "stream",
          "text": [
            "WARNING: Logging before flag parsing goes to stderr.\n",
            "W0616 19:10:37.890957 140628765251456 deprecation_wrapper.py:119] From /usr/local/lib/python3.6/dist-packages/keras/backend/tensorflow_backend.py:74: The name tf.get_default_graph is deprecated. Please use tf.compat.v1.get_default_graph instead.\n",
            "\n",
            "W0616 19:10:37.906188 140628765251456 deprecation_wrapper.py:119] From /usr/local/lib/python3.6/dist-packages/keras/backend/tensorflow_backend.py:517: The name tf.placeholder is deprecated. Please use tf.compat.v1.placeholder instead.\n",
            "\n",
            "W0616 19:10:37.909161 140628765251456 deprecation_wrapper.py:119] From /usr/local/lib/python3.6/dist-packages/keras/backend/tensorflow_backend.py:4138: The name tf.random_uniform is deprecated. Please use tf.random.uniform instead.\n",
            "\n",
            "W0616 19:10:38.115173 140628765251456 deprecation_wrapper.py:119] From /usr/local/lib/python3.6/dist-packages/keras/backend/tensorflow_backend.py:133: The name tf.placeholder_with_default is deprecated. Please use tf.compat.v1.placeholder_with_default instead.\n",
            "\n",
            "W0616 19:10:38.125272 140628765251456 deprecation.py:506] From /usr/local/lib/python3.6/dist-packages/keras/backend/tensorflow_backend.py:3445: calling dropout (from tensorflow.python.ops.nn_ops) with keep_prob is deprecated and will be removed in a future version.\n",
            "Instructions for updating:\n",
            "Please use `rate` instead of `keep_prob`. Rate should be set to `rate = 1 - keep_prob`.\n",
            "W0616 19:10:38.359336 140628765251456 deprecation_wrapper.py:119] From /usr/local/lib/python3.6/dist-packages/keras/optimizers.py:790: The name tf.train.Optimizer is deprecated. Please use tf.compat.v1.train.Optimizer instead.\n",
            "\n",
            "W0616 19:10:38.386603 140628765251456 deprecation_wrapper.py:119] From /usr/local/lib/python3.6/dist-packages/keras/backend/tensorflow_backend.py:3295: The name tf.log is deprecated. Please use tf.math.log instead.\n",
            "\n"
          ],
          "name": "stderr"
        }
      ]
    },
    {
      "cell_type": "code",
      "metadata": {
        "id": "s8WWag9JIqDb",
        "colab_type": "code",
        "colab": {
          "base_uri": "https://localhost:8080/",
          "height": 340
        },
        "outputId": "b3fc82ef-c547-485a-9f5b-1683702cb360"
      },
      "source": [
        "model.summary()"
      ],
      "execution_count": 24,
      "outputs": [
        {
          "output_type": "stream",
          "text": [
            "_________________________________________________________________\n",
            "Layer (type)                 Output Shape              Param #   \n",
            "=================================================================\n",
            "embedding_1 (Embedding)      (None, 140, 100)          3517900   \n",
            "_________________________________________________________________\n",
            "gru_1 (GRU)                  (None, 140, 50)           22650     \n",
            "_________________________________________________________________\n",
            "dropout_1 (Dropout)          (None, 140, 50)           0         \n",
            "_________________________________________________________________\n",
            "gru_2 (GRU)                  (None, 140, 50)           15150     \n",
            "_________________________________________________________________\n",
            "dropout_2 (Dropout)          (None, 140, 50)           0         \n",
            "_________________________________________________________________\n",
            "dense_1 (Dense)              (None, 140, 17)           867       \n",
            "=================================================================\n",
            "Total params: 3,556,567\n",
            "Trainable params: 3,556,567\n",
            "Non-trainable params: 0\n",
            "_________________________________________________________________\n"
          ],
          "name": "stdout"
        }
      ]
    },
    {
      "cell_type": "code",
      "metadata": {
        "id": "8wDSEa-YIqDe",
        "colab_type": "code",
        "colab": {
          "base_uri": "https://localhost:8080/",
          "height": 190
        },
        "outputId": "b4927877-6868-4da0-b09e-938643f44b58"
      },
      "source": [
        "%time\n",
        "model.fit(X_train, np.array(y_train), batch_size = 32, epochs = 1, validation_data=(X_test, np.array(y_test)))"
      ],
      "execution_count": 25,
      "outputs": [
        {
          "output_type": "stream",
          "text": [
            "CPU times: user 4 µs, sys: 0 ns, total: 4 µs\n",
            "Wall time: 9.06 µs\n"
          ],
          "name": "stdout"
        },
        {
          "output_type": "stream",
          "text": [
            "W0616 19:10:38.914417 140628765251456 deprecation.py:323] From /usr/local/lib/python3.6/dist-packages/tensorflow/python/ops/math_grad.py:1250: add_dispatch_support.<locals>.wrapper (from tensorflow.python.ops.array_ops) is deprecated and will be removed in a future version.\n",
            "Instructions for updating:\n",
            "Use tf.where in 2.0, which has the same broadcast rule as np.where\n"
          ],
          "name": "stderr"
        },
        {
          "output_type": "stream",
          "text": [
            "Train on 35970 samples, validate on 11989 samples\n",
            "Epoch 1/1\n",
            "35970/35970 [==============================] - 257s 7ms/step - loss: 0.1053 - acc: 0.9824 - f1_score: 0.9693 - val_loss: 0.0287 - val_acc: 0.9926 - val_f1_score: 0.9925\n"
          ],
          "name": "stdout"
        },
        {
          "output_type": "execute_result",
          "data": {
            "text/plain": [
              "<keras.callbacks.History at 0x7fe669317240>"
            ]
          },
          "metadata": {
            "tags": []
          },
          "execution_count": 25
        }
      ]
    },
    {
      "cell_type": "code",
      "metadata": {
        "id": "QAbkEKIOIqDg",
        "colab_type": "code",
        "colab": {
          "base_uri": "https://localhost:8080/",
          "height": 51
        },
        "outputId": "6ac36458-f1d3-4716-a6d9-2430e559a0c7"
      },
      "source": [
        "scores = model.evaluate(X_test, np.array(y_test))\n",
        "print(\"Accuracy: %.2f%%\" % (scores[1]*100))"
      ],
      "execution_count": 26,
      "outputs": [
        {
          "output_type": "stream",
          "text": [
            "11989/11989 [==============================] - 13s 1ms/step\n",
            "Accuracy: 99.26%\n"
          ],
          "name": "stdout"
        }
      ]
    },
    {
      "cell_type": "code",
      "metadata": {
        "id": "lsIPdai1eLFO",
        "colab_type": "code",
        "colab": {}
      },
      "source": [
        "#from sklearn.metrics import confusion_matrix\n",
        "#predictions = model.predict(X_test)\n",
        "#y_pred = np.argmax(predictions, axis=-1)\n",
        "#matrix = confusion_matrix(np.array(y_test).argmax(axis=1), y_pred)\n",
        "#matrix"
      ],
      "execution_count": 0,
      "outputs": []
    },
    {
      "cell_type": "markdown",
      "metadata": {
        "id": "fbgRk1zXriPU",
        "colab_type": "text"
      },
      "source": [
        "## Predictions"
      ]
    },
    {
      "cell_type": "code",
      "metadata": {
        "id": "eaoIGc1nKkuv",
        "colab_type": "code",
        "colab": {
          "base_uri": "https://localhost:8080/",
          "height": 2414
        },
        "outputId": "caf257c8-bd4d-4852-82f9-3d986d8c0914"
      },
      "source": [
        "i = 4\n",
        "p = model.predict(np.array([X_test[i]]))\n",
        "p = np.argmax(p, axis=-1)\n",
        "print(\"{:14} ({:5}): {}\".format(\"Word\", \"True\", \"Pred\"))\n",
        "for w,pred in zip(X_test[i],p[0]):\n",
        "  word = words[int(w)]\n",
        "  tag = tags[pred]\n",
        "  print(word, tag)"
      ],
      "execution_count": 45,
      "outputs": [
        {
          "output_type": "stream",
          "text": [
            "Word           (True ): Pred\n",
            "Police O\n",
            "in O\n",
            "Zimbabwe B-geo\n",
            "have O\n",
            "arrested O\n",
            "a O\n",
            "nephew O\n",
            "of O\n",
            "President B-per\n",
            "Robert I-per\n",
            "Mugabe I-per\n",
            "on O\n",
            "suspicion O\n",
            "of O\n",
            "smuggling O\n",
            "30 O\n",
            "tons O\n",
            "of O\n",
            "scarce O\n",
            "flour O\n",
            "to O\n",
            "neighboring O\n",
            "Mozambique B-geo\n",
            ". O\n",
            "ENDPAD O\n",
            "ENDPAD O\n",
            "ENDPAD O\n",
            "ENDPAD O\n",
            "ENDPAD O\n",
            "ENDPAD O\n",
            "ENDPAD O\n",
            "ENDPAD O\n",
            "ENDPAD O\n",
            "ENDPAD O\n",
            "ENDPAD O\n",
            "ENDPAD O\n",
            "ENDPAD O\n",
            "ENDPAD O\n",
            "ENDPAD O\n",
            "ENDPAD O\n",
            "ENDPAD O\n",
            "ENDPAD O\n",
            "ENDPAD O\n",
            "ENDPAD O\n",
            "ENDPAD O\n",
            "ENDPAD O\n",
            "ENDPAD O\n",
            "ENDPAD O\n",
            "ENDPAD O\n",
            "ENDPAD O\n",
            "ENDPAD O\n",
            "ENDPAD O\n",
            "ENDPAD O\n",
            "ENDPAD O\n",
            "ENDPAD O\n",
            "ENDPAD O\n",
            "ENDPAD O\n",
            "ENDPAD O\n",
            "ENDPAD O\n",
            "ENDPAD O\n",
            "ENDPAD O\n",
            "ENDPAD O\n",
            "ENDPAD O\n",
            "ENDPAD O\n",
            "ENDPAD O\n",
            "ENDPAD O\n",
            "ENDPAD O\n",
            "ENDPAD O\n",
            "ENDPAD O\n",
            "ENDPAD O\n",
            "ENDPAD O\n",
            "ENDPAD O\n",
            "ENDPAD O\n",
            "ENDPAD O\n",
            "ENDPAD O\n",
            "ENDPAD O\n",
            "ENDPAD O\n",
            "ENDPAD O\n",
            "ENDPAD O\n",
            "ENDPAD O\n",
            "ENDPAD O\n",
            "ENDPAD O\n",
            "ENDPAD O\n",
            "ENDPAD O\n",
            "ENDPAD O\n",
            "ENDPAD O\n",
            "ENDPAD O\n",
            "ENDPAD O\n",
            "ENDPAD O\n",
            "ENDPAD O\n",
            "ENDPAD O\n",
            "ENDPAD O\n",
            "ENDPAD O\n",
            "ENDPAD O\n",
            "ENDPAD O\n",
            "ENDPAD O\n",
            "ENDPAD O\n",
            "ENDPAD O\n",
            "ENDPAD O\n",
            "ENDPAD O\n",
            "ENDPAD O\n",
            "ENDPAD O\n",
            "ENDPAD O\n",
            "ENDPAD O\n",
            "ENDPAD O\n",
            "ENDPAD O\n",
            "ENDPAD O\n",
            "ENDPAD O\n",
            "ENDPAD O\n",
            "ENDPAD O\n",
            "ENDPAD O\n",
            "ENDPAD O\n",
            "ENDPAD O\n",
            "ENDPAD O\n",
            "ENDPAD O\n",
            "ENDPAD O\n",
            "ENDPAD O\n",
            "ENDPAD O\n",
            "ENDPAD O\n",
            "ENDPAD O\n",
            "ENDPAD O\n",
            "ENDPAD O\n",
            "ENDPAD O\n",
            "ENDPAD O\n",
            "ENDPAD O\n",
            "ENDPAD O\n",
            "ENDPAD O\n",
            "ENDPAD O\n",
            "ENDPAD O\n",
            "ENDPAD O\n",
            "ENDPAD O\n",
            "ENDPAD O\n",
            "ENDPAD O\n",
            "ENDPAD O\n",
            "ENDPAD O\n",
            "ENDPAD O\n",
            "ENDPAD O\n",
            "ENDPAD O\n",
            "ENDPAD O\n",
            "ENDPAD O\n"
          ],
          "name": "stdout"
        }
      ]
    },
    {
      "cell_type": "code",
      "metadata": {
        "id": "3boEKeRZhLo8",
        "colab_type": "code",
        "colab": {
          "base_uri": "https://localhost:8080/",
          "height": 425
        },
        "outputId": "e06b67b1-d562-41a8-c0b0-bfc28f7fd23f"
      },
      "source": [
        "sentences[35974]"
      ],
      "execution_count": 29,
      "outputs": [
        {
          "output_type": "execute_result",
          "data": {
            "text/plain": [
              "[('Police', 'O'),\n",
              " ('in', 'O'),\n",
              " ('Zimbabwe', 'B-geo'),\n",
              " ('have', 'O'),\n",
              " ('arrested', 'O'),\n",
              " ('a', 'O'),\n",
              " ('nephew', 'O'),\n",
              " ('of', 'O'),\n",
              " ('President', 'B-per'),\n",
              " ('Robert', 'I-per'),\n",
              " ('Mugabe', 'I-per'),\n",
              " ('on', 'O'),\n",
              " ('suspicion', 'O'),\n",
              " ('of', 'O'),\n",
              " ('smuggling', 'O'),\n",
              " ('30', 'O'),\n",
              " ('tons', 'O'),\n",
              " ('of', 'O'),\n",
              " ('scarce', 'O'),\n",
              " ('flour', 'O'),\n",
              " ('to', 'O'),\n",
              " ('neighboring', 'O'),\n",
              " ('Mozambique', 'B-geo'),\n",
              " ('.', 'O')]"
            ]
          },
          "metadata": {
            "tags": []
          },
          "execution_count": 29
        }
      ]
    },
    {
      "cell_type": "code",
      "metadata": {
        "id": "e9Dt2ZISrYTO",
        "colab_type": "code",
        "colab": {}
      },
      "source": [
        "test_array = [\"The programmers from Barcelona might write a sentence without a spell checker.\",\n",
        "              \"The programmers from Barchelona cannot write a sentence without a spell checker.\",\n",
        "              \"Jack London went to Parris.\",\n",
        "              \"Jack London went to Paris.\",\n",
        "              \"We never though Microsoft would become such a big company.\",\n",
        "              \"We never though Microsof would become such a big company.\",\n",
        "              \"The president of U.S.A though they could win the war\",\n",
        "              \"The president of the United States of America though they could win the war\",\n",
        "              \"The king of Saudi Arabia wanted total control.\",\n",
        "              \"Robin does not want to go to Saudi Arabia.\"]"
      ],
      "execution_count": 0,
      "outputs": []
    },
    {
      "cell_type": "code",
      "metadata": {
        "id": "cf22yxNdLKjl",
        "colab_type": "code",
        "colab": {
          "base_uri": "https://localhost:8080/",
          "height": 204
        },
        "outputId": "a56b5ea7-4fca-4169-f510-c39c3335d403"
      },
      "source": [
        "testt = [word2idx[w] for w in word_tokenize(test_array[])]\n",
        "padded = pad_sequences(maxlen=140, sequences=[testt], padding=\"post\", value = 35178)\n",
        "p = model.predict(padded)\n",
        "p = np.argmax(p, axis=-1)\n",
        "print(\"{:14} ({:5}): {}\".format(\"Word\", \"True\", \"Pred\"))\n",
        "for w,pred in zip(np.array(testt),p[0]):\n",
        "  word = words[int(w)]\n",
        "  tag = tags[pred]\n",
        "  print(word, tag)"
      ],
      "execution_count": 39,
      "outputs": [
        {
          "output_type": "stream",
          "text": [
            "Word           (True ): Pred\n",
            "Robin B-per\n",
            "does O\n",
            "not O\n",
            "want O\n",
            "to O\n",
            "go O\n",
            "to O\n",
            "Saudi B-org\n",
            "Arabia I-geo\n",
            ". O\n"
          ],
          "name": "stdout"
        }
      ]
    },
    {
      "cell_type": "code",
      "metadata": {
        "id": "q8DjclntquFt",
        "colab_type": "code",
        "colab": {
          "base_uri": "https://localhost:8080/",
          "height": 855
        },
        "outputId": "30f62eeb-5c71-4fdd-d5b7-1b4e69cae2cb"
      },
      "source": [
        "df.query('Word == \"Microsoft\"')"
      ],
      "execution_count": 56,
      "outputs": [
        {
          "output_type": "execute_result",
          "data": {
            "text/html": [
              "<div>\n",
              "<style scoped>\n",
              "    .dataframe tbody tr th:only-of-type {\n",
              "        vertical-align: middle;\n",
              "    }\n",
              "\n",
              "    .dataframe tbody tr th {\n",
              "        vertical-align: top;\n",
              "    }\n",
              "\n",
              "    .dataframe thead th {\n",
              "        text-align: right;\n",
              "    }\n",
              "</style>\n",
              "<table border=\"1\" class=\"dataframe\">\n",
              "  <thead>\n",
              "    <tr style=\"text-align: right;\">\n",
              "      <th></th>\n",
              "      <th>Sentence_ID</th>\n",
              "      <th>Word</th>\n",
              "      <th>POS</th>\n",
              "      <th>Tag</th>\n",
              "    </tr>\n",
              "  </thead>\n",
              "  <tbody>\n",
              "    <tr>\n",
              "      <th>62485</th>\n",
              "      <td>2828</td>\n",
              "      <td>Microsoft</td>\n",
              "      <td>NNP</td>\n",
              "      <td>B-org</td>\n",
              "    </tr>\n",
              "    <tr>\n",
              "      <th>62577</th>\n",
              "      <td>2831</td>\n",
              "      <td>Microsoft</td>\n",
              "      <td>NNP</td>\n",
              "      <td>B-org</td>\n",
              "    </tr>\n",
              "    <tr>\n",
              "      <th>98283</th>\n",
              "      <td>4471</td>\n",
              "      <td>Microsoft</td>\n",
              "      <td>NNP</td>\n",
              "      <td>B-org</td>\n",
              "    </tr>\n",
              "    <tr>\n",
              "      <th>214596</th>\n",
              "      <td>9833</td>\n",
              "      <td>Microsoft</td>\n",
              "      <td>NNP</td>\n",
              "      <td>B-org</td>\n",
              "    </tr>\n",
              "    <tr>\n",
              "      <th>218799</th>\n",
              "      <td>10021</td>\n",
              "      <td>Microsoft</td>\n",
              "      <td>NNP</td>\n",
              "      <td>B-org</td>\n",
              "    </tr>\n",
              "    <tr>\n",
              "      <th>220664</th>\n",
              "      <td>10103</td>\n",
              "      <td>Microsoft</td>\n",
              "      <td>NNP</td>\n",
              "      <td>B-org</td>\n",
              "    </tr>\n",
              "    <tr>\n",
              "      <th>238391</th>\n",
              "      <td>10917</td>\n",
              "      <td>Microsoft</td>\n",
              "      <td>NNP</td>\n",
              "      <td>B-org</td>\n",
              "    </tr>\n",
              "    <tr>\n",
              "      <th>294123</th>\n",
              "      <td>13471</td>\n",
              "      <td>Microsoft</td>\n",
              "      <td>NNP</td>\n",
              "      <td>B-org</td>\n",
              "    </tr>\n",
              "    <tr>\n",
              "      <th>294153</th>\n",
              "      <td>13472</td>\n",
              "      <td>Microsoft</td>\n",
              "      <td>NNP</td>\n",
              "      <td>B-org</td>\n",
              "    </tr>\n",
              "    <tr>\n",
              "      <th>294192</th>\n",
              "      <td>13474</td>\n",
              "      <td>Microsoft</td>\n",
              "      <td>NNP</td>\n",
              "      <td>B-org</td>\n",
              "    </tr>\n",
              "    <tr>\n",
              "      <th>294221</th>\n",
              "      <td>13475</td>\n",
              "      <td>Microsoft</td>\n",
              "      <td>NNP</td>\n",
              "      <td>B-org</td>\n",
              "    </tr>\n",
              "    <tr>\n",
              "      <th>294248</th>\n",
              "      <td>13475</td>\n",
              "      <td>Microsoft</td>\n",
              "      <td>NNP</td>\n",
              "      <td>B-org</td>\n",
              "    </tr>\n",
              "    <tr>\n",
              "      <th>294254</th>\n",
              "      <td>13476</td>\n",
              "      <td>Microsoft</td>\n",
              "      <td>NNP</td>\n",
              "      <td>B-org</td>\n",
              "    </tr>\n",
              "    <tr>\n",
              "      <th>345707</th>\n",
              "      <td>15815</td>\n",
              "      <td>Microsoft</td>\n",
              "      <td>NNP</td>\n",
              "      <td>B-org</td>\n",
              "    </tr>\n",
              "    <tr>\n",
              "      <th>345726</th>\n",
              "      <td>15817</td>\n",
              "      <td>Microsoft</td>\n",
              "      <td>NNP</td>\n",
              "      <td>B-org</td>\n",
              "    </tr>\n",
              "    <tr>\n",
              "      <th>345751</th>\n",
              "      <td>15818</td>\n",
              "      <td>Microsoft</td>\n",
              "      <td>NNP</td>\n",
              "      <td>B-org</td>\n",
              "    </tr>\n",
              "    <tr>\n",
              "      <th>393340</th>\n",
              "      <td>17983</td>\n",
              "      <td>Microsoft</td>\n",
              "      <td>NNP</td>\n",
              "      <td>B-org</td>\n",
              "    </tr>\n",
              "    <tr>\n",
              "      <th>393396</th>\n",
              "      <td>17985</td>\n",
              "      <td>Microsoft</td>\n",
              "      <td>NNP</td>\n",
              "      <td>B-org</td>\n",
              "    </tr>\n",
              "    <tr>\n",
              "      <th>393406</th>\n",
              "      <td>17986</td>\n",
              "      <td>Microsoft</td>\n",
              "      <td>NNP</td>\n",
              "      <td>B-org</td>\n",
              "    </tr>\n",
              "    <tr>\n",
              "      <th>403013</th>\n",
              "      <td>18417</td>\n",
              "      <td>Microsoft</td>\n",
              "      <td>NNP</td>\n",
              "      <td>B-org</td>\n",
              "    </tr>\n",
              "    <tr>\n",
              "      <th>433471</th>\n",
              "      <td>19787</td>\n",
              "      <td>Microsoft</td>\n",
              "      <td>NNP</td>\n",
              "      <td>B-org</td>\n",
              "    </tr>\n",
              "    <tr>\n",
              "      <th>433536</th>\n",
              "      <td>19789</td>\n",
              "      <td>Microsoft</td>\n",
              "      <td>NNP</td>\n",
              "      <td>B-org</td>\n",
              "    </tr>\n",
              "    <tr>\n",
              "      <th>433551</th>\n",
              "      <td>19790</td>\n",
              "      <td>Microsoft</td>\n",
              "      <td>NNP</td>\n",
              "      <td>B-org</td>\n",
              "    </tr>\n",
              "    <tr>\n",
              "      <th>433565</th>\n",
              "      <td>19790</td>\n",
              "      <td>Microsoft</td>\n",
              "      <td>NNP</td>\n",
              "      <td>B-org</td>\n",
              "    </tr>\n",
              "    <tr>\n",
              "      <th>433586</th>\n",
              "      <td>19791</td>\n",
              "      <td>Microsoft</td>\n",
              "      <td>NNP</td>\n",
              "      <td>B-org</td>\n",
              "    </tr>\n",
              "    <tr>\n",
              "      <th>484271</th>\n",
              "      <td>22158</td>\n",
              "      <td>Microsoft</td>\n",
              "      <td>NNP</td>\n",
              "      <td>B-org</td>\n",
              "    </tr>\n",
              "  </tbody>\n",
              "</table>\n",
              "</div>"
            ],
            "text/plain": [
              "       Sentence_ID       Word  POS    Tag\n",
              "62485         2828  Microsoft  NNP  B-org\n",
              "62577         2831  Microsoft  NNP  B-org\n",
              "98283         4471  Microsoft  NNP  B-org\n",
              "214596        9833  Microsoft  NNP  B-org\n",
              "218799       10021  Microsoft  NNP  B-org\n",
              "220664       10103  Microsoft  NNP  B-org\n",
              "238391       10917  Microsoft  NNP  B-org\n",
              "294123       13471  Microsoft  NNP  B-org\n",
              "294153       13472  Microsoft  NNP  B-org\n",
              "294192       13474  Microsoft  NNP  B-org\n",
              "294221       13475  Microsoft  NNP  B-org\n",
              "294248       13475  Microsoft  NNP  B-org\n",
              "294254       13476  Microsoft  NNP  B-org\n",
              "345707       15815  Microsoft  NNP  B-org\n",
              "345726       15817  Microsoft  NNP  B-org\n",
              "345751       15818  Microsoft  NNP  B-org\n",
              "393340       17983  Microsoft  NNP  B-org\n",
              "393396       17985  Microsoft  NNP  B-org\n",
              "393406       17986  Microsoft  NNP  B-org\n",
              "403013       18417  Microsoft  NNP  B-org\n",
              "433471       19787  Microsoft  NNP  B-org\n",
              "433536       19789  Microsoft  NNP  B-org\n",
              "433551       19790  Microsoft  NNP  B-org\n",
              "433565       19790  Microsoft  NNP  B-org\n",
              "433586       19791  Microsoft  NNP  B-org\n",
              "484271       22158  Microsoft  NNP  B-org"
            ]
          },
          "metadata": {
            "tags": []
          },
          "execution_count": 56
        }
      ]
    }
  ]
}